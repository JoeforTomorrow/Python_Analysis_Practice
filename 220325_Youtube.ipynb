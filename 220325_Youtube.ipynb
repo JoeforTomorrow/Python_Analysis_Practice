{
  "nbformat": 4,
  "nbformat_minor": 0,
  "metadata": {
    "colab": {
      "name": "Youtube",
      "provenance": [],
      "collapsed_sections": [],
      "authorship_tag": "ABX9TyNDiMvd5ukEhGl3lUfXpUNt"
    },
    "kernelspec": {
      "name": "python3",
      "display_name": "Python 3"
    },
    "language_info": {
      "name": "python"
    }
  },
  "cells": [
    {
      "cell_type": "markdown",
      "source": [
        "# 데이터 전처리 연습"
      ],
      "metadata": {
        "id": "dlelW5PYA_vj"
      }
    },
    {
      "cell_type": "markdown",
      "source": [
        "## 기본 설정 및 패키지 로드"
      ],
      "metadata": {
        "id": "umlSXNvwyHB4"
      }
    },
    {
      "cell_type": "code",
      "execution_count": null,
      "metadata": {
        "id": "EWz3pXizrNe_"
      },
      "outputs": [],
      "source": [
        "!sudo apt-get install -y fonts-nanum\n",
        "!sudo fc-cache -fv\n",
        "!rm ~/.cache/matplotlib -rf"
      ]
    },
    {
      "cell_type": "code",
      "source": [
        "import matplotlib.pyplot as plt\n",
        "plt.rc('font', family='NanumBarunGothic')\n",
        "%config InlineBackend.figure_format = 'retina'"
      ],
      "metadata": {
        "id": "DcUlDcZwrxuh"
      },
      "execution_count": null,
      "outputs": []
    },
    {
      "cell_type": "code",
      "source": [
        "import pandas as pd\n",
        "import numpy as np\n",
        "import matplotlib.pyplot as plt\n",
        "import seaborn as sns"
      ],
      "metadata": {
        "id": "XT6xM-qB9em6"
      },
      "execution_count": null,
      "outputs": []
    },
    {
      "cell_type": "code",
      "source": [
        "from google.colab import drive\n",
        "drive.mount('/content/drive')"
      ],
      "metadata": {
        "colab": {
          "base_uri": "https://localhost:8080/"
        },
        "id": "hnl-X4nTsCwR",
        "outputId": "198afce7-28a4-4776-9d27-e476b4da4db1"
      },
      "execution_count": null,
      "outputs": [
        {
          "output_type": "stream",
          "name": "stdout",
          "text": [
            "Mounted at /content/drive\n"
          ]
        }
      ]
    },
    {
      "cell_type": "code",
      "source": [
        "_FILE_PATH=\"/content/drive/MyDrive/kr_youtube_data.csv\""
      ],
      "metadata": {
        "id": "sl6ap7bVsjaN"
      },
      "execution_count": null,
      "outputs": []
    },
    {
      "cell_type": "code",
      "source": [
        "plt.plot([0,1],[1,0],label=\"한글 테스트용\",)\n",
        "plt.legend()\n",
        "plt.show()"
      ],
      "metadata": {
        "id": "Ol7HBPRat6ig"
      },
      "execution_count": null,
      "outputs": []
    },
    {
      "cell_type": "code",
      "source": [
        "import pandas as pd\n",
        "import seaborn as sns"
      ],
      "metadata": {
        "id": "Z6e0dJhOukrC"
      },
      "execution_count": null,
      "outputs": []
    },
    {
      "cell_type": "markdown",
      "source": [
        "## 데이터 로드 및 전처리"
      ],
      "metadata": {
        "id": "bFwODOOryT2V"
      }
    },
    {
      "cell_type": "markdown",
      "source": [
        "### 데이터 로드"
      ],
      "metadata": {
        "id": "EYnTADVoysBT"
      }
    },
    {
      "cell_type": "code",
      "source": [
        "df = pd.read_csv(_FILE_PATH)"
      ],
      "metadata": {
        "id": "tqJ24Mt3und5"
      },
      "execution_count": null,
      "outputs": []
    },
    {
      "cell_type": "markdown",
      "source": [
        "전체적인 자료를 확인하고, 영상설명을 제외한 다른 모든 항목에 결측치가 없음을 확인"
      ],
      "metadata": {
        "id": "PlYjdVZJ2ZSa"
      }
    },
    {
      "cell_type": "code",
      "source": [
        "df.info()"
      ],
      "metadata": {
        "colab": {
          "base_uri": "https://localhost:8080/"
        },
        "id": "Q_va6BqK3mqF",
        "outputId": "5939b267-8a59-4f9d-9ccf-c96019f11611"
      },
      "execution_count": null,
      "outputs": [
        {
          "output_type": "stream",
          "name": "stdout",
          "text": [
            "<class 'pandas.core.frame.DataFrame'>\n",
            "RangeIndex: 115754 entries, 0 to 115753\n",
            "Data columns (total 16 columns):\n",
            " #   Column             Non-Null Count   Dtype \n",
            "---  ------             --------------   ----- \n",
            " 0   video_id           115754 non-null  object\n",
            " 1   title              115754 non-null  object\n",
            " 2   publishedAt        115754 non-null  object\n",
            " 3   channelId          115754 non-null  object\n",
            " 4   channelTitle       115754 non-null  object\n",
            " 5   categoryId         115754 non-null  int64 \n",
            " 6   trending_date      115754 non-null  object\n",
            " 7   tags               115754 non-null  object\n",
            " 8   view_count         115754 non-null  int64 \n",
            " 9   likes              115754 non-null  int64 \n",
            " 10  dislikes           115754 non-null  int64 \n",
            " 11  comment_count      115754 non-null  int64 \n",
            " 12  thumbnail_link     115754 non-null  object\n",
            " 13  comments_disabled  115754 non-null  bool  \n",
            " 14  ratings_disabled   115754 non-null  bool  \n",
            " 15  description        112458 non-null  object\n",
            "dtypes: bool(2), int64(5), object(9)\n",
            "memory usage: 12.6+ MB\n"
          ]
        }
      ]
    },
    {
      "cell_type": "markdown",
      "source": [
        "### 데이터 전처리"
      ],
      "metadata": {
        "id": "qKwQM7mpyoKg"
      }
    },
    {
      "cell_type": "markdown",
      "source": [
        "- 영상 설명, 영상의 고유 아이디, 썸네일 링크, 채널 고유 번호와 같이, 불필요한 데이터 삭제"
      ],
      "metadata": {
        "id": "nZ6yPeBByytT"
      }
    },
    {
      "cell_type": "code",
      "source": [
        "delete_cols = ['description','video_id','thumbnail_link','channelId']\n",
        "df_droped = df.drop(delete_cols, axis=1)\n",
        "df_droped.head()"
      ],
      "metadata": {
        "id": "Lp880_9g3FTt",
        "colab": {
          "base_uri": "https://localhost:8080/",
          "height": 790
        },
        "outputId": "48d3bf46-1f4b-4a5c-c0ec-c2d36e216f1d"
      },
      "execution_count": null,
      "outputs": [
        {
          "output_type": "execute_result",
          "data": {
            "text/plain": [
              "                                              title           publishedAt  \\\n",
              "0                                       안녕하세요 보겸입니다  2020-08-09T09:32:48Z   \n",
              "1                                부락토스의 계획 [총몇명 프리퀄]  2020-08-12T09:00:08Z   \n",
              "2                                   평생 반성하면서 살겠습니다.  2020-08-10T09:54:13Z   \n",
              "3                              안녕하세요 꽈뚜룹입니다.  2020-08-11T15:00:58Z   \n",
              "4  박진영 (J.Y. Park) When We Disco (Duet with 선미) M/V  2020-08-11T09:00:13Z   \n",
              "\n",
              "        channelTitle  categoryId         trending_date  \\\n",
              "0              보겸 BK          24  2020-08-12T00:00:00Z   \n",
              "1                총몇명           1  2020-08-12T00:00:00Z   \n",
              "2        양팡 YangPang          22  2020-08-12T00:00:00Z   \n",
              "3      꽈뚜룹 Quaddurup          24  2020-08-12T00:00:00Z   \n",
              "4  JYP Entertainment          10  2020-08-12T00:00:00Z   \n",
              "\n",
              "                                                tags  view_count   likes  \\\n",
              "0                                          보겸|bokyem     5947503   53326   \n",
              "1                총몇명|재밌는 만화|부락토스|루시퍼|총몇명 프리퀄|총몇명 스토리      963384   28244   \n",
              "2  양팡|양팡유튜브|팡튜브|가족시트콤|양팡가족|양팡가족시트콤|양팡언니|현실남매|현실자매...     2950885   17974   \n",
              "3  꽈뚜룹|한국여행기|quaddurup|뚜룹이|korea|southkorea|vlog|...     1743374   36893   \n",
              "4  JYP Entertainment|JYP|J.Y.Park|JYPark|박진영|선미|S...     3433885  353337   \n",
              "\n",
              "   dislikes  comment_count  comments_disabled  ratings_disabled  \n",
              "0    105756         139946              False             False  \n",
              "1       494           3339              False             False  \n",
              "2     68898          50688              False             False  \n",
              "3      1798           8751              False             False  \n",
              "4      9763          23405              False             False  "
            ],
            "text/html": [
              "\n",
              "  <div id=\"df-922c381a-e3c0-4ce0-a7a1-7ced79c088aa\">\n",
              "    <div class=\"colab-df-container\">\n",
              "      <div>\n",
              "<style scoped>\n",
              "    .dataframe tbody tr th:only-of-type {\n",
              "        vertical-align: middle;\n",
              "    }\n",
              "\n",
              "    .dataframe tbody tr th {\n",
              "        vertical-align: top;\n",
              "    }\n",
              "\n",
              "    .dataframe thead th {\n",
              "        text-align: right;\n",
              "    }\n",
              "</style>\n",
              "<table border=\"1\" class=\"dataframe\">\n",
              "  <thead>\n",
              "    <tr style=\"text-align: right;\">\n",
              "      <th></th>\n",
              "      <th>title</th>\n",
              "      <th>publishedAt</th>\n",
              "      <th>channelTitle</th>\n",
              "      <th>categoryId</th>\n",
              "      <th>trending_date</th>\n",
              "      <th>tags</th>\n",
              "      <th>view_count</th>\n",
              "      <th>likes</th>\n",
              "      <th>dislikes</th>\n",
              "      <th>comment_count</th>\n",
              "      <th>comments_disabled</th>\n",
              "      <th>ratings_disabled</th>\n",
              "    </tr>\n",
              "  </thead>\n",
              "  <tbody>\n",
              "    <tr>\n",
              "      <th>0</th>\n",
              "      <td>안녕하세요 보겸입니다</td>\n",
              "      <td>2020-08-09T09:32:48Z</td>\n",
              "      <td>보겸 BK</td>\n",
              "      <td>24</td>\n",
              "      <td>2020-08-12T00:00:00Z</td>\n",
              "      <td>보겸|bokyem</td>\n",
              "      <td>5947503</td>\n",
              "      <td>53326</td>\n",
              "      <td>105756</td>\n",
              "      <td>139946</td>\n",
              "      <td>False</td>\n",
              "      <td>False</td>\n",
              "    </tr>\n",
              "    <tr>\n",
              "      <th>1</th>\n",
              "      <td>부락토스의 계획 [총몇명 프리퀄]</td>\n",
              "      <td>2020-08-12T09:00:08Z</td>\n",
              "      <td>총몇명</td>\n",
              "      <td>1</td>\n",
              "      <td>2020-08-12T00:00:00Z</td>\n",
              "      <td>총몇명|재밌는 만화|부락토스|루시퍼|총몇명 프리퀄|총몇명 스토리</td>\n",
              "      <td>963384</td>\n",
              "      <td>28244</td>\n",
              "      <td>494</td>\n",
              "      <td>3339</td>\n",
              "      <td>False</td>\n",
              "      <td>False</td>\n",
              "    </tr>\n",
              "    <tr>\n",
              "      <th>2</th>\n",
              "      <td>평생 반성하면서 살겠습니다.</td>\n",
              "      <td>2020-08-10T09:54:13Z</td>\n",
              "      <td>양팡 YangPang</td>\n",
              "      <td>22</td>\n",
              "      <td>2020-08-12T00:00:00Z</td>\n",
              "      <td>양팡|양팡유튜브|팡튜브|가족시트콤|양팡가족|양팡가족시트콤|양팡언니|현실남매|현실자매...</td>\n",
              "      <td>2950885</td>\n",
              "      <td>17974</td>\n",
              "      <td>68898</td>\n",
              "      <td>50688</td>\n",
              "      <td>False</td>\n",
              "      <td>False</td>\n",
              "    </tr>\n",
              "    <tr>\n",
              "      <th>3</th>\n",
              "      <td>안녕하세요 꽈뚜룹입니다.</td>\n",
              "      <td>2020-08-11T15:00:58Z</td>\n",
              "      <td>꽈뚜룹 Quaddurup</td>\n",
              "      <td>24</td>\n",
              "      <td>2020-08-12T00:00:00Z</td>\n",
              "      <td>꽈뚜룹|한국여행기|quaddurup|뚜룹이|korea|southkorea|vlog|...</td>\n",
              "      <td>1743374</td>\n",
              "      <td>36893</td>\n",
              "      <td>1798</td>\n",
              "      <td>8751</td>\n",
              "      <td>False</td>\n",
              "      <td>False</td>\n",
              "    </tr>\n",
              "    <tr>\n",
              "      <th>4</th>\n",
              "      <td>박진영 (J.Y. Park) When We Disco (Duet with 선미) M/V</td>\n",
              "      <td>2020-08-11T09:00:13Z</td>\n",
              "      <td>JYP Entertainment</td>\n",
              "      <td>10</td>\n",
              "      <td>2020-08-12T00:00:00Z</td>\n",
              "      <td>JYP Entertainment|JYP|J.Y.Park|JYPark|박진영|선미|S...</td>\n",
              "      <td>3433885</td>\n",
              "      <td>353337</td>\n",
              "      <td>9763</td>\n",
              "      <td>23405</td>\n",
              "      <td>False</td>\n",
              "      <td>False</td>\n",
              "    </tr>\n",
              "  </tbody>\n",
              "</table>\n",
              "</div>\n",
              "      <button class=\"colab-df-convert\" onclick=\"convertToInteractive('df-922c381a-e3c0-4ce0-a7a1-7ced79c088aa')\"\n",
              "              title=\"Convert this dataframe to an interactive table.\"\n",
              "              style=\"display:none;\">\n",
              "        \n",
              "  <svg xmlns=\"http://www.w3.org/2000/svg\" height=\"24px\"viewBox=\"0 0 24 24\"\n",
              "       width=\"24px\">\n",
              "    <path d=\"M0 0h24v24H0V0z\" fill=\"none\"/>\n",
              "    <path d=\"M18.56 5.44l.94 2.06.94-2.06 2.06-.94-2.06-.94-.94-2.06-.94 2.06-2.06.94zm-11 1L8.5 8.5l.94-2.06 2.06-.94-2.06-.94L8.5 2.5l-.94 2.06-2.06.94zm10 10l.94 2.06.94-2.06 2.06-.94-2.06-.94-.94-2.06-.94 2.06-2.06.94z\"/><path d=\"M17.41 7.96l-1.37-1.37c-.4-.4-.92-.59-1.43-.59-.52 0-1.04.2-1.43.59L10.3 9.45l-7.72 7.72c-.78.78-.78 2.05 0 2.83L4 21.41c.39.39.9.59 1.41.59.51 0 1.02-.2 1.41-.59l7.78-7.78 2.81-2.81c.8-.78.8-2.07 0-2.86zM5.41 20L4 18.59l7.72-7.72 1.47 1.35L5.41 20z\"/>\n",
              "  </svg>\n",
              "      </button>\n",
              "      \n",
              "  <style>\n",
              "    .colab-df-container {\n",
              "      display:flex;\n",
              "      flex-wrap:wrap;\n",
              "      gap: 12px;\n",
              "    }\n",
              "\n",
              "    .colab-df-convert {\n",
              "      background-color: #E8F0FE;\n",
              "      border: none;\n",
              "      border-radius: 50%;\n",
              "      cursor: pointer;\n",
              "      display: none;\n",
              "      fill: #1967D2;\n",
              "      height: 32px;\n",
              "      padding: 0 0 0 0;\n",
              "      width: 32px;\n",
              "    }\n",
              "\n",
              "    .colab-df-convert:hover {\n",
              "      background-color: #E2EBFA;\n",
              "      box-shadow: 0px 1px 2px rgba(60, 64, 67, 0.3), 0px 1px 3px 1px rgba(60, 64, 67, 0.15);\n",
              "      fill: #174EA6;\n",
              "    }\n",
              "\n",
              "    [theme=dark] .colab-df-convert {\n",
              "      background-color: #3B4455;\n",
              "      fill: #D2E3FC;\n",
              "    }\n",
              "\n",
              "    [theme=dark] .colab-df-convert:hover {\n",
              "      background-color: #434B5C;\n",
              "      box-shadow: 0px 1px 3px 1px rgba(0, 0, 0, 0.15);\n",
              "      filter: drop-shadow(0px 1px 2px rgba(0, 0, 0, 0.3));\n",
              "      fill: #FFFFFF;\n",
              "    }\n",
              "  </style>\n",
              "\n",
              "      <script>\n",
              "        const buttonEl =\n",
              "          document.querySelector('#df-922c381a-e3c0-4ce0-a7a1-7ced79c088aa button.colab-df-convert');\n",
              "        buttonEl.style.display =\n",
              "          google.colab.kernel.accessAllowed ? 'block' : 'none';\n",
              "\n",
              "        async function convertToInteractive(key) {\n",
              "          const element = document.querySelector('#df-922c381a-e3c0-4ce0-a7a1-7ced79c088aa');\n",
              "          const dataTable =\n",
              "            await google.colab.kernel.invokeFunction('convertToInteractive',\n",
              "                                                     [key], {});\n",
              "          if (!dataTable) return;\n",
              "\n",
              "          const docLinkHtml = 'Like what you see? Visit the ' +\n",
              "            '<a target=\"_blank\" href=https://colab.research.google.com/notebooks/data_table.ipynb>data table notebook</a>'\n",
              "            + ' to learn more about interactive tables.';\n",
              "          element.innerHTML = '';\n",
              "          dataTable['output_type'] = 'display_data';\n",
              "          await google.colab.output.renderOutput(dataTable, element);\n",
              "          const docLink = document.createElement('div');\n",
              "          docLink.innerHTML = docLinkHtml;\n",
              "          element.appendChild(docLink);\n",
              "        }\n",
              "      </script>\n",
              "    </div>\n",
              "  </div>\n",
              "  "
            ]
          },
          "metadata": {},
          "execution_count": 9
        }
      ]
    },
    {
      "cell_type": "markdown",
      "source": [
        "조회수 기준 내림차순으로 정렬한 뒤, 중복 데이터를 삭제"
      ],
      "metadata": {
        "id": "sFtmqMXizsa6"
      }
    },
    {
      "cell_type": "code",
      "source": [
        "df_sorted = df_droped.sort_values(by=\"view_count\", ascending = False)"
      ],
      "metadata": {
        "id": "mLXNPCGFACmi"
      },
      "execution_count": null,
      "outputs": []
    },
    {
      "cell_type": "code",
      "source": [
        "df_dup = df_sorted.drop_duplicates([\"title\",\"channelTitle\"],keep='first')\n",
        "df_dup[:100]"
      ],
      "metadata": {
        "colab": {
          "base_uri": "https://localhost:8080/",
          "height": 1000
        },
        "id": "QmYu6RLhAYW_",
        "outputId": "4ae0ab10-95b4-4df8-ec6f-3e52d0d8b4ed"
      },
      "execution_count": null,
      "outputs": [
        {
          "output_type": "execute_result",
          "data": {
            "text/plain": [
              "                                                   title  \\\n",
              "55138                   BTS (방탄소년단) 'Butter' Official MV   \n",
              "2733                  BTS (방탄소년단) 'Dynamite' Official MV   \n",
              "67539      BTS (방탄소년단) 'Permission to Dance' Official MV   \n",
              "79542                                LISA - 'LALISA' M/V   \n",
              "3426     BLACKPINK - 'Ice Cream (with Selena Gomez)' M/V   \n",
              "...                                                  ...   \n",
              "88529            NCT 127 엔시티 127 'Favorite (Vampire)' MV   \n",
              "89742                       THE BOYZ(더보이즈) ‘MAVERICK’ MV   \n",
              "34335  The Weeknd’s FULL Pepsi Super Bowl LV Halftime...   \n",
              "79546                      LISA - 'LALISA' SPECIAL STAGE   \n",
              "12472             SEVENTEEN (세븐틴) 'HOME;RUN' Official MV   \n",
              "\n",
              "                publishedAt    channelTitle  categoryId         trending_date  \\\n",
              "55138  2021-05-21T03:46:13Z     HYBE LABELS          10  2021-06-04T00:00:00Z   \n",
              "2733   2020-08-21T03:58:10Z  Big Hit Labels          10  2020-08-31T00:00:00Z   \n",
              "67539  2021-07-09T03:59:12Z     HYBE LABELS          10  2021-07-24T00:00:00Z   \n",
              "79542  2021-09-10T04:00:13Z       BLACKPINK          10  2021-09-22T00:00:00Z   \n",
              "3426   2020-08-28T04:00:11Z       BLACKPINK          10  2020-09-05T00:00:00Z   \n",
              "...                     ...             ...         ...                   ...   \n",
              "88529  2021-10-25T09:01:41Z          SMTOWN          10  2021-11-06T00:00:00Z   \n",
              "89742  2021-11-01T09:00:01Z        THE BOYZ          10  2021-11-12T00:00:00Z   \n",
              "34335  2021-02-08T01:57:48Z             NFL          17  2021-02-18T00:00:00Z   \n",
              "79546  2021-09-12T15:00:00Z       BLACKPINK          10  2021-09-22T00:00:00Z   \n",
              "12472  2020-10-19T09:00:00Z  Big Hit Labels          10  2020-10-27T00:00:00Z   \n",
              "\n",
              "                                                    tags  view_count  \\\n",
              "55138                    BIGHIT|빅히트|방탄소년단|BTS|BANGTAN|방탄   296314174   \n",
              "2733                     BIGHIT|빅히트|방탄소년단|BTS|BANGTAN|방탄   262319276   \n",
              "67539                       HYBE|HYBE LABELS|하이브|하이브레이블즈   194795844   \n",
              "79542  YG Entertainment|YG|와이지|K-pop|BLACKPINK|블랙핑크|블...   192376395   \n",
              "3426   YG Entertainment|YG|와이지|K-pop|BLACKPINK|블랙핑크|블...   184778248   \n",
              "...                                                  ...         ...   \n",
              "88529                                             [None]    28978347   \n",
              "89742  크래커엔터테인먼트|Cre.ker Entertainment|크래커|Creker|THE...    28791271   \n",
              "34335  Tampa Bay Buccaneers|Kansas City Chiefs|super ...    28248100   \n",
              "79546  YG Entertainment|YG|와이지|K-pop|BLACKPINK|블랙핑크|블...    28082757   \n",
              "12472  에스쿱스|정한|조슈아|준|호시|원우|우지|디에잇|민규|도겸|승관|버논|디노|SCOU...    27588804   \n",
              "\n",
              "          likes  dislikes  comment_count  comments_disabled  ratings_disabled  \n",
              "55138  16464253    181350        6939302              False             False  \n",
              "2733   16254784    770144        6303708              False             False  \n",
              "67539  12767906    136328        2903747              False             False  \n",
              "79542  12177724    151884        2498669              False             False  \n",
              "3426   11795696    879358        2735999              False             False  \n",
              "...         ...       ...            ...                ...               ...  \n",
              "88529   1442698     12385         212534              False             False  \n",
              "89742    377840      4172          35756              False             False  \n",
              "34335   1115904     57377         119982              False             False  \n",
              "79546   2698222     32799          85070              False             False  \n",
              "12472   1236964     11612         339791              False             False  \n",
              "\n",
              "[100 rows x 12 columns]"
            ],
            "text/html": [
              "\n",
              "  <div id=\"df-55c606d6-7f9f-4cdc-9831-ac8dd2fe7c48\">\n",
              "    <div class=\"colab-df-container\">\n",
              "      <div>\n",
              "<style scoped>\n",
              "    .dataframe tbody tr th:only-of-type {\n",
              "        vertical-align: middle;\n",
              "    }\n",
              "\n",
              "    .dataframe tbody tr th {\n",
              "        vertical-align: top;\n",
              "    }\n",
              "\n",
              "    .dataframe thead th {\n",
              "        text-align: right;\n",
              "    }\n",
              "</style>\n",
              "<table border=\"1\" class=\"dataframe\">\n",
              "  <thead>\n",
              "    <tr style=\"text-align: right;\">\n",
              "      <th></th>\n",
              "      <th>title</th>\n",
              "      <th>publishedAt</th>\n",
              "      <th>channelTitle</th>\n",
              "      <th>categoryId</th>\n",
              "      <th>trending_date</th>\n",
              "      <th>tags</th>\n",
              "      <th>view_count</th>\n",
              "      <th>likes</th>\n",
              "      <th>dislikes</th>\n",
              "      <th>comment_count</th>\n",
              "      <th>comments_disabled</th>\n",
              "      <th>ratings_disabled</th>\n",
              "    </tr>\n",
              "  </thead>\n",
              "  <tbody>\n",
              "    <tr>\n",
              "      <th>55138</th>\n",
              "      <td>BTS (방탄소년단) 'Butter' Official MV</td>\n",
              "      <td>2021-05-21T03:46:13Z</td>\n",
              "      <td>HYBE LABELS</td>\n",
              "      <td>10</td>\n",
              "      <td>2021-06-04T00:00:00Z</td>\n",
              "      <td>BIGHIT|빅히트|방탄소년단|BTS|BANGTAN|방탄</td>\n",
              "      <td>296314174</td>\n",
              "      <td>16464253</td>\n",
              "      <td>181350</td>\n",
              "      <td>6939302</td>\n",
              "      <td>False</td>\n",
              "      <td>False</td>\n",
              "    </tr>\n",
              "    <tr>\n",
              "      <th>2733</th>\n",
              "      <td>BTS (방탄소년단) 'Dynamite' Official MV</td>\n",
              "      <td>2020-08-21T03:58:10Z</td>\n",
              "      <td>Big Hit Labels</td>\n",
              "      <td>10</td>\n",
              "      <td>2020-08-31T00:00:00Z</td>\n",
              "      <td>BIGHIT|빅히트|방탄소년단|BTS|BANGTAN|방탄</td>\n",
              "      <td>262319276</td>\n",
              "      <td>16254784</td>\n",
              "      <td>770144</td>\n",
              "      <td>6303708</td>\n",
              "      <td>False</td>\n",
              "      <td>False</td>\n",
              "    </tr>\n",
              "    <tr>\n",
              "      <th>67539</th>\n",
              "      <td>BTS (방탄소년단) 'Permission to Dance' Official MV</td>\n",
              "      <td>2021-07-09T03:59:12Z</td>\n",
              "      <td>HYBE LABELS</td>\n",
              "      <td>10</td>\n",
              "      <td>2021-07-24T00:00:00Z</td>\n",
              "      <td>HYBE|HYBE LABELS|하이브|하이브레이블즈</td>\n",
              "      <td>194795844</td>\n",
              "      <td>12767906</td>\n",
              "      <td>136328</td>\n",
              "      <td>2903747</td>\n",
              "      <td>False</td>\n",
              "      <td>False</td>\n",
              "    </tr>\n",
              "    <tr>\n",
              "      <th>79542</th>\n",
              "      <td>LISA - 'LALISA' M/V</td>\n",
              "      <td>2021-09-10T04:00:13Z</td>\n",
              "      <td>BLACKPINK</td>\n",
              "      <td>10</td>\n",
              "      <td>2021-09-22T00:00:00Z</td>\n",
              "      <td>YG Entertainment|YG|와이지|K-pop|BLACKPINK|블랙핑크|블...</td>\n",
              "      <td>192376395</td>\n",
              "      <td>12177724</td>\n",
              "      <td>151884</td>\n",
              "      <td>2498669</td>\n",
              "      <td>False</td>\n",
              "      <td>False</td>\n",
              "    </tr>\n",
              "    <tr>\n",
              "      <th>3426</th>\n",
              "      <td>BLACKPINK - 'Ice Cream (with Selena Gomez)' M/V</td>\n",
              "      <td>2020-08-28T04:00:11Z</td>\n",
              "      <td>BLACKPINK</td>\n",
              "      <td>10</td>\n",
              "      <td>2020-09-05T00:00:00Z</td>\n",
              "      <td>YG Entertainment|YG|와이지|K-pop|BLACKPINK|블랙핑크|블...</td>\n",
              "      <td>184778248</td>\n",
              "      <td>11795696</td>\n",
              "      <td>879358</td>\n",
              "      <td>2735999</td>\n",
              "      <td>False</td>\n",
              "      <td>False</td>\n",
              "    </tr>\n",
              "    <tr>\n",
              "      <th>...</th>\n",
              "      <td>...</td>\n",
              "      <td>...</td>\n",
              "      <td>...</td>\n",
              "      <td>...</td>\n",
              "      <td>...</td>\n",
              "      <td>...</td>\n",
              "      <td>...</td>\n",
              "      <td>...</td>\n",
              "      <td>...</td>\n",
              "      <td>...</td>\n",
              "      <td>...</td>\n",
              "      <td>...</td>\n",
              "    </tr>\n",
              "    <tr>\n",
              "      <th>88529</th>\n",
              "      <td>NCT 127 엔시티 127 'Favorite (Vampire)' MV</td>\n",
              "      <td>2021-10-25T09:01:41Z</td>\n",
              "      <td>SMTOWN</td>\n",
              "      <td>10</td>\n",
              "      <td>2021-11-06T00:00:00Z</td>\n",
              "      <td>[None]</td>\n",
              "      <td>28978347</td>\n",
              "      <td>1442698</td>\n",
              "      <td>12385</td>\n",
              "      <td>212534</td>\n",
              "      <td>False</td>\n",
              "      <td>False</td>\n",
              "    </tr>\n",
              "    <tr>\n",
              "      <th>89742</th>\n",
              "      <td>THE BOYZ(더보이즈) ‘MAVERICK’ MV</td>\n",
              "      <td>2021-11-01T09:00:01Z</td>\n",
              "      <td>THE BOYZ</td>\n",
              "      <td>10</td>\n",
              "      <td>2021-11-12T00:00:00Z</td>\n",
              "      <td>크래커엔터테인먼트|Cre.ker Entertainment|크래커|Creker|THE...</td>\n",
              "      <td>28791271</td>\n",
              "      <td>377840</td>\n",
              "      <td>4172</td>\n",
              "      <td>35756</td>\n",
              "      <td>False</td>\n",
              "      <td>False</td>\n",
              "    </tr>\n",
              "    <tr>\n",
              "      <th>34335</th>\n",
              "      <td>The Weeknd’s FULL Pepsi Super Bowl LV Halftime...</td>\n",
              "      <td>2021-02-08T01:57:48Z</td>\n",
              "      <td>NFL</td>\n",
              "      <td>17</td>\n",
              "      <td>2021-02-18T00:00:00Z</td>\n",
              "      <td>Tampa Bay Buccaneers|Kansas City Chiefs|super ...</td>\n",
              "      <td>28248100</td>\n",
              "      <td>1115904</td>\n",
              "      <td>57377</td>\n",
              "      <td>119982</td>\n",
              "      <td>False</td>\n",
              "      <td>False</td>\n",
              "    </tr>\n",
              "    <tr>\n",
              "      <th>79546</th>\n",
              "      <td>LISA - 'LALISA' SPECIAL STAGE</td>\n",
              "      <td>2021-09-12T15:00:00Z</td>\n",
              "      <td>BLACKPINK</td>\n",
              "      <td>10</td>\n",
              "      <td>2021-09-22T00:00:00Z</td>\n",
              "      <td>YG Entertainment|YG|와이지|K-pop|BLACKPINK|블랙핑크|블...</td>\n",
              "      <td>28082757</td>\n",
              "      <td>2698222</td>\n",
              "      <td>32799</td>\n",
              "      <td>85070</td>\n",
              "      <td>False</td>\n",
              "      <td>False</td>\n",
              "    </tr>\n",
              "    <tr>\n",
              "      <th>12472</th>\n",
              "      <td>SEVENTEEN (세븐틴) 'HOME;RUN' Official MV</td>\n",
              "      <td>2020-10-19T09:00:00Z</td>\n",
              "      <td>Big Hit Labels</td>\n",
              "      <td>10</td>\n",
              "      <td>2020-10-27T00:00:00Z</td>\n",
              "      <td>에스쿱스|정한|조슈아|준|호시|원우|우지|디에잇|민규|도겸|승관|버논|디노|SCOU...</td>\n",
              "      <td>27588804</td>\n",
              "      <td>1236964</td>\n",
              "      <td>11612</td>\n",
              "      <td>339791</td>\n",
              "      <td>False</td>\n",
              "      <td>False</td>\n",
              "    </tr>\n",
              "  </tbody>\n",
              "</table>\n",
              "<p>100 rows × 12 columns</p>\n",
              "</div>\n",
              "      <button class=\"colab-df-convert\" onclick=\"convertToInteractive('df-55c606d6-7f9f-4cdc-9831-ac8dd2fe7c48')\"\n",
              "              title=\"Convert this dataframe to an interactive table.\"\n",
              "              style=\"display:none;\">\n",
              "        \n",
              "  <svg xmlns=\"http://www.w3.org/2000/svg\" height=\"24px\"viewBox=\"0 0 24 24\"\n",
              "       width=\"24px\">\n",
              "    <path d=\"M0 0h24v24H0V0z\" fill=\"none\"/>\n",
              "    <path d=\"M18.56 5.44l.94 2.06.94-2.06 2.06-.94-2.06-.94-.94-2.06-.94 2.06-2.06.94zm-11 1L8.5 8.5l.94-2.06 2.06-.94-2.06-.94L8.5 2.5l-.94 2.06-2.06.94zm10 10l.94 2.06.94-2.06 2.06-.94-2.06-.94-.94-2.06-.94 2.06-2.06.94z\"/><path d=\"M17.41 7.96l-1.37-1.37c-.4-.4-.92-.59-1.43-.59-.52 0-1.04.2-1.43.59L10.3 9.45l-7.72 7.72c-.78.78-.78 2.05 0 2.83L4 21.41c.39.39.9.59 1.41.59.51 0 1.02-.2 1.41-.59l7.78-7.78 2.81-2.81c.8-.78.8-2.07 0-2.86zM5.41 20L4 18.59l7.72-7.72 1.47 1.35L5.41 20z\"/>\n",
              "  </svg>\n",
              "      </button>\n",
              "      \n",
              "  <style>\n",
              "    .colab-df-container {\n",
              "      display:flex;\n",
              "      flex-wrap:wrap;\n",
              "      gap: 12px;\n",
              "    }\n",
              "\n",
              "    .colab-df-convert {\n",
              "      background-color: #E8F0FE;\n",
              "      border: none;\n",
              "      border-radius: 50%;\n",
              "      cursor: pointer;\n",
              "      display: none;\n",
              "      fill: #1967D2;\n",
              "      height: 32px;\n",
              "      padding: 0 0 0 0;\n",
              "      width: 32px;\n",
              "    }\n",
              "\n",
              "    .colab-df-convert:hover {\n",
              "      background-color: #E2EBFA;\n",
              "      box-shadow: 0px 1px 2px rgba(60, 64, 67, 0.3), 0px 1px 3px 1px rgba(60, 64, 67, 0.15);\n",
              "      fill: #174EA6;\n",
              "    }\n",
              "\n",
              "    [theme=dark] .colab-df-convert {\n",
              "      background-color: #3B4455;\n",
              "      fill: #D2E3FC;\n",
              "    }\n",
              "\n",
              "    [theme=dark] .colab-df-convert:hover {\n",
              "      background-color: #434B5C;\n",
              "      box-shadow: 0px 1px 3px 1px rgba(0, 0, 0, 0.15);\n",
              "      filter: drop-shadow(0px 1px 2px rgba(0, 0, 0, 0.3));\n",
              "      fill: #FFFFFF;\n",
              "    }\n",
              "  </style>\n",
              "\n",
              "      <script>\n",
              "        const buttonEl =\n",
              "          document.querySelector('#df-55c606d6-7f9f-4cdc-9831-ac8dd2fe7c48 button.colab-df-convert');\n",
              "        buttonEl.style.display =\n",
              "          google.colab.kernel.accessAllowed ? 'block' : 'none';\n",
              "\n",
              "        async function convertToInteractive(key) {\n",
              "          const element = document.querySelector('#df-55c606d6-7f9f-4cdc-9831-ac8dd2fe7c48');\n",
              "          const dataTable =\n",
              "            await google.colab.kernel.invokeFunction('convertToInteractive',\n",
              "                                                     [key], {});\n",
              "          if (!dataTable) return;\n",
              "\n",
              "          const docLinkHtml = 'Like what you see? Visit the ' +\n",
              "            '<a target=\"_blank\" href=https://colab.research.google.com/notebooks/data_table.ipynb>data table notebook</a>'\n",
              "            + ' to learn more about interactive tables.';\n",
              "          element.innerHTML = '';\n",
              "          dataTable['output_type'] = 'display_data';\n",
              "          await google.colab.output.renderOutput(dataTable, element);\n",
              "          const docLink = document.createElement('div');\n",
              "          docLink.innerHTML = docLinkHtml;\n",
              "          element.appendChild(docLink);\n",
              "        }\n",
              "      </script>\n",
              "    </div>\n",
              "  </div>\n",
              "  "
            ]
          },
          "metadata": {},
          "execution_count": 11
        }
      ]
    },
    {
      "cell_type": "markdown",
      "source": [
        "원활한 분석을 위해 인덱스를 현 자료에 맞추어 재설정\n",
        "- 대부분 상위 자료가 `categoryId` 10에 해당하는 음악 영상"
      ],
      "metadata": {
        "id": "wODyz4Rr1Pb4"
      }
    },
    {
      "cell_type": "code",
      "source": [
        "df_dup=df_dup.reset_index(drop=True)"
      ],
      "metadata": {
        "id": "BiWn0-mMBNxs"
      },
      "execution_count": null,
      "outputs": []
    },
    {
      "cell_type": "code",
      "source": [
        "df_dup.head()"
      ],
      "metadata": {
        "colab": {
          "base_uri": "https://localhost:8080/",
          "height": 617
        },
        "id": "0Rq9w3tvBSiB",
        "outputId": "afba2c7b-c658-4f77-97cc-a90124f7975e"
      },
      "execution_count": null,
      "outputs": [
        {
          "output_type": "execute_result",
          "data": {
            "text/plain": [
              "                                             title           publishedAt  \\\n",
              "0                 BTS (방탄소년단) 'Butter' Official MV  2021-05-21T03:46:13Z   \n",
              "1               BTS (방탄소년단) 'Dynamite' Official MV  2020-08-21T03:58:10Z   \n",
              "2    BTS (방탄소년단) 'Permission to Dance' Official MV  2021-07-09T03:59:12Z   \n",
              "3                              LISA - 'LALISA' M/V  2021-09-10T04:00:13Z   \n",
              "4  BLACKPINK - 'Ice Cream (with Selena Gomez)' M/V  2020-08-28T04:00:11Z   \n",
              "\n",
              "     channelTitle  categoryId         trending_date  \\\n",
              "0     HYBE LABELS          10  2021-06-04T00:00:00Z   \n",
              "1  Big Hit Labels          10  2020-08-31T00:00:00Z   \n",
              "2     HYBE LABELS          10  2021-07-24T00:00:00Z   \n",
              "3       BLACKPINK          10  2021-09-22T00:00:00Z   \n",
              "4       BLACKPINK          10  2020-09-05T00:00:00Z   \n",
              "\n",
              "                                                tags  view_count     likes  \\\n",
              "0                    BIGHIT|빅히트|방탄소년단|BTS|BANGTAN|방탄   296314174  16464253   \n",
              "1                    BIGHIT|빅히트|방탄소년단|BTS|BANGTAN|방탄   262319276  16254784   \n",
              "2                       HYBE|HYBE LABELS|하이브|하이브레이블즈   194795844  12767906   \n",
              "3  YG Entertainment|YG|와이지|K-pop|BLACKPINK|블랙핑크|블...   192376395  12177724   \n",
              "4  YG Entertainment|YG|와이지|K-pop|BLACKPINK|블랙핑크|블...   184778248  11795696   \n",
              "\n",
              "   dislikes  comment_count  comments_disabled  ratings_disabled  \n",
              "0    181350        6939302              False             False  \n",
              "1    770144        6303708              False             False  \n",
              "2    136328        2903747              False             False  \n",
              "3    151884        2498669              False             False  \n",
              "4    879358        2735999              False             False  "
            ],
            "text/html": [
              "\n",
              "  <div id=\"df-53bd77f0-000b-4ceb-81f6-7bf6aa065b4e\">\n",
              "    <div class=\"colab-df-container\">\n",
              "      <div>\n",
              "<style scoped>\n",
              "    .dataframe tbody tr th:only-of-type {\n",
              "        vertical-align: middle;\n",
              "    }\n",
              "\n",
              "    .dataframe tbody tr th {\n",
              "        vertical-align: top;\n",
              "    }\n",
              "\n",
              "    .dataframe thead th {\n",
              "        text-align: right;\n",
              "    }\n",
              "</style>\n",
              "<table border=\"1\" class=\"dataframe\">\n",
              "  <thead>\n",
              "    <tr style=\"text-align: right;\">\n",
              "      <th></th>\n",
              "      <th>title</th>\n",
              "      <th>publishedAt</th>\n",
              "      <th>channelTitle</th>\n",
              "      <th>categoryId</th>\n",
              "      <th>trending_date</th>\n",
              "      <th>tags</th>\n",
              "      <th>view_count</th>\n",
              "      <th>likes</th>\n",
              "      <th>dislikes</th>\n",
              "      <th>comment_count</th>\n",
              "      <th>comments_disabled</th>\n",
              "      <th>ratings_disabled</th>\n",
              "    </tr>\n",
              "  </thead>\n",
              "  <tbody>\n",
              "    <tr>\n",
              "      <th>0</th>\n",
              "      <td>BTS (방탄소년단) 'Butter' Official MV</td>\n",
              "      <td>2021-05-21T03:46:13Z</td>\n",
              "      <td>HYBE LABELS</td>\n",
              "      <td>10</td>\n",
              "      <td>2021-06-04T00:00:00Z</td>\n",
              "      <td>BIGHIT|빅히트|방탄소년단|BTS|BANGTAN|방탄</td>\n",
              "      <td>296314174</td>\n",
              "      <td>16464253</td>\n",
              "      <td>181350</td>\n",
              "      <td>6939302</td>\n",
              "      <td>False</td>\n",
              "      <td>False</td>\n",
              "    </tr>\n",
              "    <tr>\n",
              "      <th>1</th>\n",
              "      <td>BTS (방탄소년단) 'Dynamite' Official MV</td>\n",
              "      <td>2020-08-21T03:58:10Z</td>\n",
              "      <td>Big Hit Labels</td>\n",
              "      <td>10</td>\n",
              "      <td>2020-08-31T00:00:00Z</td>\n",
              "      <td>BIGHIT|빅히트|방탄소년단|BTS|BANGTAN|방탄</td>\n",
              "      <td>262319276</td>\n",
              "      <td>16254784</td>\n",
              "      <td>770144</td>\n",
              "      <td>6303708</td>\n",
              "      <td>False</td>\n",
              "      <td>False</td>\n",
              "    </tr>\n",
              "    <tr>\n",
              "      <th>2</th>\n",
              "      <td>BTS (방탄소년단) 'Permission to Dance' Official MV</td>\n",
              "      <td>2021-07-09T03:59:12Z</td>\n",
              "      <td>HYBE LABELS</td>\n",
              "      <td>10</td>\n",
              "      <td>2021-07-24T00:00:00Z</td>\n",
              "      <td>HYBE|HYBE LABELS|하이브|하이브레이블즈</td>\n",
              "      <td>194795844</td>\n",
              "      <td>12767906</td>\n",
              "      <td>136328</td>\n",
              "      <td>2903747</td>\n",
              "      <td>False</td>\n",
              "      <td>False</td>\n",
              "    </tr>\n",
              "    <tr>\n",
              "      <th>3</th>\n",
              "      <td>LISA - 'LALISA' M/V</td>\n",
              "      <td>2021-09-10T04:00:13Z</td>\n",
              "      <td>BLACKPINK</td>\n",
              "      <td>10</td>\n",
              "      <td>2021-09-22T00:00:00Z</td>\n",
              "      <td>YG Entertainment|YG|와이지|K-pop|BLACKPINK|블랙핑크|블...</td>\n",
              "      <td>192376395</td>\n",
              "      <td>12177724</td>\n",
              "      <td>151884</td>\n",
              "      <td>2498669</td>\n",
              "      <td>False</td>\n",
              "      <td>False</td>\n",
              "    </tr>\n",
              "    <tr>\n",
              "      <th>4</th>\n",
              "      <td>BLACKPINK - 'Ice Cream (with Selena Gomez)' M/V</td>\n",
              "      <td>2020-08-28T04:00:11Z</td>\n",
              "      <td>BLACKPINK</td>\n",
              "      <td>10</td>\n",
              "      <td>2020-09-05T00:00:00Z</td>\n",
              "      <td>YG Entertainment|YG|와이지|K-pop|BLACKPINK|블랙핑크|블...</td>\n",
              "      <td>184778248</td>\n",
              "      <td>11795696</td>\n",
              "      <td>879358</td>\n",
              "      <td>2735999</td>\n",
              "      <td>False</td>\n",
              "      <td>False</td>\n",
              "    </tr>\n",
              "  </tbody>\n",
              "</table>\n",
              "</div>\n",
              "      <button class=\"colab-df-convert\" onclick=\"convertToInteractive('df-53bd77f0-000b-4ceb-81f6-7bf6aa065b4e')\"\n",
              "              title=\"Convert this dataframe to an interactive table.\"\n",
              "              style=\"display:none;\">\n",
              "        \n",
              "  <svg xmlns=\"http://www.w3.org/2000/svg\" height=\"24px\"viewBox=\"0 0 24 24\"\n",
              "       width=\"24px\">\n",
              "    <path d=\"M0 0h24v24H0V0z\" fill=\"none\"/>\n",
              "    <path d=\"M18.56 5.44l.94 2.06.94-2.06 2.06-.94-2.06-.94-.94-2.06-.94 2.06-2.06.94zm-11 1L8.5 8.5l.94-2.06 2.06-.94-2.06-.94L8.5 2.5l-.94 2.06-2.06.94zm10 10l.94 2.06.94-2.06 2.06-.94-2.06-.94-.94-2.06-.94 2.06-2.06.94z\"/><path d=\"M17.41 7.96l-1.37-1.37c-.4-.4-.92-.59-1.43-.59-.52 0-1.04.2-1.43.59L10.3 9.45l-7.72 7.72c-.78.78-.78 2.05 0 2.83L4 21.41c.39.39.9.59 1.41.59.51 0 1.02-.2 1.41-.59l7.78-7.78 2.81-2.81c.8-.78.8-2.07 0-2.86zM5.41 20L4 18.59l7.72-7.72 1.47 1.35L5.41 20z\"/>\n",
              "  </svg>\n",
              "      </button>\n",
              "      \n",
              "  <style>\n",
              "    .colab-df-container {\n",
              "      display:flex;\n",
              "      flex-wrap:wrap;\n",
              "      gap: 12px;\n",
              "    }\n",
              "\n",
              "    .colab-df-convert {\n",
              "      background-color: #E8F0FE;\n",
              "      border: none;\n",
              "      border-radius: 50%;\n",
              "      cursor: pointer;\n",
              "      display: none;\n",
              "      fill: #1967D2;\n",
              "      height: 32px;\n",
              "      padding: 0 0 0 0;\n",
              "      width: 32px;\n",
              "    }\n",
              "\n",
              "    .colab-df-convert:hover {\n",
              "      background-color: #E2EBFA;\n",
              "      box-shadow: 0px 1px 2px rgba(60, 64, 67, 0.3), 0px 1px 3px 1px rgba(60, 64, 67, 0.15);\n",
              "      fill: #174EA6;\n",
              "    }\n",
              "\n",
              "    [theme=dark] .colab-df-convert {\n",
              "      background-color: #3B4455;\n",
              "      fill: #D2E3FC;\n",
              "    }\n",
              "\n",
              "    [theme=dark] .colab-df-convert:hover {\n",
              "      background-color: #434B5C;\n",
              "      box-shadow: 0px 1px 3px 1px rgba(0, 0, 0, 0.15);\n",
              "      filter: drop-shadow(0px 1px 2px rgba(0, 0, 0, 0.3));\n",
              "      fill: #FFFFFF;\n",
              "    }\n",
              "  </style>\n",
              "\n",
              "      <script>\n",
              "        const buttonEl =\n",
              "          document.querySelector('#df-53bd77f0-000b-4ceb-81f6-7bf6aa065b4e button.colab-df-convert');\n",
              "        buttonEl.style.display =\n",
              "          google.colab.kernel.accessAllowed ? 'block' : 'none';\n",
              "\n",
              "        async function convertToInteractive(key) {\n",
              "          const element = document.querySelector('#df-53bd77f0-000b-4ceb-81f6-7bf6aa065b4e');\n",
              "          const dataTable =\n",
              "            await google.colab.kernel.invokeFunction('convertToInteractive',\n",
              "                                                     [key], {});\n",
              "          if (!dataTable) return;\n",
              "\n",
              "          const docLinkHtml = 'Like what you see? Visit the ' +\n",
              "            '<a target=\"_blank\" href=https://colab.research.google.com/notebooks/data_table.ipynb>data table notebook</a>'\n",
              "            + ' to learn more about interactive tables.';\n",
              "          element.innerHTML = '';\n",
              "          dataTable['output_type'] = 'display_data';\n",
              "          await google.colab.output.renderOutput(dataTable, element);\n",
              "          const docLink = document.createElement('div');\n",
              "          docLink.innerHTML = docLinkHtml;\n",
              "          element.appendChild(docLink);\n",
              "        }\n",
              "      </script>\n",
              "    </div>\n",
              "  </div>\n",
              "  "
            ]
          },
          "metadata": {},
          "execution_count": 14
        }
      ]
    },
    {
      "cell_type": "markdown",
      "source": [
        "음악 영상 제거 및 인덱스 재설정"
      ],
      "metadata": {
        "id": "gjgyksT710Ud"
      }
    },
    {
      "cell_type": "code",
      "source": [
        "delete_indicies = [ i for i in range(len(df_dup)) if df_dup[\"categoryId\"][i] in [10] ]"
      ],
      "metadata": {
        "id": "V2YQqDtKFPDM"
      },
      "execution_count": null,
      "outputs": []
    },
    {
      "cell_type": "code",
      "source": [
        "df_droped = df_dup.drop(delete_indicies,axis=0)"
      ],
      "metadata": {
        "id": "UdpRAwK27V4Q"
      },
      "execution_count": null,
      "outputs": []
    },
    {
      "cell_type": "code",
      "source": [
        "df_sorted = df_droped.sort_values(by=\"view_count\",ascending=False)\n",
        "df_sorted = df_sorted.reset_index(drop=True)"
      ],
      "metadata": {
        "id": "nw8Vt3vm8gnw"
      },
      "execution_count": null,
      "outputs": []
    },
    {
      "cell_type": "code",
      "source": [
        "df_sorted.head()"
      ],
      "metadata": {
        "colab": {
          "base_uri": "https://localhost:8080/",
          "height": 444
        },
        "id": "HOY3LQ8PxlYk",
        "outputId": "c576442d-8769-49e2-b220-fdf949f1d320"
      },
      "execution_count": null,
      "outputs": [
        {
          "output_type": "execute_result",
          "data": {
            "text/plain": [
              "                                               title           publishedAt  \\\n",
              "0  The Call | Season 2022 Cinematic - League of L...  2022-01-07T15:06:43Z   \n",
              "1                           Apple Event — October 13  2020-10-13T18:15:12Z   \n",
              "2  Join the BTS #PermissiontoDance Challenge only...  2021-08-06T00:33:36Z   \n",
              "3                       TREASURE - '직진 (JIKJIN)' M/V  2022-02-15T09:00:14Z   \n",
              "4        오징어 게임 3분 요약 [Squid Game 3 minutes summary]  2021-09-26T07:31:20Z   \n",
              "\n",
              "        channelTitle  categoryId         trending_date  \\\n",
              "0  League of Legends          20  2022-01-18T00:00:00Z   \n",
              "1              Apple          28  2020-10-22T00:00:00Z   \n",
              "2            YouTube          27  2021-08-10T00:00:00Z   \n",
              "3     TREASURE (트레저)          24  2022-02-27T00:00:00Z   \n",
              "4               소맥거핀           1  2021-10-09T00:00:00Z   \n",
              "\n",
              "                                                tags  view_count    likes  \\\n",
              "0  Riot Games|Riot|League of Legends|League|LoL|M...    90978675   628274   \n",
              "1  Apple|Event|Keynote|Tim Cook|October|2020|Laun...    53761626   923078   \n",
              "2                                             [None]    51624621        0   \n",
              "3  YG Entertainment|YG|와이지|K-pop|트레져|트레저|TREASURE...    46738207  1705442   \n",
              "4  메이플|메이플스토리|메이플 만화|게임 만화|병맛|웃긴|만화|루시드냥|소맥거핀|애니메...    35853161   966094   \n",
              "\n",
              "   dislikes  comment_count  comments_disabled  ratings_disabled  \n",
              "0         0          27684              False             False  \n",
              "1     53473              0               True             False  \n",
              "2         0              2              False              True  \n",
              "3         0         866379              False             False  \n",
              "4     18815          34813              False             False  "
            ],
            "text/html": [
              "\n",
              "  <div id=\"df-95f64a0d-f78c-40a3-9680-d4e3711aafaa\">\n",
              "    <div class=\"colab-df-container\">\n",
              "      <div>\n",
              "<style scoped>\n",
              "    .dataframe tbody tr th:only-of-type {\n",
              "        vertical-align: middle;\n",
              "    }\n",
              "\n",
              "    .dataframe tbody tr th {\n",
              "        vertical-align: top;\n",
              "    }\n",
              "\n",
              "    .dataframe thead th {\n",
              "        text-align: right;\n",
              "    }\n",
              "</style>\n",
              "<table border=\"1\" class=\"dataframe\">\n",
              "  <thead>\n",
              "    <tr style=\"text-align: right;\">\n",
              "      <th></th>\n",
              "      <th>title</th>\n",
              "      <th>publishedAt</th>\n",
              "      <th>channelTitle</th>\n",
              "      <th>categoryId</th>\n",
              "      <th>trending_date</th>\n",
              "      <th>tags</th>\n",
              "      <th>view_count</th>\n",
              "      <th>likes</th>\n",
              "      <th>dislikes</th>\n",
              "      <th>comment_count</th>\n",
              "      <th>comments_disabled</th>\n",
              "      <th>ratings_disabled</th>\n",
              "    </tr>\n",
              "  </thead>\n",
              "  <tbody>\n",
              "    <tr>\n",
              "      <th>0</th>\n",
              "      <td>The Call | Season 2022 Cinematic - League of L...</td>\n",
              "      <td>2022-01-07T15:06:43Z</td>\n",
              "      <td>League of Legends</td>\n",
              "      <td>20</td>\n",
              "      <td>2022-01-18T00:00:00Z</td>\n",
              "      <td>Riot Games|Riot|League of Legends|League|LoL|M...</td>\n",
              "      <td>90978675</td>\n",
              "      <td>628274</td>\n",
              "      <td>0</td>\n",
              "      <td>27684</td>\n",
              "      <td>False</td>\n",
              "      <td>False</td>\n",
              "    </tr>\n",
              "    <tr>\n",
              "      <th>1</th>\n",
              "      <td>Apple Event — October 13</td>\n",
              "      <td>2020-10-13T18:15:12Z</td>\n",
              "      <td>Apple</td>\n",
              "      <td>28</td>\n",
              "      <td>2020-10-22T00:00:00Z</td>\n",
              "      <td>Apple|Event|Keynote|Tim Cook|October|2020|Laun...</td>\n",
              "      <td>53761626</td>\n",
              "      <td>923078</td>\n",
              "      <td>53473</td>\n",
              "      <td>0</td>\n",
              "      <td>True</td>\n",
              "      <td>False</td>\n",
              "    </tr>\n",
              "    <tr>\n",
              "      <th>2</th>\n",
              "      <td>Join the BTS #PermissiontoDance Challenge only...</td>\n",
              "      <td>2021-08-06T00:33:36Z</td>\n",
              "      <td>YouTube</td>\n",
              "      <td>27</td>\n",
              "      <td>2021-08-10T00:00:00Z</td>\n",
              "      <td>[None]</td>\n",
              "      <td>51624621</td>\n",
              "      <td>0</td>\n",
              "      <td>0</td>\n",
              "      <td>2</td>\n",
              "      <td>False</td>\n",
              "      <td>True</td>\n",
              "    </tr>\n",
              "    <tr>\n",
              "      <th>3</th>\n",
              "      <td>TREASURE - '직진 (JIKJIN)' M/V</td>\n",
              "      <td>2022-02-15T09:00:14Z</td>\n",
              "      <td>TREASURE (트레저)</td>\n",
              "      <td>24</td>\n",
              "      <td>2022-02-27T00:00:00Z</td>\n",
              "      <td>YG Entertainment|YG|와이지|K-pop|트레져|트레저|TREASURE...</td>\n",
              "      <td>46738207</td>\n",
              "      <td>1705442</td>\n",
              "      <td>0</td>\n",
              "      <td>866379</td>\n",
              "      <td>False</td>\n",
              "      <td>False</td>\n",
              "    </tr>\n",
              "    <tr>\n",
              "      <th>4</th>\n",
              "      <td>오징어 게임 3분 요약 [Squid Game 3 minutes summary]</td>\n",
              "      <td>2021-09-26T07:31:20Z</td>\n",
              "      <td>소맥거핀</td>\n",
              "      <td>1</td>\n",
              "      <td>2021-10-09T00:00:00Z</td>\n",
              "      <td>메이플|메이플스토리|메이플 만화|게임 만화|병맛|웃긴|만화|루시드냥|소맥거핀|애니메...</td>\n",
              "      <td>35853161</td>\n",
              "      <td>966094</td>\n",
              "      <td>18815</td>\n",
              "      <td>34813</td>\n",
              "      <td>False</td>\n",
              "      <td>False</td>\n",
              "    </tr>\n",
              "  </tbody>\n",
              "</table>\n",
              "</div>\n",
              "      <button class=\"colab-df-convert\" onclick=\"convertToInteractive('df-95f64a0d-f78c-40a3-9680-d4e3711aafaa')\"\n",
              "              title=\"Convert this dataframe to an interactive table.\"\n",
              "              style=\"display:none;\">\n",
              "        \n",
              "  <svg xmlns=\"http://www.w3.org/2000/svg\" height=\"24px\"viewBox=\"0 0 24 24\"\n",
              "       width=\"24px\">\n",
              "    <path d=\"M0 0h24v24H0V0z\" fill=\"none\"/>\n",
              "    <path d=\"M18.56 5.44l.94 2.06.94-2.06 2.06-.94-2.06-.94-.94-2.06-.94 2.06-2.06.94zm-11 1L8.5 8.5l.94-2.06 2.06-.94-2.06-.94L8.5 2.5l-.94 2.06-2.06.94zm10 10l.94 2.06.94-2.06 2.06-.94-2.06-.94-.94-2.06-.94 2.06-2.06.94z\"/><path d=\"M17.41 7.96l-1.37-1.37c-.4-.4-.92-.59-1.43-.59-.52 0-1.04.2-1.43.59L10.3 9.45l-7.72 7.72c-.78.78-.78 2.05 0 2.83L4 21.41c.39.39.9.59 1.41.59.51 0 1.02-.2 1.41-.59l7.78-7.78 2.81-2.81c.8-.78.8-2.07 0-2.86zM5.41 20L4 18.59l7.72-7.72 1.47 1.35L5.41 20z\"/>\n",
              "  </svg>\n",
              "      </button>\n",
              "      \n",
              "  <style>\n",
              "    .colab-df-container {\n",
              "      display:flex;\n",
              "      flex-wrap:wrap;\n",
              "      gap: 12px;\n",
              "    }\n",
              "\n",
              "    .colab-df-convert {\n",
              "      background-color: #E8F0FE;\n",
              "      border: none;\n",
              "      border-radius: 50%;\n",
              "      cursor: pointer;\n",
              "      display: none;\n",
              "      fill: #1967D2;\n",
              "      height: 32px;\n",
              "      padding: 0 0 0 0;\n",
              "      width: 32px;\n",
              "    }\n",
              "\n",
              "    .colab-df-convert:hover {\n",
              "      background-color: #E2EBFA;\n",
              "      box-shadow: 0px 1px 2px rgba(60, 64, 67, 0.3), 0px 1px 3px 1px rgba(60, 64, 67, 0.15);\n",
              "      fill: #174EA6;\n",
              "    }\n",
              "\n",
              "    [theme=dark] .colab-df-convert {\n",
              "      background-color: #3B4455;\n",
              "      fill: #D2E3FC;\n",
              "    }\n",
              "\n",
              "    [theme=dark] .colab-df-convert:hover {\n",
              "      background-color: #434B5C;\n",
              "      box-shadow: 0px 1px 3px 1px rgba(0, 0, 0, 0.15);\n",
              "      filter: drop-shadow(0px 1px 2px rgba(0, 0, 0, 0.3));\n",
              "      fill: #FFFFFF;\n",
              "    }\n",
              "  </style>\n",
              "\n",
              "      <script>\n",
              "        const buttonEl =\n",
              "          document.querySelector('#df-95f64a0d-f78c-40a3-9680-d4e3711aafaa button.colab-df-convert');\n",
              "        buttonEl.style.display =\n",
              "          google.colab.kernel.accessAllowed ? 'block' : 'none';\n",
              "\n",
              "        async function convertToInteractive(key) {\n",
              "          const element = document.querySelector('#df-95f64a0d-f78c-40a3-9680-d4e3711aafaa');\n",
              "          const dataTable =\n",
              "            await google.colab.kernel.invokeFunction('convertToInteractive',\n",
              "                                                     [key], {});\n",
              "          if (!dataTable) return;\n",
              "\n",
              "          const docLinkHtml = 'Like what you see? Visit the ' +\n",
              "            '<a target=\"_blank\" href=https://colab.research.google.com/notebooks/data_table.ipynb>data table notebook</a>'\n",
              "            + ' to learn more about interactive tables.';\n",
              "          element.innerHTML = '';\n",
              "          dataTable['output_type'] = 'display_data';\n",
              "          await google.colab.output.renderOutput(dataTable, element);\n",
              "          const docLink = document.createElement('div');\n",
              "          docLink.innerHTML = docLinkHtml;\n",
              "          element.appendChild(docLink);\n",
              "        }\n",
              "      </script>\n",
              "    </div>\n",
              "  </div>\n",
              "  "
            ]
          },
          "metadata": {},
          "execution_count": 20
        }
      ]
    },
    {
      "cell_type": "code",
      "source": [
        "df_sorted.info()"
      ],
      "metadata": {
        "colab": {
          "base_uri": "https://localhost:8080/"
        },
        "id": "V5VuTLfm2lqf",
        "outputId": "83befec2-9065-4c8a-afb4-0180f4cb01dc"
      },
      "execution_count": null,
      "outputs": [
        {
          "output_type": "stream",
          "name": "stdout",
          "text": [
            "<class 'pandas.core.frame.DataFrame'>\n",
            "RangeIndex: 14198 entries, 0 to 14197\n",
            "Data columns (total 12 columns):\n",
            " #   Column             Non-Null Count  Dtype \n",
            "---  ------             --------------  ----- \n",
            " 0   title              14198 non-null  object\n",
            " 1   publishedAt        14198 non-null  object\n",
            " 2   channelTitle       14198 non-null  object\n",
            " 3   categoryId         14198 non-null  int64 \n",
            " 4   trending_date      14198 non-null  object\n",
            " 5   tags               14198 non-null  object\n",
            " 6   view_count         14198 non-null  int64 \n",
            " 7   likes              14198 non-null  int64 \n",
            " 8   dislikes           14198 non-null  int64 \n",
            " 9   comment_count      14198 non-null  int64 \n",
            " 10  comments_disabled  14198 non-null  bool  \n",
            " 11  ratings_disabled   14198 non-null  bool  \n",
            "dtypes: bool(2), int64(5), object(5)\n",
            "memory usage: 1.1+ MB\n"
          ]
        }
      ]
    },
    {
      "cell_type": "markdown",
      "source": [
        "최초에 115754행이 있었지만, 현재 14198로 자료가 축소된 것을 확인할 수 있다."
      ],
      "metadata": {
        "id": "2WRso8N22zyq"
      }
    },
    {
      "cell_type": "code",
      "source": [
        "plt.figure(figsize=(15, 8))\n",
        "\n",
        "plt.rcParams[\"axes.unicode_minus\"] = False\n",
        "\n",
        "plt.boxplot(df_sorted[\"view_count\"])\n",
        "plt.show()"
      ],
      "metadata": {
        "colab": {
          "base_uri": "https://localhost:8080/",
          "height": 495
        },
        "id": "jByKLFjZ9tih",
        "outputId": "c5d11cff-cf86-4007-d1dc-d26f8fe47136"
      },
      "execution_count": null,
      "outputs": [
        {
          "output_type": "display_data",
          "data": {
            "text/plain": [
              "<Figure size 1080x576 with 1 Axes>"
            ],
            "image/png": "[encoded data removed]"
          },
          "metadata": {
            "image/png": {
              "width": 864,
              "height": 478
            },
            "needs_background": "light"
          }
        }
      ]
    },
    {
      "cell_type": "markdown",
      "source": [
        "자료를 간추렸음에도 불구하고, 이상치가 굉장히 넓은 범위에 분포하는 것을 알 수 있다."
      ],
      "metadata": {
        "id": "QnRbaul529W1"
      }
    },
    {
      "cell_type": "markdown",
      "source": [
        "_**`###########################################################################`**_"
      ],
      "metadata": {
        "id": "CLJwe-Fr3Yvs"
      }
    },
    {
      "cell_type": "code",
      "source": [
        "yt = df_sorted # 타이핑 편하게 새로운 변수명에 데이터프레임 할당..."
      ],
      "metadata": {
        "id": "Vh8XDYnm3cUi"
      },
      "execution_count": null,
      "outputs": []
    },
    {
      "cell_type": "code",
      "source": [
        "yt[\"publishedAt\"]=pd.to_datetime(yt[\"publishedAt\"])\n",
        "yt[\"trending_date\"]=pd.to_datetime(yt[\"trending_date\"])"
      ],
      "metadata": {
        "id": "kpLMfNtQ3yaF"
      },
      "execution_count": null,
      "outputs": []
    },
    {
      "cell_type": "code",
      "source": [
        "# 타이핑하기 쉬운 열 이름으로 변경\n",
        "yt = yt.rename(\n",
        "    columns={\n",
        "    \"publishedAt\":\"update\",\n",
        "    \"trending_date\":\"trdate\"\n",
        "})"
      ],
      "metadata": {
        "id": "KhlpZ-p7Gaxm"
      },
      "execution_count": null,
      "outputs": []
    },
    {
      "cell_type": "code",
      "source": [
        "yt.head()"
      ],
      "metadata": {
        "colab": {
          "base_uri": "https://localhost:8080/",
          "height": 444
        },
        "id": "Ez_RTDfF4A1E",
        "outputId": "21b72a8e-d2c4-4790-e085-51c02d53566b"
      },
      "execution_count": null,
      "outputs": [
        {
          "output_type": "execute_result",
          "data": {
            "text/plain": [
              "                                               title  \\\n",
              "0  The Call | Season 2022 Cinematic - League of L...   \n",
              "1                           Apple Event — October 13   \n",
              "2  Join the BTS #PermissiontoDance Challenge only...   \n",
              "3                       TREASURE - '직진 (JIKJIN)' M/V   \n",
              "4        오징어 게임 3분 요약 [Squid Game 3 minutes summary]   \n",
              "\n",
              "                     update       channelTitle  categoryId  \\\n",
              "0 2022-01-07 15:06:43+00:00  League of Legends          20   \n",
              "1 2020-10-13 18:15:12+00:00              Apple          28   \n",
              "2 2021-08-06 00:33:36+00:00            YouTube          27   \n",
              "3 2022-02-15 09:00:14+00:00     TREASURE (트레저)          24   \n",
              "4 2021-09-26 07:31:20+00:00               소맥거핀           1   \n",
              "\n",
              "                     trdate  \\\n",
              "0 2022-01-18 00:00:00+00:00   \n",
              "1 2020-10-22 00:00:00+00:00   \n",
              "2 2021-08-10 00:00:00+00:00   \n",
              "3 2022-02-27 00:00:00+00:00   \n",
              "4 2021-10-09 00:00:00+00:00   \n",
              "\n",
              "                                                tags  view_count    likes  \\\n",
              "0  Riot Games|Riot|League of Legends|League|LoL|M...    90978675   628274   \n",
              "1  Apple|Event|Keynote|Tim Cook|October|2020|Laun...    53761626   923078   \n",
              "2                                             [None]    51624621        0   \n",
              "3  YG Entertainment|YG|와이지|K-pop|트레져|트레저|TREASURE...    46738207  1705442   \n",
              "4  메이플|메이플스토리|메이플 만화|게임 만화|병맛|웃긴|만화|루시드냥|소맥거핀|애니메...    35853161   966094   \n",
              "\n",
              "   dislikes  comment_count  comments_disabled  ratings_disabled  \n",
              "0         0          27684              False             False  \n",
              "1     53473              0               True             False  \n",
              "2         0              2              False              True  \n",
              "3         0         866379              False             False  \n",
              "4     18815          34813              False             False  "
            ],
            "text/html": [
              "\n",
              "  <div id=\"df-e6af01ae-667f-42a9-ae66-7d94bfe0bc2e\">\n",
              "    <div class=\"colab-df-container\">\n",
              "      <div>\n",
              "<style scoped>\n",
              "    .dataframe tbody tr th:only-of-type {\n",
              "        vertical-align: middle;\n",
              "    }\n",
              "\n",
              "    .dataframe tbody tr th {\n",
              "        vertical-align: top;\n",
              "    }\n",
              "\n",
              "    .dataframe thead th {\n",
              "        text-align: right;\n",
              "    }\n",
              "</style>\n",
              "<table border=\"1\" class=\"dataframe\">\n",
              "  <thead>\n",
              "    <tr style=\"text-align: right;\">\n",
              "      <th></th>\n",
              "      <th>title</th>\n",
              "      <th>update</th>\n",
              "      <th>channelTitle</th>\n",
              "      <th>categoryId</th>\n",
              "      <th>trdate</th>\n",
              "      <th>tags</th>\n",
              "      <th>view_count</th>\n",
              "      <th>likes</th>\n",
              "      <th>dislikes</th>\n",
              "      <th>comment_count</th>\n",
              "      <th>comments_disabled</th>\n",
              "      <th>ratings_disabled</th>\n",
              "    </tr>\n",
              "  </thead>\n",
              "  <tbody>\n",
              "    <tr>\n",
              "      <th>0</th>\n",
              "      <td>The Call | Season 2022 Cinematic - League of L...</td>\n",
              "      <td>2022-01-07 15:06:43+00:00</td>\n",
              "      <td>League of Legends</td>\n",
              "      <td>20</td>\n",
              "      <td>2022-01-18 00:00:00+00:00</td>\n",
              "      <td>Riot Games|Riot|League of Legends|League|LoL|M...</td>\n",
              "      <td>90978675</td>\n",
              "      <td>628274</td>\n",
              "      <td>0</td>\n",
              "      <td>27684</td>\n",
              "      <td>False</td>\n",
              "      <td>False</td>\n",
              "    </tr>\n",
              "    <tr>\n",
              "      <th>1</th>\n",
              "      <td>Apple Event — October 13</td>\n",
              "      <td>2020-10-13 18:15:12+00:00</td>\n",
              "      <td>Apple</td>\n",
              "      <td>28</td>\n",
              "      <td>2020-10-22 00:00:00+00:00</td>\n",
              "      <td>Apple|Event|Keynote|Tim Cook|October|2020|Laun...</td>\n",
              "      <td>53761626</td>\n",
              "      <td>923078</td>\n",
              "      <td>53473</td>\n",
              "      <td>0</td>\n",
              "      <td>True</td>\n",
              "      <td>False</td>\n",
              "    </tr>\n",
              "    <tr>\n",
              "      <th>2</th>\n",
              "      <td>Join the BTS #PermissiontoDance Challenge only...</td>\n",
              "      <td>2021-08-06 00:33:36+00:00</td>\n",
              "      <td>YouTube</td>\n",
              "      <td>27</td>\n",
              "      <td>2021-08-10 00:00:00+00:00</td>\n",
              "      <td>[None]</td>\n",
              "      <td>51624621</td>\n",
              "      <td>0</td>\n",
              "      <td>0</td>\n",
              "      <td>2</td>\n",
              "      <td>False</td>\n",
              "      <td>True</td>\n",
              "    </tr>\n",
              "    <tr>\n",
              "      <th>3</th>\n",
              "      <td>TREASURE - '직진 (JIKJIN)' M/V</td>\n",
              "      <td>2022-02-15 09:00:14+00:00</td>\n",
              "      <td>TREASURE (트레저)</td>\n",
              "      <td>24</td>\n",
              "      <td>2022-02-27 00:00:00+00:00</td>\n",
              "      <td>YG Entertainment|YG|와이지|K-pop|트레져|트레저|TREASURE...</td>\n",
              "      <td>46738207</td>\n",
              "      <td>1705442</td>\n",
              "      <td>0</td>\n",
              "      <td>866379</td>\n",
              "      <td>False</td>\n",
              "      <td>False</td>\n",
              "    </tr>\n",
              "    <tr>\n",
              "      <th>4</th>\n",
              "      <td>오징어 게임 3분 요약 [Squid Game 3 minutes summary]</td>\n",
              "      <td>2021-09-26 07:31:20+00:00</td>\n",
              "      <td>소맥거핀</td>\n",
              "      <td>1</td>\n",
              "      <td>2021-10-09 00:00:00+00:00</td>\n",
              "      <td>메이플|메이플스토리|메이플 만화|게임 만화|병맛|웃긴|만화|루시드냥|소맥거핀|애니메...</td>\n",
              "      <td>35853161</td>\n",
              "      <td>966094</td>\n",
              "      <td>18815</td>\n",
              "      <td>34813</td>\n",
              "      <td>False</td>\n",
              "      <td>False</td>\n",
              "    </tr>\n",
              "  </tbody>\n",
              "</table>\n",
              "</div>\n",
              "      <button class=\"colab-df-convert\" onclick=\"convertToInteractive('df-e6af01ae-667f-42a9-ae66-7d94bfe0bc2e')\"\n",
              "              title=\"Convert this dataframe to an interactive table.\"\n",
              "              style=\"display:none;\">\n",
              "        \n",
              "  <svg xmlns=\"http://www.w3.org/2000/svg\" height=\"24px\"viewBox=\"0 0 24 24\"\n",
              "       width=\"24px\">\n",
              "    <path d=\"M0 0h24v24H0V0z\" fill=\"none\"/>\n",
              "    <path d=\"M18.56 5.44l.94 2.06.94-2.06 2.06-.94-2.06-.94-.94-2.06-.94 2.06-2.06.94zm-11 1L8.5 8.5l.94-2.06 2.06-.94-2.06-.94L8.5 2.5l-.94 2.06-2.06.94zm10 10l.94 2.06.94-2.06 2.06-.94-2.06-.94-.94-2.06-.94 2.06-2.06.94z\"/><path d=\"M17.41 7.96l-1.37-1.37c-.4-.4-.92-.59-1.43-.59-.52 0-1.04.2-1.43.59L10.3 9.45l-7.72 7.72c-.78.78-.78 2.05 0 2.83L4 21.41c.39.39.9.59 1.41.59.51 0 1.02-.2 1.41-.59l7.78-7.78 2.81-2.81c.8-.78.8-2.07 0-2.86zM5.41 20L4 18.59l7.72-7.72 1.47 1.35L5.41 20z\"/>\n",
              "  </svg>\n",
              "      </button>\n",
              "      \n",
              "  <style>\n",
              "    .colab-df-container {\n",
              "      display:flex;\n",
              "      flex-wrap:wrap;\n",
              "      gap: 12px;\n",
              "    }\n",
              "\n",
              "    .colab-df-convert {\n",
              "      background-color: #E8F0FE;\n",
              "      border: none;\n",
              "      border-radius: 50%;\n",
              "      cursor: pointer;\n",
              "      display: none;\n",
              "      fill: #1967D2;\n",
              "      height: 32px;\n",
              "      padding: 0 0 0 0;\n",
              "      width: 32px;\n",
              "    }\n",
              "\n",
              "    .colab-df-convert:hover {\n",
              "      background-color: #E2EBFA;\n",
              "      box-shadow: 0px 1px 2px rgba(60, 64, 67, 0.3), 0px 1px 3px 1px rgba(60, 64, 67, 0.15);\n",
              "      fill: #174EA6;\n",
              "    }\n",
              "\n",
              "    [theme=dark] .colab-df-convert {\n",
              "      background-color: #3B4455;\n",
              "      fill: #D2E3FC;\n",
              "    }\n",
              "\n",
              "    [theme=dark] .colab-df-convert:hover {\n",
              "      background-color: #434B5C;\n",
              "      box-shadow: 0px 1px 3px 1px rgba(0, 0, 0, 0.15);\n",
              "      filter: drop-shadow(0px 1px 2px rgba(0, 0, 0, 0.3));\n",
              "      fill: #FFFFFF;\n",
              "    }\n",
              "  </style>\n",
              "\n",
              "      <script>\n",
              "        const buttonEl =\n",
              "          document.querySelector('#df-e6af01ae-667f-42a9-ae66-7d94bfe0bc2e button.colab-df-convert');\n",
              "        buttonEl.style.display =\n",
              "          google.colab.kernel.accessAllowed ? 'block' : 'none';\n",
              "\n",
              "        async function convertToInteractive(key) {\n",
              "          const element = document.querySelector('#df-e6af01ae-667f-42a9-ae66-7d94bfe0bc2e');\n",
              "          const dataTable =\n",
              "            await google.colab.kernel.invokeFunction('convertToInteractive',\n",
              "                                                     [key], {});\n",
              "          if (!dataTable) return;\n",
              "\n",
              "          const docLinkHtml = 'Like what you see? Visit the ' +\n",
              "            '<a target=\"_blank\" href=https://colab.research.google.com/notebooks/data_table.ipynb>data table notebook</a>'\n",
              "            + ' to learn more about interactive tables.';\n",
              "          element.innerHTML = '';\n",
              "          dataTable['output_type'] = 'display_data';\n",
              "          await google.colab.output.renderOutput(dataTable, element);\n",
              "          const docLink = document.createElement('div');\n",
              "          docLink.innerHTML = docLinkHtml;\n",
              "          element.appendChild(docLink);\n",
              "        }\n",
              "      </script>\n",
              "    </div>\n",
              "  </div>\n",
              "  "
            ]
          },
          "metadata": {},
          "execution_count": 125
        }
      ]
    },
    {
      "cell_type": "markdown",
      "source": [
        "#### tags 열 정리하기"
      ],
      "metadata": {
        "id": "1z0YODnULhrM"
      }
    },
    {
      "cell_type": "markdown",
      "source": [
        "##### yt **\"tags\"** 열의 `[None]` 값을 결측치로 바꿔주기\n",
        "- `[None]` 값이 남아있으면, 비어있는 리스트가 아닌 `[None]` 이라는 문자열을 가진 길이 1의 리스트가 될 것\n",
        "  - 이를 방지하기 위해 `[None]`을 `''`, 즉 결측값으로 대체"
      ],
      "metadata": {
        "id": "I8u805b3JR3I"
      }
    },
    {
      "cell_type": "code",
      "source": [
        "yt1=yt.copy() # 실수 방지용"
      ],
      "metadata": {
        "id": "PHZNxN6I4jj0"
      },
      "execution_count": null,
      "outputs": []
    },
    {
      "cell_type": "code",
      "source": [
        "mask = yt1[\"tags\"]==\"[None]\""
      ],
      "metadata": {
        "id": "OrmGnY2OHy5H"
      },
      "execution_count": null,
      "outputs": []
    },
    {
      "cell_type": "code",
      "source": [
        "yt1.loc[mask,\"tags\"]=\"\""
      ],
      "metadata": {
        "id": "Zpb4EtO5LKZq"
      },
      "execution_count": null,
      "outputs": []
    },
    {
      "cell_type": "code",
      "source": [
        "yt1.head()"
      ],
      "metadata": {
        "colab": {
          "base_uri": "https://localhost:8080/",
          "height": 444
        },
        "id": "bz6GvFIT86ks",
        "outputId": "4ea3b4f3-b968-4351-fd18-bc6477d8407f"
      },
      "execution_count": null,
      "outputs": [
        {
          "output_type": "execute_result",
          "data": {
            "text/plain": [
              "                                               title  \\\n",
              "0  The Call | Season 2022 Cinematic - League of L...   \n",
              "1                           Apple Event — October 13   \n",
              "2  Join the BTS #PermissiontoDance Challenge only...   \n",
              "3                       TREASURE - '직진 (JIKJIN)' M/V   \n",
              "4        오징어 게임 3분 요약 [Squid Game 3 minutes summary]   \n",
              "\n",
              "                     update       channelTitle  categoryId  \\\n",
              "0 2022-01-07 15:06:43+00:00  League of Legends          20   \n",
              "1 2020-10-13 18:15:12+00:00              Apple          28   \n",
              "2 2021-08-06 00:33:36+00:00            YouTube          27   \n",
              "3 2022-02-15 09:00:14+00:00     TREASURE (트레저)          24   \n",
              "4 2021-09-26 07:31:20+00:00               소맥거핀           1   \n",
              "\n",
              "                     trdate  \\\n",
              "0 2022-01-18 00:00:00+00:00   \n",
              "1 2020-10-22 00:00:00+00:00   \n",
              "2 2021-08-10 00:00:00+00:00   \n",
              "3 2022-02-27 00:00:00+00:00   \n",
              "4 2021-10-09 00:00:00+00:00   \n",
              "\n",
              "                                                tags  view_count    likes  \\\n",
              "0  Riot Games|Riot|League of Legends|League|LoL|M...    90978675   628274   \n",
              "1  Apple|Event|Keynote|Tim Cook|October|2020|Laun...    53761626   923078   \n",
              "2                                                       51624621        0   \n",
              "3  YG Entertainment|YG|와이지|K-pop|트레져|트레저|TREASURE...    46738207  1705442   \n",
              "4  메이플|메이플스토리|메이플 만화|게임 만화|병맛|웃긴|만화|루시드냥|소맥거핀|애니메...    35853161   966094   \n",
              "\n",
              "   dislikes  comment_count  comments_disabled  ratings_disabled  \n",
              "0         0          27684              False             False  \n",
              "1     53473              0               True             False  \n",
              "2         0              2              False              True  \n",
              "3         0         866379              False             False  \n",
              "4     18815          34813              False             False  "
            ],
            "text/html": [
              "\n",
              "  <div id=\"df-5078ba0d-2292-4d42-b09b-d90d8496919f\">\n",
              "    <div class=\"colab-df-container\">\n",
              "      <div>\n",
              "<style scoped>\n",
              "    .dataframe tbody tr th:only-of-type {\n",
              "        vertical-align: middle;\n",
              "    }\n",
              "\n",
              "    .dataframe tbody tr th {\n",
              "        vertical-align: top;\n",
              "    }\n",
              "\n",
              "    .dataframe thead th {\n",
              "        text-align: right;\n",
              "    }\n",
              "</style>\n",
              "<table border=\"1\" class=\"dataframe\">\n",
              "  <thead>\n",
              "    <tr style=\"text-align: right;\">\n",
              "      <th></th>\n",
              "      <th>title</th>\n",
              "      <th>update</th>\n",
              "      <th>channelTitle</th>\n",
              "      <th>categoryId</th>\n",
              "      <th>trdate</th>\n",
              "      <th>tags</th>\n",
              "      <th>view_count</th>\n",
              "      <th>likes</th>\n",
              "      <th>dislikes</th>\n",
              "      <th>comment_count</th>\n",
              "      <th>comments_disabled</th>\n",
              "      <th>ratings_disabled</th>\n",
              "    </tr>\n",
              "  </thead>\n",
              "  <tbody>\n",
              "    <tr>\n",
              "      <th>0</th>\n",
              "      <td>The Call | Season 2022 Cinematic - League of L...</td>\n",
              "      <td>2022-01-07 15:06:43+00:00</td>\n",
              "      <td>League of Legends</td>\n",
              "      <td>20</td>\n",
              "      <td>2022-01-18 00:00:00+00:00</td>\n",
              "      <td>Riot Games|Riot|League of Legends|League|LoL|M...</td>\n",
              "      <td>90978675</td>\n",
              "      <td>628274</td>\n",
              "      <td>0</td>\n",
              "      <td>27684</td>\n",
              "      <td>False</td>\n",
              "      <td>False</td>\n",
              "    </tr>\n",
              "    <tr>\n",
              "      <th>1</th>\n",
              "      <td>Apple Event — October 13</td>\n",
              "      <td>2020-10-13 18:15:12+00:00</td>\n",
              "      <td>Apple</td>\n",
              "      <td>28</td>\n",
              "      <td>2020-10-22 00:00:00+00:00</td>\n",
              "      <td>Apple|Event|Keynote|Tim Cook|October|2020|Laun...</td>\n",
              "      <td>53761626</td>\n",
              "      <td>923078</td>\n",
              "      <td>53473</td>\n",
              "      <td>0</td>\n",
              "      <td>True</td>\n",
              "      <td>False</td>\n",
              "    </tr>\n",
              "    <tr>\n",
              "      <th>2</th>\n",
              "      <td>Join the BTS #PermissiontoDance Challenge only...</td>\n",
              "      <td>2021-08-06 00:33:36+00:00</td>\n",
              "      <td>YouTube</td>\n",
              "      <td>27</td>\n",
              "      <td>2021-08-10 00:00:00+00:00</td>\n",
              "      <td></td>\n",
              "      <td>51624621</td>\n",
              "      <td>0</td>\n",
              "      <td>0</td>\n",
              "      <td>2</td>\n",
              "      <td>False</td>\n",
              "      <td>True</td>\n",
              "    </tr>\n",
              "    <tr>\n",
              "      <th>3</th>\n",
              "      <td>TREASURE - '직진 (JIKJIN)' M/V</td>\n",
              "      <td>2022-02-15 09:00:14+00:00</td>\n",
              "      <td>TREASURE (트레저)</td>\n",
              "      <td>24</td>\n",
              "      <td>2022-02-27 00:00:00+00:00</td>\n",
              "      <td>YG Entertainment|YG|와이지|K-pop|트레져|트레저|TREASURE...</td>\n",
              "      <td>46738207</td>\n",
              "      <td>1705442</td>\n",
              "      <td>0</td>\n",
              "      <td>866379</td>\n",
              "      <td>False</td>\n",
              "      <td>False</td>\n",
              "    </tr>\n",
              "    <tr>\n",
              "      <th>4</th>\n",
              "      <td>오징어 게임 3분 요약 [Squid Game 3 minutes summary]</td>\n",
              "      <td>2021-09-26 07:31:20+00:00</td>\n",
              "      <td>소맥거핀</td>\n",
              "      <td>1</td>\n",
              "      <td>2021-10-09 00:00:00+00:00</td>\n",
              "      <td>메이플|메이플스토리|메이플 만화|게임 만화|병맛|웃긴|만화|루시드냥|소맥거핀|애니메...</td>\n",
              "      <td>35853161</td>\n",
              "      <td>966094</td>\n",
              "      <td>18815</td>\n",
              "      <td>34813</td>\n",
              "      <td>False</td>\n",
              "      <td>False</td>\n",
              "    </tr>\n",
              "  </tbody>\n",
              "</table>\n",
              "</div>\n",
              "      <button class=\"colab-df-convert\" onclick=\"convertToInteractive('df-5078ba0d-2292-4d42-b09b-d90d8496919f')\"\n",
              "              title=\"Convert this dataframe to an interactive table.\"\n",
              "              style=\"display:none;\">\n",
              "        \n",
              "  <svg xmlns=\"http://www.w3.org/2000/svg\" height=\"24px\"viewBox=\"0 0 24 24\"\n",
              "       width=\"24px\">\n",
              "    <path d=\"M0 0h24v24H0V0z\" fill=\"none\"/>\n",
              "    <path d=\"M18.56 5.44l.94 2.06.94-2.06 2.06-.94-2.06-.94-.94-2.06-.94 2.06-2.06.94zm-11 1L8.5 8.5l.94-2.06 2.06-.94-2.06-.94L8.5 2.5l-.94 2.06-2.06.94zm10 10l.94 2.06.94-2.06 2.06-.94-2.06-.94-.94-2.06-.94 2.06-2.06.94z\"/><path d=\"M17.41 7.96l-1.37-1.37c-.4-.4-.92-.59-1.43-.59-.52 0-1.04.2-1.43.59L10.3 9.45l-7.72 7.72c-.78.78-.78 2.05 0 2.83L4 21.41c.39.39.9.59 1.41.59.51 0 1.02-.2 1.41-.59l7.78-7.78 2.81-2.81c.8-.78.8-2.07 0-2.86zM5.41 20L4 18.59l7.72-7.72 1.47 1.35L5.41 20z\"/>\n",
              "  </svg>\n",
              "      </button>\n",
              "      \n",
              "  <style>\n",
              "    .colab-df-container {\n",
              "      display:flex;\n",
              "      flex-wrap:wrap;\n",
              "      gap: 12px;\n",
              "    }\n",
              "\n",
              "    .colab-df-convert {\n",
              "      background-color: #E8F0FE;\n",
              "      border: none;\n",
              "      border-radius: 50%;\n",
              "      cursor: pointer;\n",
              "      display: none;\n",
              "      fill: #1967D2;\n",
              "      height: 32px;\n",
              "      padding: 0 0 0 0;\n",
              "      width: 32px;\n",
              "    }\n",
              "\n",
              "    .colab-df-convert:hover {\n",
              "      background-color: #E2EBFA;\n",
              "      box-shadow: 0px 1px 2px rgba(60, 64, 67, 0.3), 0px 1px 3px 1px rgba(60, 64, 67, 0.15);\n",
              "      fill: #174EA6;\n",
              "    }\n",
              "\n",
              "    [theme=dark] .colab-df-convert {\n",
              "      background-color: #3B4455;\n",
              "      fill: #D2E3FC;\n",
              "    }\n",
              "\n",
              "    [theme=dark] .colab-df-convert:hover {\n",
              "      background-color: #434B5C;\n",
              "      box-shadow: 0px 1px 3px 1px rgba(0, 0, 0, 0.15);\n",
              "      filter: drop-shadow(0px 1px 2px rgba(0, 0, 0, 0.3));\n",
              "      fill: #FFFFFF;\n",
              "    }\n",
              "  </style>\n",
              "\n",
              "      <script>\n",
              "        const buttonEl =\n",
              "          document.querySelector('#df-5078ba0d-2292-4d42-b09b-d90d8496919f button.colab-df-convert');\n",
              "        buttonEl.style.display =\n",
              "          google.colab.kernel.accessAllowed ? 'block' : 'none';\n",
              "\n",
              "        async function convertToInteractive(key) {\n",
              "          const element = document.querySelector('#df-5078ba0d-2292-4d42-b09b-d90d8496919f');\n",
              "          const dataTable =\n",
              "            await google.colab.kernel.invokeFunction('convertToInteractive',\n",
              "                                                     [key], {});\n",
              "          if (!dataTable) return;\n",
              "\n",
              "          const docLinkHtml = 'Like what you see? Visit the ' +\n",
              "            '<a target=\"_blank\" href=https://colab.research.google.com/notebooks/data_table.ipynb>data table notebook</a>'\n",
              "            + ' to learn more about interactive tables.';\n",
              "          element.innerHTML = '';\n",
              "          dataTable['output_type'] = 'display_data';\n",
              "          await google.colab.output.renderOutput(dataTable, element);\n",
              "          const docLink = document.createElement('div');\n",
              "          docLink.innerHTML = docLinkHtml;\n",
              "          element.appendChild(docLink);\n",
              "        }\n",
              "      </script>\n",
              "    </div>\n",
              "  </div>\n",
              "  "
            ]
          },
          "metadata": {},
          "execution_count": 182
        }
      ]
    },
    {
      "cell_type": "markdown",
      "source": [
        "##### 리스트 형태로 변환\n",
        "- 추후 태그를 통한 분석을 실시할 때에, list 형태로 저장되어있는 것이 분석에 더 용이할 것이라 판단\n",
        "  - tags의 값들을 모두 `|` 문자를 기준으로 나누어 리스트로 저장할 예정"
      ],
      "metadata": {
        "id": "ECn0yBVgLxbt"
      }
    },
    {
      "cell_type": "code",
      "source": [
        "for i in range(0,14198):\n",
        "  yt1[\"tags\"][i] = yt1[\"tags\"][i].split(\"|\")"
      ],
      "metadata": {
        "colab": {
          "base_uri": "https://localhost:8080/"
        },
        "id": "W-9Xbdkn5CGN",
        "outputId": "986a6c96-5add-4d18-94b5-14e902dad768"
      },
      "execution_count": null,
      "outputs": [
        {
          "output_type": "stream",
          "name": "stderr",
          "text": [
            "/usr/local/lib/python3.7/dist-packages/ipykernel_launcher.py:2: SettingWithCopyWarning: \n",
            "A value is trying to be set on a copy of a slice from a DataFrame\n",
            "\n",
            "See the caveats in the documentation: https://pandas.pydata.org/pandas-docs/stable/user_guide/indexing.html#returning-a-view-versus-a-copy\n",
            "  \n"
          ]
        }
      ]
    },
    {
      "cell_type": "code",
      "source": [
        "yt1[\"tags\"] # 실수 없이 모두 변경된 것을 확인"
      ],
      "metadata": {
        "colab": {
          "base_uri": "https://localhost:8080/"
        },
        "id": "jcsEeNar5JC1",
        "outputId": "c02372f0-1a62-4e1c-81d9-1c02a052f19c"
      },
      "execution_count": null,
      "outputs": [
        {
          "output_type": "execute_result",
          "data": {
            "text/plain": [
              "0        [Riot Games, Riot, League of Legends, League, ...\n",
              "1        [Apple, Event, Keynote, Tim Cook, October, 202...\n",
              "2                                                       []\n",
              "3        [YG Entertainment, YG, 와이지, K-pop, 트레져, 트레저, T...\n",
              "4        [메이플, 메이플스토리, 메이플 만화, 게임 만화, 병맛, 웃긴, 만화, 루시드냥,...\n",
              "                               ...                        \n",
              "14193    [사사건건, KBS, 뉴스, KBS1TV, 김원장, 정치, 여의도사사건건, 사사건건...\n",
              "14194    [사사건건, KBS, 뉴스, KBS1TV, 김원장, 정치, 여의도사사건건, 사사건건...\n",
              "14195                      [YTN라디오, 라디오프로그램, 이동형의 뉴스 정면승부]\n",
              "14196    [YouTube Originals, YouTube, Hello 2021 Korea,...\n",
              "14197                                                   []\n",
              "Name: tags, Length: 14198, dtype: object"
            ]
          },
          "metadata": {},
          "execution_count": 184
        }
      ]
    },
    {
      "cell_type": "code",
      "source": [
        "yt=yt1.copy() # 모든 작업이 완료되었으니, 다시 원래 변수명으로 데이터프레임 반환"
      ],
      "metadata": {
        "id": "Hjh4TrIP5ujc"
      },
      "execution_count": null,
      "outputs": []
    },
    {
      "cell_type": "markdown",
      "source": [
        "# 시간/요일과 조회수 & 좋아요 그림 확인하기"
      ],
      "metadata": {
        "id": "xkVjrrsYDzT1"
      }
    },
    {
      "cell_type": "markdown",
      "source": [
        "## 재차 데이터 변환 작업...\n",
        "- 처음부터 분석의 목적이 명확했다면 이럴 일이 없었을 것...\n",
        "- 하지만 지금은 배운 것을 복습하는 것이 목적이니 그냥 넘어가자"
      ],
      "metadata": {
        "id": "Jhr_fgsyToxR"
      }
    },
    {
      "cell_type": "markdown",
      "source": [
        "### 시간 데이터 추가 및 불필요한 데이터 제거\n",
        "- 편의상 **시간**, **요일**, **조회수**, **좋아요** 데이터만 두고 다른 열 모두 삭제\n",
        "\n",
        "> 물론 이 데이터를 통해 시간, 요일 별 자료를 조회하는 것은 의미가 없다. \n",
        "\n",
        ">지금은 분석보다 단순히 **연습** 목적으로 데이터를 다루고 있다. 실제 상관관계, 인과관계 등은 고려하지 말고, 재미로만 보자."
      ],
      "metadata": {
        "id": "Ck5lY0iTOBxH"
      }
    },
    {
      "cell_type": "code",
      "source": [
        "import datetime as dt"
      ],
      "metadata": {
        "id": "DzAPMl_DChGl"
      },
      "execution_count": null,
      "outputs": []
    },
    {
      "cell_type": "code",
      "source": [
        "yt2=yt.copy() # yt2의 update 열 값들을 모두 시간 값으로 바꿀 예정"
      ],
      "metadata": {
        "id": "mAnQVLUnDMQR"
      },
      "execution_count": null,
      "outputs": []
    },
    {
      "cell_type": "code",
      "source": [
        "yt2[\"uptime\"] = yt2[\"update\"].dt.hour\n",
        "yt2[\"updow\"] = yt2[\"update\"].dt.dayofweek"
      ],
      "metadata": {
        "id": "Hr52vqaXBPgG"
      },
      "execution_count": null,
      "outputs": []
    },
    {
      "cell_type": "code",
      "source": [
        "yt2.head(1)"
      ],
      "metadata": {
        "colab": {
          "base_uri": "https://localhost:8080/",
          "height": 266
        },
        "id": "cLMrNRwEQigM",
        "outputId": "b25d6585-3177-4169-9b20-98c058053063"
      },
      "execution_count": null,
      "outputs": [
        {
          "output_type": "execute_result",
          "data": {
            "text/plain": [
              "                                               title  \\\n",
              "0  The Call | Season 2022 Cinematic - League of L...   \n",
              "\n",
              "                     update       channelTitle  categoryId  \\\n",
              "0 2022-01-07 15:06:43+00:00  League of Legends          20   \n",
              "\n",
              "                     trdate  \\\n",
              "0 2022-01-18 00:00:00+00:00   \n",
              "\n",
              "                                                tags  view_count   likes  \\\n",
              "0  [Riot Games, Riot, League of Legends, League, ...    90978675  628274   \n",
              "\n",
              "   dislikes  comment_count  comments_disabled  ratings_disabled  uptime  updow  \n",
              "0         0          27684              False             False      15      4  "
            ],
            "text/html": [
              "\n",
              "  <div id=\"df-c8afc287-ca71-4ad5-adfc-004b0b8010ae\">\n",
              "    <div class=\"colab-df-container\">\n",
              "      <div>\n",
              "<style scoped>\n",
              "    .dataframe tbody tr th:only-of-type {\n",
              "        vertical-align: middle;\n",
              "    }\n",
              "\n",
              "    .dataframe tbody tr th {\n",
              "        vertical-align: top;\n",
              "    }\n",
              "\n",
              "    .dataframe thead th {\n",
              "        text-align: right;\n",
              "    }\n",
              "</style>\n",
              "<table border=\"1\" class=\"dataframe\">\n",
              "  <thead>\n",
              "    <tr style=\"text-align: right;\">\n",
              "      <th></th>\n",
              "      <th>title</th>\n",
              "      <th>update</th>\n",
              "      <th>channelTitle</th>\n",
              "      <th>categoryId</th>\n",
              "      <th>trdate</th>\n",
              "      <th>tags</th>\n",
              "      <th>view_count</th>\n",
              "      <th>likes</th>\n",
              "      <th>dislikes</th>\n",
              "      <th>comment_count</th>\n",
              "      <th>comments_disabled</th>\n",
              "      <th>ratings_disabled</th>\n",
              "      <th>uptime</th>\n",
              "      <th>updow</th>\n",
              "    </tr>\n",
              "  </thead>\n",
              "  <tbody>\n",
              "    <tr>\n",
              "      <th>0</th>\n",
              "      <td>The Call | Season 2022 Cinematic - League of L...</td>\n",
              "      <td>2022-01-07 15:06:43+00:00</td>\n",
              "      <td>League of Legends</td>\n",
              "      <td>20</td>\n",
              "      <td>2022-01-18 00:00:00+00:00</td>\n",
              "      <td>[Riot Games, Riot, League of Legends, League, ...</td>\n",
              "      <td>90978675</td>\n",
              "      <td>628274</td>\n",
              "      <td>0</td>\n",
              "      <td>27684</td>\n",
              "      <td>False</td>\n",
              "      <td>False</td>\n",
              "      <td>15</td>\n",
              "      <td>4</td>\n",
              "    </tr>\n",
              "  </tbody>\n",
              "</table>\n",
              "</div>\n",
              "      <button class=\"colab-df-convert\" onclick=\"convertToInteractive('df-c8afc287-ca71-4ad5-adfc-004b0b8010ae')\"\n",
              "              title=\"Convert this dataframe to an interactive table.\"\n",
              "              style=\"display:none;\">\n",
              "        \n",
              "  <svg xmlns=\"http://www.w3.org/2000/svg\" height=\"24px\"viewBox=\"0 0 24 24\"\n",
              "       width=\"24px\">\n",
              "    <path d=\"M0 0h24v24H0V0z\" fill=\"none\"/>\n",
              "    <path d=\"M18.56 5.44l.94 2.06.94-2.06 2.06-.94-2.06-.94-.94-2.06-.94 2.06-2.06.94zm-11 1L8.5 8.5l.94-2.06 2.06-.94-2.06-.94L8.5 2.5l-.94 2.06-2.06.94zm10 10l.94 2.06.94-2.06 2.06-.94-2.06-.94-.94-2.06-.94 2.06-2.06.94z\"/><path d=\"M17.41 7.96l-1.37-1.37c-.4-.4-.92-.59-1.43-.59-.52 0-1.04.2-1.43.59L10.3 9.45l-7.72 7.72c-.78.78-.78 2.05 0 2.83L4 21.41c.39.39.9.59 1.41.59.51 0 1.02-.2 1.41-.59l7.78-7.78 2.81-2.81c.8-.78.8-2.07 0-2.86zM5.41 20L4 18.59l7.72-7.72 1.47 1.35L5.41 20z\"/>\n",
              "  </svg>\n",
              "      </button>\n",
              "      \n",
              "  <style>\n",
              "    .colab-df-container {\n",
              "      display:flex;\n",
              "      flex-wrap:wrap;\n",
              "      gap: 12px;\n",
              "    }\n",
              "\n",
              "    .colab-df-convert {\n",
              "      background-color: #E8F0FE;\n",
              "      border: none;\n",
              "      border-radius: 50%;\n",
              "      cursor: pointer;\n",
              "      display: none;\n",
              "      fill: #1967D2;\n",
              "      height: 32px;\n",
              "      padding: 0 0 0 0;\n",
              "      width: 32px;\n",
              "    }\n",
              "\n",
              "    .colab-df-convert:hover {\n",
              "      background-color: #E2EBFA;\n",
              "      box-shadow: 0px 1px 2px rgba(60, 64, 67, 0.3), 0px 1px 3px 1px rgba(60, 64, 67, 0.15);\n",
              "      fill: #174EA6;\n",
              "    }\n",
              "\n",
              "    [theme=dark] .colab-df-convert {\n",
              "      background-color: #3B4455;\n",
              "      fill: #D2E3FC;\n",
              "    }\n",
              "\n",
              "    [theme=dark] .colab-df-convert:hover {\n",
              "      background-color: #434B5C;\n",
              "      box-shadow: 0px 1px 3px 1px rgba(0, 0, 0, 0.15);\n",
              "      filter: drop-shadow(0px 1px 2px rgba(0, 0, 0, 0.3));\n",
              "      fill: #FFFFFF;\n",
              "    }\n",
              "  </style>\n",
              "\n",
              "      <script>\n",
              "        const buttonEl =\n",
              "          document.querySelector('#df-c8afc287-ca71-4ad5-adfc-004b0b8010ae button.colab-df-convert');\n",
              "        buttonEl.style.display =\n",
              "          google.colab.kernel.accessAllowed ? 'block' : 'none';\n",
              "\n",
              "        async function convertToInteractive(key) {\n",
              "          const element = document.querySelector('#df-c8afc287-ca71-4ad5-adfc-004b0b8010ae');\n",
              "          const dataTable =\n",
              "            await google.colab.kernel.invokeFunction('convertToInteractive',\n",
              "                                                     [key], {});\n",
              "          if (!dataTable) return;\n",
              "\n",
              "          const docLinkHtml = 'Like what you see? Visit the ' +\n",
              "            '<a target=\"_blank\" href=https://colab.research.google.com/notebooks/data_table.ipynb>data table notebook</a>'\n",
              "            + ' to learn more about interactive tables.';\n",
              "          element.innerHTML = '';\n",
              "          dataTable['output_type'] = 'display_data';\n",
              "          await google.colab.output.renderOutput(dataTable, element);\n",
              "          const docLink = document.createElement('div');\n",
              "          docLink.innerHTML = docLinkHtml;\n",
              "          element.appendChild(docLink);\n",
              "        }\n",
              "      </script>\n",
              "    </div>\n",
              "  </div>\n",
              "  "
            ]
          },
          "metadata": {},
          "execution_count": 236
        }
      ]
    },
    {
      "cell_type": "code",
      "source": [
        "delete_cols = [\"trdate\",\"update\",\"channelTitle\",\"categoryId\",\"tags\",\"dislikes\",\"comment_count\",\"comments_disabled\",\"ratings_disabled\"]"
      ],
      "metadata": {
        "id": "MMSQSVj4F6GS"
      },
      "execution_count": null,
      "outputs": []
    },
    {
      "cell_type": "code",
      "source": [
        "yt2 = yt2.drop(delete_cols,axis=1)"
      ],
      "metadata": {
        "id": "kyh1W05RRZaH"
      },
      "execution_count": null,
      "outputs": []
    },
    {
      "cell_type": "code",
      "source": [
        "yt2.head(1)"
      ],
      "metadata": {
        "colab": {
          "base_uri": "https://localhost:8080/",
          "height": 81
        },
        "id": "_fumGmCXRw3O",
        "outputId": "c33fac53-43f1-423b-fd79-36ce9896145e"
      },
      "execution_count": null,
      "outputs": [
        {
          "output_type": "execute_result",
          "data": {
            "text/plain": [
              "                                               title  view_count   likes  \\\n",
              "0  The Call | Season 2022 Cinematic - League of L...    90978675  628274   \n",
              "\n",
              "   uptime  updow  \n",
              "0      15      4  "
            ],
            "text/html": [
              "\n",
              "  <div id=\"df-23a268cf-6a47-400e-b61f-7996460718bf\">\n",
              "    <div class=\"colab-df-container\">\n",
              "      <div>\n",
              "<style scoped>\n",
              "    .dataframe tbody tr th:only-of-type {\n",
              "        vertical-align: middle;\n",
              "    }\n",
              "\n",
              "    .dataframe tbody tr th {\n",
              "        vertical-align: top;\n",
              "    }\n",
              "\n",
              "    .dataframe thead th {\n",
              "        text-align: right;\n",
              "    }\n",
              "</style>\n",
              "<table border=\"1\" class=\"dataframe\">\n",
              "  <thead>\n",
              "    <tr style=\"text-align: right;\">\n",
              "      <th></th>\n",
              "      <th>title</th>\n",
              "      <th>view_count</th>\n",
              "      <th>likes</th>\n",
              "      <th>uptime</th>\n",
              "      <th>updow</th>\n",
              "    </tr>\n",
              "  </thead>\n",
              "  <tbody>\n",
              "    <tr>\n",
              "      <th>0</th>\n",
              "      <td>The Call | Season 2022 Cinematic - League of L...</td>\n",
              "      <td>90978675</td>\n",
              "      <td>628274</td>\n",
              "      <td>15</td>\n",
              "      <td>4</td>\n",
              "    </tr>\n",
              "  </tbody>\n",
              "</table>\n",
              "</div>\n",
              "      <button class=\"colab-df-convert\" onclick=\"convertToInteractive('df-23a268cf-6a47-400e-b61f-7996460718bf')\"\n",
              "              title=\"Convert this dataframe to an interactive table.\"\n",
              "              style=\"display:none;\">\n",
              "        \n",
              "  <svg xmlns=\"http://www.w3.org/2000/svg\" height=\"24px\"viewBox=\"0 0 24 24\"\n",
              "       width=\"24px\">\n",
              "    <path d=\"M0 0h24v24H0V0z\" fill=\"none\"/>\n",
              "    <path d=\"M18.56 5.44l.94 2.06.94-2.06 2.06-.94-2.06-.94-.94-2.06-.94 2.06-2.06.94zm-11 1L8.5 8.5l.94-2.06 2.06-.94-2.06-.94L8.5 2.5l-.94 2.06-2.06.94zm10 10l.94 2.06.94-2.06 2.06-.94-2.06-.94-.94-2.06-.94 2.06-2.06.94z\"/><path d=\"M17.41 7.96l-1.37-1.37c-.4-.4-.92-.59-1.43-.59-.52 0-1.04.2-1.43.59L10.3 9.45l-7.72 7.72c-.78.78-.78 2.05 0 2.83L4 21.41c.39.39.9.59 1.41.59.51 0 1.02-.2 1.41-.59l7.78-7.78 2.81-2.81c.8-.78.8-2.07 0-2.86zM5.41 20L4 18.59l7.72-7.72 1.47 1.35L5.41 20z\"/>\n",
              "  </svg>\n",
              "      </button>\n",
              "      \n",
              "  <style>\n",
              "    .colab-df-container {\n",
              "      display:flex;\n",
              "      flex-wrap:wrap;\n",
              "      gap: 12px;\n",
              "    }\n",
              "\n",
              "    .colab-df-convert {\n",
              "      background-color: #E8F0FE;\n",
              "      border: none;\n",
              "      border-radius: 50%;\n",
              "      cursor: pointer;\n",
              "      display: none;\n",
              "      fill: #1967D2;\n",
              "      height: 32px;\n",
              "      padding: 0 0 0 0;\n",
              "      width: 32px;\n",
              "    }\n",
              "\n",
              "    .colab-df-convert:hover {\n",
              "      background-color: #E2EBFA;\n",
              "      box-shadow: 0px 1px 2px rgba(60, 64, 67, 0.3), 0px 1px 3px 1px rgba(60, 64, 67, 0.15);\n",
              "      fill: #174EA6;\n",
              "    }\n",
              "\n",
              "    [theme=dark] .colab-df-convert {\n",
              "      background-color: #3B4455;\n",
              "      fill: #D2E3FC;\n",
              "    }\n",
              "\n",
              "    [theme=dark] .colab-df-convert:hover {\n",
              "      background-color: #434B5C;\n",
              "      box-shadow: 0px 1px 3px 1px rgba(0, 0, 0, 0.15);\n",
              "      filter: drop-shadow(0px 1px 2px rgba(0, 0, 0, 0.3));\n",
              "      fill: #FFFFFF;\n",
              "    }\n",
              "  </style>\n",
              "\n",
              "      <script>\n",
              "        const buttonEl =\n",
              "          document.querySelector('#df-23a268cf-6a47-400e-b61f-7996460718bf button.colab-df-convert');\n",
              "        buttonEl.style.display =\n",
              "          google.colab.kernel.accessAllowed ? 'block' : 'none';\n",
              "\n",
              "        async function convertToInteractive(key) {\n",
              "          const element = document.querySelector('#df-23a268cf-6a47-400e-b61f-7996460718bf');\n",
              "          const dataTable =\n",
              "            await google.colab.kernel.invokeFunction('convertToInteractive',\n",
              "                                                     [key], {});\n",
              "          if (!dataTable) return;\n",
              "\n",
              "          const docLinkHtml = 'Like what you see? Visit the ' +\n",
              "            '<a target=\"_blank\" href=https://colab.research.google.com/notebooks/data_table.ipynb>data table notebook</a>'\n",
              "            + ' to learn more about interactive tables.';\n",
              "          element.innerHTML = '';\n",
              "          dataTable['output_type'] = 'display_data';\n",
              "          await google.colab.output.renderOutput(dataTable, element);\n",
              "          const docLink = document.createElement('div');\n",
              "          docLink.innerHTML = docLinkHtml;\n",
              "          element.appendChild(docLink);\n",
              "        }\n",
              "      </script>\n",
              "    </div>\n",
              "  </div>\n",
              "  "
            ]
          },
          "metadata": {},
          "execution_count": 239
        }
      ]
    },
    {
      "cell_type": "markdown",
      "source": [
        "### dow(day of week)를 글자로 바꿔주자\n",
        "- **월요일이 0, 일요일이 6**\n",
        "- 함수를 안써주면 for문으로 계산이 늘어난다.\n",
        "  - 함수를 써주면 apply 함수를 통한 병렬 계산이 가능해진다.\n",
        "  - for문을 자주 쓰는건 시간 복잡도를 늘려 좋지 않다고 했다."
      ],
      "metadata": {
        "id": "euc9OudFSO_k"
      }
    },
    {
      "cell_type": "code",
      "source": [
        "def dow_str_func(x):\n",
        "  if x == 0:\n",
        "    return \"월\"\n",
        "  elif x == 1:\n",
        "    return \"화\"\n",
        "  elif x == 2:\n",
        "    return \"수\"\n",
        "  elif x == 3:\n",
        "    return \"목\"\n",
        "  elif x == 4:\n",
        "    return \"금\"\n",
        "  elif x == 5:\n",
        "    return \"토\"\n",
        "  else:\n",
        "    return \"일\""
      ],
      "metadata": {
        "id": "S9ND-YvHScEN"
      },
      "execution_count": null,
      "outputs": []
    },
    {
      "cell_type": "markdown",
      "source": [
        "### 무턱대고 글자로 바꿔줬더니 그래프를 볼 수가 없다."
      ],
      "metadata": {
        "id": "O8_5-phraNj1"
      }
    },
    {
      "cell_type": "code",
      "source": [
        "def dow_num_func(x):\n",
        "  if x == \"월\":\n",
        "    return 0\n",
        "  elif x == \"화\":\n",
        "    return 1\n",
        "  elif x == \"수\":\n",
        "    return 2\n",
        "  elif x == \"목\":\n",
        "    return 3\n",
        "  elif x == \"금\":\n",
        "    return 4\n",
        "  elif x == \"토\":\n",
        "    return 5\n",
        "  else:\n",
        "    return 6"
      ],
      "metadata": {
        "id": "04sC6f8maCAr"
      },
      "execution_count": null,
      "outputs": []
    },
    {
      "cell_type": "code",
      "source": [
        "#yt2[\"updow\"] = yt2[\"updow\"].apply(dow_str_func)\n",
        "yt2[\"updow\"] = yt2[\"updow\"].apply(dow_num_func)"
      ],
      "metadata": {
        "id": "B6YjX6QwTKFK"
      },
      "execution_count": null,
      "outputs": []
    },
    {
      "cell_type": "code",
      "source": [
        "yt2.head(2)\n",
        "# 변환이 끝났다!"
      ],
      "metadata": {
        "colab": {
          "base_uri": "https://localhost:8080/",
          "height": 112
        },
        "id": "Rs5U-OnET26U",
        "outputId": "ac271cfa-5c06-4fc4-c602-51e0a9313fef"
      },
      "execution_count": null,
      "outputs": [
        {
          "output_type": "execute_result",
          "data": {
            "text/plain": [
              "                                               title  view_count   likes  \\\n",
              "0  The Call | Season 2022 Cinematic - League of L...    90978675  628274   \n",
              "1                           Apple Event — October 13    53761626  923078   \n",
              "\n",
              "   uptime  updow  \n",
              "0      15      4  \n",
              "1      18      1  "
            ],
            "text/html": [
              "\n",
              "  <div id=\"df-24105a11-7f7e-4f2f-a76e-45fe40824dbb\">\n",
              "    <div class=\"colab-df-container\">\n",
              "      <div>\n",
              "<style scoped>\n",
              "    .dataframe tbody tr th:only-of-type {\n",
              "        vertical-align: middle;\n",
              "    }\n",
              "\n",
              "    .dataframe tbody tr th {\n",
              "        vertical-align: top;\n",
              "    }\n",
              "\n",
              "    .dataframe thead th {\n",
              "        text-align: right;\n",
              "    }\n",
              "</style>\n",
              "<table border=\"1\" class=\"dataframe\">\n",
              "  <thead>\n",
              "    <tr style=\"text-align: right;\">\n",
              "      <th></th>\n",
              "      <th>title</th>\n",
              "      <th>view_count</th>\n",
              "      <th>likes</th>\n",
              "      <th>uptime</th>\n",
              "      <th>updow</th>\n",
              "    </tr>\n",
              "  </thead>\n",
              "  <tbody>\n",
              "    <tr>\n",
              "      <th>0</th>\n",
              "      <td>The Call | Season 2022 Cinematic - League of L...</td>\n",
              "      <td>90978675</td>\n",
              "      <td>628274</td>\n",
              "      <td>15</td>\n",
              "      <td>4</td>\n",
              "    </tr>\n",
              "    <tr>\n",
              "      <th>1</th>\n",
              "      <td>Apple Event — October 13</td>\n",
              "      <td>53761626</td>\n",
              "      <td>923078</td>\n",
              "      <td>18</td>\n",
              "      <td>1</td>\n",
              "    </tr>\n",
              "  </tbody>\n",
              "</table>\n",
              "</div>\n",
              "      <button class=\"colab-df-convert\" onclick=\"convertToInteractive('df-24105a11-7f7e-4f2f-a76e-45fe40824dbb')\"\n",
              "              title=\"Convert this dataframe to an interactive table.\"\n",
              "              style=\"display:none;\">\n",
              "        \n",
              "  <svg xmlns=\"http://www.w3.org/2000/svg\" height=\"24px\"viewBox=\"0 0 24 24\"\n",
              "       width=\"24px\">\n",
              "    <path d=\"M0 0h24v24H0V0z\" fill=\"none\"/>\n",
              "    <path d=\"M18.56 5.44l.94 2.06.94-2.06 2.06-.94-2.06-.94-.94-2.06-.94 2.06-2.06.94zm-11 1L8.5 8.5l.94-2.06 2.06-.94-2.06-.94L8.5 2.5l-.94 2.06-2.06.94zm10 10l.94 2.06.94-2.06 2.06-.94-2.06-.94-.94-2.06-.94 2.06-2.06.94z\"/><path d=\"M17.41 7.96l-1.37-1.37c-.4-.4-.92-.59-1.43-.59-.52 0-1.04.2-1.43.59L10.3 9.45l-7.72 7.72c-.78.78-.78 2.05 0 2.83L4 21.41c.39.39.9.59 1.41.59.51 0 1.02-.2 1.41-.59l7.78-7.78 2.81-2.81c.8-.78.8-2.07 0-2.86zM5.41 20L4 18.59l7.72-7.72 1.47 1.35L5.41 20z\"/>\n",
              "  </svg>\n",
              "      </button>\n",
              "      \n",
              "  <style>\n",
              "    .colab-df-container {\n",
              "      display:flex;\n",
              "      flex-wrap:wrap;\n",
              "      gap: 12px;\n",
              "    }\n",
              "\n",
              "    .colab-df-convert {\n",
              "      background-color: #E8F0FE;\n",
              "      border: none;\n",
              "      border-radius: 50%;\n",
              "      cursor: pointer;\n",
              "      display: none;\n",
              "      fill: #1967D2;\n",
              "      height: 32px;\n",
              "      padding: 0 0 0 0;\n",
              "      width: 32px;\n",
              "    }\n",
              "\n",
              "    .colab-df-convert:hover {\n",
              "      background-color: #E2EBFA;\n",
              "      box-shadow: 0px 1px 2px rgba(60, 64, 67, 0.3), 0px 1px 3px 1px rgba(60, 64, 67, 0.15);\n",
              "      fill: #174EA6;\n",
              "    }\n",
              "\n",
              "    [theme=dark] .colab-df-convert {\n",
              "      background-color: #3B4455;\n",
              "      fill: #D2E3FC;\n",
              "    }\n",
              "\n",
              "    [theme=dark] .colab-df-convert:hover {\n",
              "      background-color: #434B5C;\n",
              "      box-shadow: 0px 1px 3px 1px rgba(0, 0, 0, 0.15);\n",
              "      filter: drop-shadow(0px 1px 2px rgba(0, 0, 0, 0.3));\n",
              "      fill: #FFFFFF;\n",
              "    }\n",
              "  </style>\n",
              "\n",
              "      <script>\n",
              "        const buttonEl =\n",
              "          document.querySelector('#df-24105a11-7f7e-4f2f-a76e-45fe40824dbb button.colab-df-convert');\n",
              "        buttonEl.style.display =\n",
              "          google.colab.kernel.accessAllowed ? 'block' : 'none';\n",
              "\n",
              "        async function convertToInteractive(key) {\n",
              "          const element = document.querySelector('#df-24105a11-7f7e-4f2f-a76e-45fe40824dbb');\n",
              "          const dataTable =\n",
              "            await google.colab.kernel.invokeFunction('convertToInteractive',\n",
              "                                                     [key], {});\n",
              "          if (!dataTable) return;\n",
              "\n",
              "          const docLinkHtml = 'Like what you see? Visit the ' +\n",
              "            '<a target=\"_blank\" href=https://colab.research.google.com/notebooks/data_table.ipynb>data table notebook</a>'\n",
              "            + ' to learn more about interactive tables.';\n",
              "          element.innerHTML = '';\n",
              "          dataTable['output_type'] = 'display_data';\n",
              "          await google.colab.output.renderOutput(dataTable, element);\n",
              "          const docLink = document.createElement('div');\n",
              "          docLink.innerHTML = docLinkHtml;\n",
              "          element.appendChild(docLink);\n",
              "        }\n",
              "      </script>\n",
              "    </div>\n",
              "  </div>\n",
              "  "
            ]
          },
          "metadata": {},
          "execution_count": 260
        }
      ]
    },
    {
      "cell_type": "markdown",
      "source": [
        "## 여러가지 그래프 적용해보기"
      ],
      "metadata": {
        "id": "G8mPQlT4UGti"
      }
    },
    {
      "cell_type": "markdown",
      "source": [
        "### pairplot\n",
        "- 요일 데이터를 문자로 전환하니, pairplot에서는 확인이 안된다"
      ],
      "metadata": {
        "id": "C8c2wxZAUkhU"
      }
    },
    {
      "cell_type": "code",
      "source": [
        "sns.pairplot(yt2)\n",
        "plt.show()"
      ],
      "metadata": {
        "colab": {
          "base_uri": "https://localhost:8080/",
          "height": 553
        },
        "id": "WOLOKNARMzre",
        "outputId": "ba1240d6-70e3-4a3d-df63-1c5c712ef422"
      },
      "execution_count": null,
      "outputs": [
        {
          "output_type": "display_data",
          "data": {
            "text/plain": [
              "<Figure size 540x540 with 12 Axes>"
            ],
            "image/png": "[encoded data removed]"
          },
          "metadata": {
            "image/png": {
              "width": 534,
              "height": 536
            },
            "needs_background": "light"
          }
        }
      ]
    },
    {
      "cell_type": "code",
      "source": [
        "sns.pairplot(yt2, hue='likes', palette='rainbow')\n",
        "plt.show()"
      ],
      "metadata": {
        "colab": {
          "base_uri": "https://localhost:8080/",
          "height": 377
        },
        "id": "-QcAjAeuNoGX",
        "outputId": "f724957e-ed3e-48ad-ae8c-8d53d83b1c22"
      },
      "execution_count": null,
      "outputs": [
        {
          "output_type": "display_data",
          "data": {
            "text/plain": [
              "<Figure size 410.875x360 with 6 Axes>"
            ],
            "image/png": "[encoded data removed]"
          },
          "metadata": {
            "image/png": {
              "width": 411,
              "height": 360
            },
            "needs_background": "light"
          }
        }
      ]
    },
    {
      "cell_type": "markdown",
      "source": [
        "### 업데이트시간/요일은 정규성을 띄는가?\n",
        "- 시간은 정규성이 보이는 듯 하지만, 그러한 성질을 갖고있다고 볼 순 없을 것 같다.\n",
        "- 업로드 요일에서 정규분포표가 나올거라는 기대가 있다는 것이 코미디다.\n",
        "- 번외로, 금요일이 대목이고, 토, 일은 유투버들도 쉬는 것 같다."
      ],
      "metadata": {
        "id": "EpzKQsSzWNq7"
      }
    },
    {
      "cell_type": "code",
      "source": [
        "sns.distplot(yt2['uptime'])\n",
        "plt.show()"
      ],
      "metadata": {
        "colab": {
          "base_uri": "https://localhost:8080/",
          "height": 338
        },
        "id": "i3oyk81kZbF1",
        "outputId": "3eaac0fd-989c-413f-b34d-53ea6423e2bd"
      },
      "execution_count": null,
      "outputs": [
        {
          "output_type": "stream",
          "name": "stderr",
          "text": [
            "/usr/local/lib/python3.7/dist-packages/seaborn/distributions.py:2619: FutureWarning: `distplot` is a deprecated function and will be removed in a future version. Please adapt your code to use either `displot` (a figure-level function with similar flexibility) or `histplot` (an axes-level function for histograms).\n",
            "  warnings.warn(msg, FutureWarning)\n"
          ]
        },
        {
          "output_type": "display_data",
          "data": {
            "text/plain": [
              "<Figure size 432x288 with 1 Axes>"
            ],
            "image/png": "[encoded data removed]"
          },
          "metadata": {
            "image/png": {
              "width": 391,
              "height": 264
            },
            "needs_background": "light"
          }
        }
      ]
    },
    {
      "cell_type": "code",
      "source": [
        "sns.distplot(yt2['updow'])\n",
        "plt.show()"
      ],
      "metadata": {
        "colab": {
          "base_uri": "https://localhost:8080/",
          "height": 338
        },
        "id": "h26EiBSfZ92t",
        "outputId": "48c75dd3-b7e1-4c1b-b785-42bb1d8797c0"
      },
      "execution_count": null,
      "outputs": [
        {
          "output_type": "stream",
          "name": "stderr",
          "text": [
            "/usr/local/lib/python3.7/dist-packages/seaborn/distributions.py:2619: FutureWarning: `distplot` is a deprecated function and will be removed in a future version. Please adapt your code to use either `displot` (a figure-level function with similar flexibility) or `histplot` (an axes-level function for histograms).\n",
            "  warnings.warn(msg, FutureWarning)\n"
          ]
        },
        {
          "output_type": "display_data",
          "data": {
            "text/plain": [
              "<Figure size 432x288 with 1 Axes>"
            ],
            "image/png": "[encoded data removed]"
          },
          "metadata": {
            "image/png": {
              "width": 385,
              "height": 264
            },
            "needs_background": "light"
          }
        }
      ]
    },
    {
      "cell_type": "markdown",
      "source": [
        "### 바 플롯\n",
        "- 요일마다 가장 많이 올리는 시간이 언제일까?"
      ],
      "metadata": {
        "id": "Ludw71Zrbm1U"
      }
    },
    {
      "cell_type": "code",
      "source": [
        "yt2.head()"
      ],
      "metadata": {
        "colab": {
          "base_uri": "https://localhost:8080/",
          "height": 206
        },
        "id": "mKlx-Bxee9V7",
        "outputId": "750229ae-139f-446a-f1da-ba6a2184b611"
      },
      "execution_count": null,
      "outputs": [
        {
          "output_type": "execute_result",
          "data": {
            "text/plain": [
              "                                               title  view_count    likes  \\\n",
              "0  The Call | Season 2022 Cinematic - League of L...    90978675   628274   \n",
              "1                           Apple Event — October 13    53761626   923078   \n",
              "2  Join the BTS #PermissiontoDance Challenge only...    51624621        0   \n",
              "3                       TREASURE - '직진 (JIKJIN)' M/V    46738207  1705442   \n",
              "4        오징어 게임 3분 요약 [Squid Game 3 minutes summary]    35853161   966094   \n",
              "\n",
              "   uptime  updow  \n",
              "0      15      4  \n",
              "1      18      1  \n",
              "2       0      4  \n",
              "3       9      1  \n",
              "4       7      6  "
            ],
            "text/html": [
              "\n",
              "  <div id=\"df-4ff374ad-ac2b-4ad0-9f62-525285584fa1\">\n",
              "    <div class=\"colab-df-container\">\n",
              "      <div>\n",
              "<style scoped>\n",
              "    .dataframe tbody tr th:only-of-type {\n",
              "        vertical-align: middle;\n",
              "    }\n",
              "\n",
              "    .dataframe tbody tr th {\n",
              "        vertical-align: top;\n",
              "    }\n",
              "\n",
              "    .dataframe thead th {\n",
              "        text-align: right;\n",
              "    }\n",
              "</style>\n",
              "<table border=\"1\" class=\"dataframe\">\n",
              "  <thead>\n",
              "    <tr style=\"text-align: right;\">\n",
              "      <th></th>\n",
              "      <th>title</th>\n",
              "      <th>view_count</th>\n",
              "      <th>likes</th>\n",
              "      <th>uptime</th>\n",
              "      <th>updow</th>\n",
              "    </tr>\n",
              "  </thead>\n",
              "  <tbody>\n",
              "    <tr>\n",
              "      <th>0</th>\n",
              "      <td>The Call | Season 2022 Cinematic - League of L...</td>\n",
              "      <td>90978675</td>\n",
              "      <td>628274</td>\n",
              "      <td>15</td>\n",
              "      <td>4</td>\n",
              "    </tr>\n",
              "    <tr>\n",
              "      <th>1</th>\n",
              "      <td>Apple Event — October 13</td>\n",
              "      <td>53761626</td>\n",
              "      <td>923078</td>\n",
              "      <td>18</td>\n",
              "      <td>1</td>\n",
              "    </tr>\n",
              "    <tr>\n",
              "      <th>2</th>\n",
              "      <td>Join the BTS #PermissiontoDance Challenge only...</td>\n",
              "      <td>51624621</td>\n",
              "      <td>0</td>\n",
              "      <td>0</td>\n",
              "      <td>4</td>\n",
              "    </tr>\n",
              "    <tr>\n",
              "      <th>3</th>\n",
              "      <td>TREASURE - '직진 (JIKJIN)' M/V</td>\n",
              "      <td>46738207</td>\n",
              "      <td>1705442</td>\n",
              "      <td>9</td>\n",
              "      <td>1</td>\n",
              "    </tr>\n",
              "    <tr>\n",
              "      <th>4</th>\n",
              "      <td>오징어 게임 3분 요약 [Squid Game 3 minutes summary]</td>\n",
              "      <td>35853161</td>\n",
              "      <td>966094</td>\n",
              "      <td>7</td>\n",
              "      <td>6</td>\n",
              "    </tr>\n",
              "  </tbody>\n",
              "</table>\n",
              "</div>\n",
              "      <button class=\"colab-df-convert\" onclick=\"convertToInteractive('df-4ff374ad-ac2b-4ad0-9f62-525285584fa1')\"\n",
              "              title=\"Convert this dataframe to an interactive table.\"\n",
              "              style=\"display:none;\">\n",
              "        \n",
              "  <svg xmlns=\"http://www.w3.org/2000/svg\" height=\"24px\"viewBox=\"0 0 24 24\"\n",
              "       width=\"24px\">\n",
              "    <path d=\"M0 0h24v24H0V0z\" fill=\"none\"/>\n",
              "    <path d=\"M18.56 5.44l.94 2.06.94-2.06 2.06-.94-2.06-.94-.94-2.06-.94 2.06-2.06.94zm-11 1L8.5 8.5l.94-2.06 2.06-.94-2.06-.94L8.5 2.5l-.94 2.06-2.06.94zm10 10l.94 2.06.94-2.06 2.06-.94-2.06-.94-.94-2.06-.94 2.06-2.06.94z\"/><path d=\"M17.41 7.96l-1.37-1.37c-.4-.4-.92-.59-1.43-.59-.52 0-1.04.2-1.43.59L10.3 9.45l-7.72 7.72c-.78.78-.78 2.05 0 2.83L4 21.41c.39.39.9.59 1.41.59.51 0 1.02-.2 1.41-.59l7.78-7.78 2.81-2.81c.8-.78.8-2.07 0-2.86zM5.41 20L4 18.59l7.72-7.72 1.47 1.35L5.41 20z\"/>\n",
              "  </svg>\n",
              "      </button>\n",
              "      \n",
              "  <style>\n",
              "    .colab-df-container {\n",
              "      display:flex;\n",
              "      flex-wrap:wrap;\n",
              "      gap: 12px;\n",
              "    }\n",
              "\n",
              "    .colab-df-convert {\n",
              "      background-color: #E8F0FE;\n",
              "      border: none;\n",
              "      border-radius: 50%;\n",
              "      cursor: pointer;\n",
              "      display: none;\n",
              "      fill: #1967D2;\n",
              "      height: 32px;\n",
              "      padding: 0 0 0 0;\n",
              "      width: 32px;\n",
              "    }\n",
              "\n",
              "    .colab-df-convert:hover {\n",
              "      background-color: #E2EBFA;\n",
              "      box-shadow: 0px 1px 2px rgba(60, 64, 67, 0.3), 0px 1px 3px 1px rgba(60, 64, 67, 0.15);\n",
              "      fill: #174EA6;\n",
              "    }\n",
              "\n",
              "    [theme=dark] .colab-df-convert {\n",
              "      background-color: #3B4455;\n",
              "      fill: #D2E3FC;\n",
              "    }\n",
              "\n",
              "    [theme=dark] .colab-df-convert:hover {\n",
              "      background-color: #434B5C;\n",
              "      box-shadow: 0px 1px 3px 1px rgba(0, 0, 0, 0.15);\n",
              "      filter: drop-shadow(0px 1px 2px rgba(0, 0, 0, 0.3));\n",
              "      fill: #FFFFFF;\n",
              "    }\n",
              "  </style>\n",
              "\n",
              "      <script>\n",
              "        const buttonEl =\n",
              "          document.querySelector('#df-4ff374ad-ac2b-4ad0-9f62-525285584fa1 button.colab-df-convert');\n",
              "        buttonEl.style.display =\n",
              "          google.colab.kernel.accessAllowed ? 'block' : 'none';\n",
              "\n",
              "        async function convertToInteractive(key) {\n",
              "          const element = document.querySelector('#df-4ff374ad-ac2b-4ad0-9f62-525285584fa1');\n",
              "          const dataTable =\n",
              "            await google.colab.kernel.invokeFunction('convertToInteractive',\n",
              "                                                     [key], {});\n",
              "          if (!dataTable) return;\n",
              "\n",
              "          const docLinkHtml = 'Like what you see? Visit the ' +\n",
              "            '<a target=\"_blank\" href=https://colab.research.google.com/notebooks/data_table.ipynb>data table notebook</a>'\n",
              "            + ' to learn more about interactive tables.';\n",
              "          element.innerHTML = '';\n",
              "          dataTable['output_type'] = 'display_data';\n",
              "          await google.colab.output.renderOutput(dataTable, element);\n",
              "          const docLink = document.createElement('div');\n",
              "          docLink.innerHTML = docLinkHtml;\n",
              "          element.appendChild(docLink);\n",
              "        }\n",
              "      </script>\n",
              "    </div>\n",
              "  </div>\n",
              "  "
            ]
          },
          "metadata": {},
          "execution_count": 291
        }
      ]
    },
    {
      "cell_type": "code",
      "source": [
        "yt2_1 = yt2.copy()\n",
        "yt2_1[\"updow\"] = yt2[\"updow\"].apply(dow_str_func)\n"
      ],
      "metadata": {
        "id": "HRG_mkJkewoj"
      },
      "execution_count": null,
      "outputs": []
    },
    {
      "cell_type": "code",
      "source": [
        "yt2_1.head()"
      ],
      "metadata": {
        "colab": {
          "base_uri": "https://localhost:8080/",
          "height": 206
        },
        "id": "GPq7vOKXfCJJ",
        "outputId": "112265e8-5011-402b-93d6-5560b042de01"
      },
      "execution_count": null,
      "outputs": [
        {
          "output_type": "execute_result",
          "data": {
            "text/plain": [
              "                                               title  view_count    likes  \\\n",
              "0  The Call | Season 2022 Cinematic - League of L...    90978675   628274   \n",
              "1                           Apple Event — October 13    53761626   923078   \n",
              "2  Join the BTS #PermissiontoDance Challenge only...    51624621        0   \n",
              "3                       TREASURE - '직진 (JIKJIN)' M/V    46738207  1705442   \n",
              "4        오징어 게임 3분 요약 [Squid Game 3 minutes summary]    35853161   966094   \n",
              "\n",
              "   uptime updow  \n",
              "0      15     금  \n",
              "1      18     화  \n",
              "2       0     금  \n",
              "3       9     화  \n",
              "4       7     일  "
            ],
            "text/html": [
              "\n",
              "  <div id=\"df-ace9d58a-757d-46f4-927f-10d0a49fd559\">\n",
              "    <div class=\"colab-df-container\">\n",
              "      <div>\n",
              "<style scoped>\n",
              "    .dataframe tbody tr th:only-of-type {\n",
              "        vertical-align: middle;\n",
              "    }\n",
              "\n",
              "    .dataframe tbody tr th {\n",
              "        vertical-align: top;\n",
              "    }\n",
              "\n",
              "    .dataframe thead th {\n",
              "        text-align: right;\n",
              "    }\n",
              "</style>\n",
              "<table border=\"1\" class=\"dataframe\">\n",
              "  <thead>\n",
              "    <tr style=\"text-align: right;\">\n",
              "      <th></th>\n",
              "      <th>title</th>\n",
              "      <th>view_count</th>\n",
              "      <th>likes</th>\n",
              "      <th>uptime</th>\n",
              "      <th>updow</th>\n",
              "    </tr>\n",
              "  </thead>\n",
              "  <tbody>\n",
              "    <tr>\n",
              "      <th>0</th>\n",
              "      <td>The Call | Season 2022 Cinematic - League of L...</td>\n",
              "      <td>90978675</td>\n",
              "      <td>628274</td>\n",
              "      <td>15</td>\n",
              "      <td>금</td>\n",
              "    </tr>\n",
              "    <tr>\n",
              "      <th>1</th>\n",
              "      <td>Apple Event — October 13</td>\n",
              "      <td>53761626</td>\n",
              "      <td>923078</td>\n",
              "      <td>18</td>\n",
              "      <td>화</td>\n",
              "    </tr>\n",
              "    <tr>\n",
              "      <th>2</th>\n",
              "      <td>Join the BTS #PermissiontoDance Challenge only...</td>\n",
              "      <td>51624621</td>\n",
              "      <td>0</td>\n",
              "      <td>0</td>\n",
              "      <td>금</td>\n",
              "    </tr>\n",
              "    <tr>\n",
              "      <th>3</th>\n",
              "      <td>TREASURE - '직진 (JIKJIN)' M/V</td>\n",
              "      <td>46738207</td>\n",
              "      <td>1705442</td>\n",
              "      <td>9</td>\n",
              "      <td>화</td>\n",
              "    </tr>\n",
              "    <tr>\n",
              "      <th>4</th>\n",
              "      <td>오징어 게임 3분 요약 [Squid Game 3 minutes summary]</td>\n",
              "      <td>35853161</td>\n",
              "      <td>966094</td>\n",
              "      <td>7</td>\n",
              "      <td>일</td>\n",
              "    </tr>\n",
              "  </tbody>\n",
              "</table>\n",
              "</div>\n",
              "      <button class=\"colab-df-convert\" onclick=\"convertToInteractive('df-ace9d58a-757d-46f4-927f-10d0a49fd559')\"\n",
              "              title=\"Convert this dataframe to an interactive table.\"\n",
              "              style=\"display:none;\">\n",
              "        \n",
              "  <svg xmlns=\"http://www.w3.org/2000/svg\" height=\"24px\"viewBox=\"0 0 24 24\"\n",
              "       width=\"24px\">\n",
              "    <path d=\"M0 0h24v24H0V0z\" fill=\"none\"/>\n",
              "    <path d=\"M18.56 5.44l.94 2.06.94-2.06 2.06-.94-2.06-.94-.94-2.06-.94 2.06-2.06.94zm-11 1L8.5 8.5l.94-2.06 2.06-.94-2.06-.94L8.5 2.5l-.94 2.06-2.06.94zm10 10l.94 2.06.94-2.06 2.06-.94-2.06-.94-.94-2.06-.94 2.06-2.06.94z\"/><path d=\"M17.41 7.96l-1.37-1.37c-.4-.4-.92-.59-1.43-.59-.52 0-1.04.2-1.43.59L10.3 9.45l-7.72 7.72c-.78.78-.78 2.05 0 2.83L4 21.41c.39.39.9.59 1.41.59.51 0 1.02-.2 1.41-.59l7.78-7.78 2.81-2.81c.8-.78.8-2.07 0-2.86zM5.41 20L4 18.59l7.72-7.72 1.47 1.35L5.41 20z\"/>\n",
              "  </svg>\n",
              "      </button>\n",
              "      \n",
              "  <style>\n",
              "    .colab-df-container {\n",
              "      display:flex;\n",
              "      flex-wrap:wrap;\n",
              "      gap: 12px;\n",
              "    }\n",
              "\n",
              "    .colab-df-convert {\n",
              "      background-color: #E8F0FE;\n",
              "      border: none;\n",
              "      border-radius: 50%;\n",
              "      cursor: pointer;\n",
              "      display: none;\n",
              "      fill: #1967D2;\n",
              "      height: 32px;\n",
              "      padding: 0 0 0 0;\n",
              "      width: 32px;\n",
              "    }\n",
              "\n",
              "    .colab-df-convert:hover {\n",
              "      background-color: #E2EBFA;\n",
              "      box-shadow: 0px 1px 2px rgba(60, 64, 67, 0.3), 0px 1px 3px 1px rgba(60, 64, 67, 0.15);\n",
              "      fill: #174EA6;\n",
              "    }\n",
              "\n",
              "    [theme=dark] .colab-df-convert {\n",
              "      background-color: #3B4455;\n",
              "      fill: #D2E3FC;\n",
              "    }\n",
              "\n",
              "    [theme=dark] .colab-df-convert:hover {\n",
              "      background-color: #434B5C;\n",
              "      box-shadow: 0px 1px 3px 1px rgba(0, 0, 0, 0.15);\n",
              "      filter: drop-shadow(0px 1px 2px rgba(0, 0, 0, 0.3));\n",
              "      fill: #FFFFFF;\n",
              "    }\n",
              "  </style>\n",
              "\n",
              "      <script>\n",
              "        const buttonEl =\n",
              "          document.querySelector('#df-ace9d58a-757d-46f4-927f-10d0a49fd559 button.colab-df-convert');\n",
              "        buttonEl.style.display =\n",
              "          google.colab.kernel.accessAllowed ? 'block' : 'none';\n",
              "\n",
              "        async function convertToInteractive(key) {\n",
              "          const element = document.querySelector('#df-ace9d58a-757d-46f4-927f-10d0a49fd559');\n",
              "          const dataTable =\n",
              "            await google.colab.kernel.invokeFunction('convertToInteractive',\n",
              "                                                     [key], {});\n",
              "          if (!dataTable) return;\n",
              "\n",
              "          const docLinkHtml = 'Like what you see? Visit the ' +\n",
              "            '<a target=\"_blank\" href=https://colab.research.google.com/notebooks/data_table.ipynb>data table notebook</a>'\n",
              "            + ' to learn more about interactive tables.';\n",
              "          element.innerHTML = '';\n",
              "          dataTable['output_type'] = 'display_data';\n",
              "          await google.colab.output.renderOutput(dataTable, element);\n",
              "          const docLink = document.createElement('div');\n",
              "          docLink.innerHTML = docLinkHtml;\n",
              "          element.appendChild(docLink);\n",
              "        }\n",
              "      </script>\n",
              "    </div>\n",
              "  </div>\n",
              "  "
            ]
          },
          "metadata": {},
          "execution_count": 302
        }
      ]
    },
    {
      "cell_type": "code",
      "source": [
        "choose_columns = [\"updow\",\"uptime\"]\n",
        "yt2_2=yt2_1[choose_columns]"
      ],
      "metadata": {
        "id": "Pvs4IAoBboEN"
      },
      "execution_count": null,
      "outputs": []
    },
    {
      "cell_type": "code",
      "source": [
        "yt2_2.head()"
      ],
      "metadata": {
        "colab": {
          "base_uri": "https://localhost:8080/",
          "height": 206
        },
        "id": "HAeqJTKJfG8g",
        "outputId": "2ce6ed99-c70f-49cb-b12b-c9b65248fdb2"
      },
      "execution_count": null,
      "outputs": [
        {
          "output_type": "execute_result",
          "data": {
            "text/plain": [
              "  updow  uptime\n",
              "0     금      15\n",
              "1     화      18\n",
              "2     금       0\n",
              "3     화       9\n",
              "4     일       7"
            ],
            "text/html": [
              "\n",
              "  <div id=\"df-fa9d0f5b-8e1d-4348-9f10-9612772f46d8\">\n",
              "    <div class=\"colab-df-container\">\n",
              "      <div>\n",
              "<style scoped>\n",
              "    .dataframe tbody tr th:only-of-type {\n",
              "        vertical-align: middle;\n",
              "    }\n",
              "\n",
              "    .dataframe tbody tr th {\n",
              "        vertical-align: top;\n",
              "    }\n",
              "\n",
              "    .dataframe thead th {\n",
              "        text-align: right;\n",
              "    }\n",
              "</style>\n",
              "<table border=\"1\" class=\"dataframe\">\n",
              "  <thead>\n",
              "    <tr style=\"text-align: right;\">\n",
              "      <th></th>\n",
              "      <th>updow</th>\n",
              "      <th>uptime</th>\n",
              "    </tr>\n",
              "  </thead>\n",
              "  <tbody>\n",
              "    <tr>\n",
              "      <th>0</th>\n",
              "      <td>금</td>\n",
              "      <td>15</td>\n",
              "    </tr>\n",
              "    <tr>\n",
              "      <th>1</th>\n",
              "      <td>화</td>\n",
              "      <td>18</td>\n",
              "    </tr>\n",
              "    <tr>\n",
              "      <th>2</th>\n",
              "      <td>금</td>\n",
              "      <td>0</td>\n",
              "    </tr>\n",
              "    <tr>\n",
              "      <th>3</th>\n",
              "      <td>화</td>\n",
              "      <td>9</td>\n",
              "    </tr>\n",
              "    <tr>\n",
              "      <th>4</th>\n",
              "      <td>일</td>\n",
              "      <td>7</td>\n",
              "    </tr>\n",
              "  </tbody>\n",
              "</table>\n",
              "</div>\n",
              "      <button class=\"colab-df-convert\" onclick=\"convertToInteractive('df-fa9d0f5b-8e1d-4348-9f10-9612772f46d8')\"\n",
              "              title=\"Convert this dataframe to an interactive table.\"\n",
              "              style=\"display:none;\">\n",
              "        \n",
              "  <svg xmlns=\"http://www.w3.org/2000/svg\" height=\"24px\"viewBox=\"0 0 24 24\"\n",
              "       width=\"24px\">\n",
              "    <path d=\"M0 0h24v24H0V0z\" fill=\"none\"/>\n",
              "    <path d=\"M18.56 5.44l.94 2.06.94-2.06 2.06-.94-2.06-.94-.94-2.06-.94 2.06-2.06.94zm-11 1L8.5 8.5l.94-2.06 2.06-.94-2.06-.94L8.5 2.5l-.94 2.06-2.06.94zm10 10l.94 2.06.94-2.06 2.06-.94-2.06-.94-.94-2.06-.94 2.06-2.06.94z\"/><path d=\"M17.41 7.96l-1.37-1.37c-.4-.4-.92-.59-1.43-.59-.52 0-1.04.2-1.43.59L10.3 9.45l-7.72 7.72c-.78.78-.78 2.05 0 2.83L4 21.41c.39.39.9.59 1.41.59.51 0 1.02-.2 1.41-.59l7.78-7.78 2.81-2.81c.8-.78.8-2.07 0-2.86zM5.41 20L4 18.59l7.72-7.72 1.47 1.35L5.41 20z\"/>\n",
              "  </svg>\n",
              "      </button>\n",
              "      \n",
              "  <style>\n",
              "    .colab-df-container {\n",
              "      display:flex;\n",
              "      flex-wrap:wrap;\n",
              "      gap: 12px;\n",
              "    }\n",
              "\n",
              "    .colab-df-convert {\n",
              "      background-color: #E8F0FE;\n",
              "      border: none;\n",
              "      border-radius: 50%;\n",
              "      cursor: pointer;\n",
              "      display: none;\n",
              "      fill: #1967D2;\n",
              "      height: 32px;\n",
              "      padding: 0 0 0 0;\n",
              "      width: 32px;\n",
              "    }\n",
              "\n",
              "    .colab-df-convert:hover {\n",
              "      background-color: #E2EBFA;\n",
              "      box-shadow: 0px 1px 2px rgba(60, 64, 67, 0.3), 0px 1px 3px 1px rgba(60, 64, 67, 0.15);\n",
              "      fill: #174EA6;\n",
              "    }\n",
              "\n",
              "    [theme=dark] .colab-df-convert {\n",
              "      background-color: #3B4455;\n",
              "      fill: #D2E3FC;\n",
              "    }\n",
              "\n",
              "    [theme=dark] .colab-df-convert:hover {\n",
              "      background-color: #434B5C;\n",
              "      box-shadow: 0px 1px 3px 1px rgba(0, 0, 0, 0.15);\n",
              "      filter: drop-shadow(0px 1px 2px rgba(0, 0, 0, 0.3));\n",
              "      fill: #FFFFFF;\n",
              "    }\n",
              "  </style>\n",
              "\n",
              "      <script>\n",
              "        const buttonEl =\n",
              "          document.querySelector('#df-fa9d0f5b-8e1d-4348-9f10-9612772f46d8 button.colab-df-convert');\n",
              "        buttonEl.style.display =\n",
              "          google.colab.kernel.accessAllowed ? 'block' : 'none';\n",
              "\n",
              "        async function convertToInteractive(key) {\n",
              "          const element = document.querySelector('#df-fa9d0f5b-8e1d-4348-9f10-9612772f46d8');\n",
              "          const dataTable =\n",
              "            await google.colab.kernel.invokeFunction('convertToInteractive',\n",
              "                                                     [key], {});\n",
              "          if (!dataTable) return;\n",
              "\n",
              "          const docLinkHtml = 'Like what you see? Visit the ' +\n",
              "            '<a target=\"_blank\" href=https://colab.research.google.com/notebooks/data_table.ipynb>data table notebook</a>'\n",
              "            + ' to learn more about interactive tables.';\n",
              "          element.innerHTML = '';\n",
              "          dataTable['output_type'] = 'display_data';\n",
              "          await google.colab.output.renderOutput(dataTable, element);\n",
              "          const docLink = document.createElement('div');\n",
              "          docLink.innerHTML = docLinkHtml;\n",
              "          element.appendChild(docLink);\n",
              "        }\n",
              "      </script>\n",
              "    </div>\n",
              "  </div>\n",
              "  "
            ]
          },
          "metadata": {},
          "execution_count": 295
        }
      ]
    },
    {
      "cell_type": "code",
      "source": [
        "sns.barplot(x='updow', y='uptime', data=yt2_2, palette='colorblind')\n",
        "plt.show()"
      ],
      "metadata": {
        "colab": {
          "base_uri": "https://localhost:8080/",
          "height": 282
        },
        "id": "xqTb9b8pdo2m",
        "outputId": "3534a15d-8896-43ca-860c-c1e8dcc89beb"
      },
      "execution_count": null,
      "outputs": [
        {
          "output_type": "display_data",
          "data": {
            "text/plain": [
              "<Figure size 432x288 with 1 Axes>"
            ],
            "image/png": "[encoded data removed]"
          },
          "metadata": {
            "image/png": {
              "width": 382,
              "height": 265
            },
            "needs_background": "light"
          }
        }
      ]
    },
    {
      "cell_type": "markdown",
      "source": [
        "### 산점도\n",
        "- 보기에는 아주 예쁘다."
      ],
      "metadata": {
        "id": "Gj5vCEeWgeGQ"
      }
    },
    {
      "cell_type": "code",
      "source": [
        "sns.lmplot(x='likes', y='view_count',hue='updow', data=yt2, palette='rainbow')\n",
        "plt.show()"
      ],
      "metadata": {
        "colab": {
          "base_uri": "https://localhost:8080/",
          "height": 372
        },
        "id": "CCIRwe_sgfeL",
        "outputId": "cd0d2754-297a-4597-db2f-4d3865038c94"
      },
      "execution_count": null,
      "outputs": [
        {
          "output_type": "display_data",
          "data": {
            "text/plain": [
              "<Figure size 402x360 with 1 Axes>"
            ],
            "image/png": "[encoded data removed]"
          },
          "metadata": {
            "image/png": {
              "width": 397,
              "height": 355
            },
            "needs_background": "light"
          }
        }
      ]
    },
    {
      "cell_type": "markdown",
      "source": [
        "# 느낀것\n",
        "- 데이터에 맞는 그래프를 쓰자. 만개의 데이터가 각각이 키값으로 인식되니 불상사가 일어난다.\n",
        " - 덮어놓고 그래프부터 그리지 말고, 맞는 그래프를 생각하고 그려야,,,\n",
        "\n",
        "- 특정 열 값을 변경할 때 실수를 많이한다. 예를 들면,\n",
        "```python\n",
        "yt = yt[\"update\"].dt.hour\n",
        "```\n",
        "위와 같이 입력하여 데이터프레임을 통째로 날려버린 적이 한두번이 아니다.\n",
        "```python\n",
        "yt[\"update\"] = yt[\"update\"].dt.hour\n",
        "```\n",
        "반드시 주의하자.\n",
        "\n",
        "- 확실히 관계없어보이는 자료들을 넣으니, 여기서는 뭔가 결과를 얻기가 힘들다."
      ],
      "metadata": {
        "id": "VYJluzMwYI3b"
      }
    },
    {
      "cell_type": "markdown",
      "source": [
        "#다음에 해볼만한 것들"
      ],
      "metadata": {
        "id": "zTD_HK1gQ7lX"
      }
    },
    {
      "cell_type": "markdown",
      "source": [
        "- 업로드 시간과 인급동 등재 시간 관계 확인해보기\n",
        "  - 아마 중복되는 데이터를 삭제하지 않고 해볼지도?\n",
        "\n",
        "- 어느 요일에 어떤 종류의 영상들이 많이 올라오나?\n",
        "- 뉴스 등의 데이터를 통해서, 어떠한 이슈가 있을 때 어떠한 동영상이 인급동에 올라갔는지도 볼 수 있겠다\n",
        "\n",
        "- 특정 시간대에 특정 영상들이 인급동에 올라가는 경향이 있을까?"
      ],
      "metadata": {
        "id": "ZVZDmAkhPUMR"
      }
    }
  ]
}