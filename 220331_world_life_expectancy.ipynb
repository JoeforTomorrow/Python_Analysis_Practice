{
  "nbformat": 4,
  "nbformat_minor": 0,
  "metadata": {
    "colab": {
      "name": "13기_조승기",
      "provenance": [],
      "collapsed_sections": [
        "JIVcyKRwjuNJ",
        "3gzHjc4TqyJc",
        "ztqfKOJSqyb1",
        "kXhDKyBhChoM",
        "wSZrnQhrq7v3",
        "_59wV_UcrKtg",
        "iAIhnV3ExlXP",
        "5oLOqo6PByrs",
        "nkI6vHX1B6NH",
        "VuCw0Ni5CB21",
        "FvFlrPUQCF2H",
        "exvjROsKCKeL",
        "wAlLUWZLCN7_",
        "Q-l6Dv61EMGs"
      ],
      "authorship_tag": "ABX9TyOPiUZMlVdf3rZ5GtyQIUa2"
    },
    "kernelspec": {
      "name": "python3",
      "display_name": "Python 3"
    },
    "language_info": {
      "name": "python"
    }
  },
  "cells": [
    {
      "cell_type": "markdown",
      "source": [
        "# **삼성 멀티캠퍼스 데이터 사이언스/엔지니어링 수업 실습**"
      ],
      "metadata": {
        "id": "HDgcTDWjluPy"
      }
    },
    {
      "cell_type": "markdown",
      "source": [
        "본 분석 및 시각화는, 통계적으로 유의미한 결과를 출력에 목적이 있는 것이 아닙니다.\n",
        "- pandas 및 seaborn 패키지 활용\n",
        "- Python과 SQL 연동 및 SQL 연습\n",
        "- ORM에 대한 이해\n",
        "\n",
        "본문의 내용은 상기한 내용과 관련하여, 해당 툴에 대한 이해도 향상, 그리고 반복 및 숙달에 그 목적이 있습니다."
      ],
      "metadata": {
        "id": "YnU6jm9wmHJY"
      }
    },
    {
      "cell_type": "markdown",
      "source": [
        "# World 데이터베이스의 테이블을 보고, Python에서 분석 및 시각화\n",
        "- 주제 : 국가의 GNP별 기대수명 상관관계 확인"
      ],
      "metadata": {
        "id": "JIVcyKRwjuNJ"
      }
    },
    {
      "cell_type": "markdown",
      "source": [
        "## 패키지 및 데이터 불러오기"
      ],
      "metadata": {
        "id": "3gzHjc4TqyJc"
      }
    },
    {
      "cell_type": "markdown",
      "source": [
        "### SQL Alchemy 불러오기"
      ],
      "metadata": {
        "id": "ztqfKOJSqyb1"
      }
    },
    {
      "cell_type": "code",
      "source": [
        "!pip install mysqlclient"
      ],
      "metadata": {
        "colab": {
          "base_uri": "https://localhost:8080/"
        },
        "id": "eGAw_JYTj4zs",
        "outputId": "85e0fb4f-7f77-4dc8-cf52-aa73e7fa2243"
      },
      "execution_count": null,
      "outputs": [
        {
          "output_type": "stream",
          "name": "stdout",
          "text": [
            "Collecting mysqlclient\n",
            "  Downloading mysqlclient-2.1.0.tar.gz (87 kB)\n",
            "\u001b[?25l\r\u001b[K     |███▊                            | 10 kB 14.6 MB/s eta 0:00:01\r\u001b[K     |███████▌                        | 20 kB 13.4 MB/s eta 0:00:01\r\u001b[K     |███████████▏                    | 30 kB 10.0 MB/s eta 0:00:01\r\u001b[K     |███████████████                 | 40 kB 9.0 MB/s eta 0:00:01\r\u001b[K     |██████████████████▊             | 51 kB 4.7 MB/s eta 0:00:01\r\u001b[K     |██████████████████████▍         | 61 kB 5.5 MB/s eta 0:00:01\r\u001b[K     |██████████████████████████▏     | 71 kB 5.5 MB/s eta 0:00:01\r\u001b[K     |██████████████████████████████  | 81 kB 6.1 MB/s eta 0:00:01\r\u001b[K     |████████████████████████████████| 87 kB 3.3 MB/s \n",
            "\u001b[?25hBuilding wheels for collected packages: mysqlclient\n",
            "  Building wheel for mysqlclient (setup.py) ... \u001b[?25l\u001b[?25hdone\n",
            "  Created wheel for mysqlclient: filename=mysqlclient-2.1.0-cp37-cp37m-linux_x86_64.whl size=99964 sha256=7f402508752fa7d227c046d0a471f078a7654b6275124bc1546115b0a54898f4\n",
            "  Stored in directory: /root/.cache/pip/wheels/97/d4/df/08cd6e1fa4a8691b268ab254bd0fa589827ab5b65638c010b4\n",
            "Successfully built mysqlclient\n",
            "Installing collected packages: mysqlclient\n",
            "Successfully installed mysqlclient-2.1.0\n"
          ]
        }
      ]
    },
    {
      "cell_type": "code",
      "source": [
        "from sqlalchemy import *\n",
        "from sqlalchemy.ext.declarative import declarative_base\n",
        "from sqlalchemy.orm import sessionmaker\n",
        "from sqlalchemy import func"
      ],
      "metadata": {
        "id": "0xrYXGRgpXMG"
      },
      "execution_count": null,
      "outputs": []
    },
    {
      "cell_type": "markdown",
      "source": [
        "### sqldb 불러오기"
      ],
      "metadata": {
        "id": "kXhDKyBhChoM"
      }
    },
    {
      "cell_type": "markdown",
      "source": [
        "seaborn 이용한 시각적 분석을 위해, sqldb를 통해 데이터프레임 형식으로 country 테이블을 저장하였다."
      ],
      "metadata": {
        "id": "KUSecRZ_EAqI"
      }
    },
    {
      "cell_type": "code",
      "source": [
        "!pip install mysqlclient"
      ],
      "metadata": {
        "colab": {
          "base_uri": "https://localhost:8080/"
        },
        "id": "vj828T9vDN9R",
        "outputId": "6b0a354a-0153-4f48-cedd-90d4690a11ca"
      },
      "execution_count": null,
      "outputs": [
        {
          "output_type": "stream",
          "name": "stdout",
          "text": [
            "Requirement already satisfied: mysqlclient in /usr/local/lib/python3.7/dist-packages (2.1.0)\n"
          ]
        }
      ]
    },
    {
      "cell_type": "code",
      "source": [
        "import MySQLdb"
      ],
      "metadata": {
        "id": "3P2qVx9pDlxL"
      },
      "execution_count": null,
      "outputs": []
    },
    {
      "cell_type": "code",
      "source": [
        "HOST = \"#######\"\n",
        "\n",
        "db = MySQLdb.connect(\n",
        "    HOST,\n",
        "    \"###\",\n",
        "    \"###\",\n",
        "    \"world\"\n",
        ")\n",
        "db"
      ],
      "metadata": {
        "id": "1Xus9y4vDrXt"
      },
      "execution_count": null,
      "outputs": []
    },
    {
      "cell_type": "code",
      "source": [
        "QUERY = \"\"\"\n",
        " SHOW\n",
        " TABLES;\n",
        "\"\"\"\n",
        "cursor = db.cursor()\n",
        "cursor.execute(QUERY)"
      ],
      "metadata": {
        "colab": {
          "base_uri": "https://localhost:8080/"
        },
        "id": "Z4EK9jJKDwuq",
        "outputId": "8212ce18-9824-4fc6-bb04-25a92a922ed5"
      },
      "execution_count": null,
      "outputs": [
        {
          "output_type": "execute_result",
          "data": {
            "text/plain": [
              "3"
            ]
          },
          "metadata": {},
          "execution_count": 123
        }
      ]
    },
    {
      "cell_type": "code",
      "source": [
        "cursor.fetchall()"
      ],
      "metadata": {
        "colab": {
          "base_uri": "https://localhost:8080/"
        },
        "id": "WvUJWCU4DziT",
        "outputId": "7c849244-e2c8-4d58-a737-39a161cfe4a7"
      },
      "execution_count": null,
      "outputs": [
        {
          "output_type": "execute_result",
          "data": {
            "text/plain": [
              "(('city',), ('country',), ('countrylanguage',))"
            ]
          },
          "metadata": {},
          "execution_count": 124
        }
      ]
    },
    {
      "cell_type": "code",
      "source": [
        "import pandas as pd\n",
        "\n",
        "QUERY = \"\"\"\n",
        "  SELECT *\n",
        "  FROM country\n",
        "\"\"\""
      ],
      "metadata": {
        "id": "ZA6ZpPgpD06g"
      },
      "execution_count": null,
      "outputs": []
    },
    {
      "cell_type": "code",
      "source": [
        "df_country = pd.read_sql(QUERY, db)\n",
        "df_country.head()"
      ],
      "metadata": {
        "colab": {
          "base_uri": "https://localhost:8080/",
          "height": 371
        },
        "id": "zykhz81-D3Q7",
        "outputId": "fbfcf865-035a-427e-cc5e-dc5f522fcf9d"
      },
      "execution_count": null,
      "outputs": [
        {
          "output_type": "execute_result",
          "data": {
            "text/plain": [
              "  Code         Name      Continent                     Region  SurfaceArea  \\\n",
              "0  ABW        Aruba  North America                  Caribbean        193.0   \n",
              "1  AFG  Afghanistan           Asia  Southern and Central Asia     652090.0   \n",
              "2  AGO       Angola         Africa             Central Africa    1246700.0   \n",
              "3  AIA     Anguilla  North America                  Caribbean         96.0   \n",
              "4  ALB      Albania         Europe            Southern Europe      28748.0   \n",
              "\n",
              "   IndepYear  Population  LifeExpectancy     GNP  GNPOld  \\\n",
              "0        NaN      103000            78.4   828.0   793.0   \n",
              "1     1919.0    22720000            45.9  5976.0     NaN   \n",
              "2     1975.0    12878000            38.3  6648.0  7984.0   \n",
              "3        NaN        8000            76.1    63.2     NaN   \n",
              "4     1912.0     3401200            71.6  3205.0  2500.0   \n",
              "\n",
              "               LocalName                                GovernmentForm  \\\n",
              "0                  Aruba  Nonmetropolitan Territory of The Netherlands   \n",
              "1  Afganistan/Afqanestan                               Islamic Emirate   \n",
              "2                 Angola                                      Republic   \n",
              "3               Anguilla                 Dependent Territory of the UK   \n",
              "4              Shqipëria                                      Republic   \n",
              "\n",
              "               HeadOfState  Capital Code2  \n",
              "0                  Beatrix    129.0    AW  \n",
              "1            Mohammad Omar      1.0    AF  \n",
              "2  José Eduardo dos Santos     56.0    AO  \n",
              "3             Elisabeth II     62.0    AI  \n",
              "4           Rexhep Mejdani     34.0    AL  "
            ],
            "text/html": [
              "\n",
              "  <div id=\"df-e93491ca-8d44-4afb-93d3-d10aa91f2e6c\">\n",
              "    <div class=\"colab-df-container\">\n",
              "      <div>\n",
              "<style scoped>\n",
              "    .dataframe tbody tr th:only-of-type {\n",
              "        vertical-align: middle;\n",
              "    }\n",
              "\n",
              "    .dataframe tbody tr th {\n",
              "        vertical-align: top;\n",
              "    }\n",
              "\n",
              "    .dataframe thead th {\n",
              "        text-align: right;\n",
              "    }\n",
              "</style>\n",
              "<table border=\"1\" class=\"dataframe\">\n",
              "  <thead>\n",
              "    <tr style=\"text-align: right;\">\n",
              "      <th></th>\n",
              "      <th>Code</th>\n",
              "      <th>Name</th>\n",
              "      <th>Continent</th>\n",
              "      <th>Region</th>\n",
              "      <th>SurfaceArea</th>\n",
              "      <th>IndepYear</th>\n",
              "      <th>Population</th>\n",
              "      <th>LifeExpectancy</th>\n",
              "      <th>GNP</th>\n",
              "      <th>GNPOld</th>\n",
              "      <th>LocalName</th>\n",
              "      <th>GovernmentForm</th>\n",
              "      <th>HeadOfState</th>\n",
              "      <th>Capital</th>\n",
              "      <th>Code2</th>\n",
              "    </tr>\n",
              "  </thead>\n",
              "  <tbody>\n",
              "    <tr>\n",
              "      <th>0</th>\n",
              "      <td>ABW</td>\n",
              "      <td>Aruba</td>\n",
              "      <td>North America</td>\n",
              "      <td>Caribbean</td>\n",
              "      <td>193.0</td>\n",
              "      <td>NaN</td>\n",
              "      <td>103000</td>\n",
              "      <td>78.4</td>\n",
              "      <td>828.0</td>\n",
              "      <td>793.0</td>\n",
              "      <td>Aruba</td>\n",
              "      <td>Nonmetropolitan Territory of The Netherlands</td>\n",
              "      <td>Beatrix</td>\n",
              "      <td>129.0</td>\n",
              "      <td>AW</td>\n",
              "    </tr>\n",
              "    <tr>\n",
              "      <th>1</th>\n",
              "      <td>AFG</td>\n",
              "      <td>Afghanistan</td>\n",
              "      <td>Asia</td>\n",
              "      <td>Southern and Central Asia</td>\n",
              "      <td>652090.0</td>\n",
              "      <td>1919.0</td>\n",
              "      <td>22720000</td>\n",
              "      <td>45.9</td>\n",
              "      <td>5976.0</td>\n",
              "      <td>NaN</td>\n",
              "      <td>Afganistan/Afqanestan</td>\n",
              "      <td>Islamic Emirate</td>\n",
              "      <td>Mohammad Omar</td>\n",
              "      <td>1.0</td>\n",
              "      <td>AF</td>\n",
              "    </tr>\n",
              "    <tr>\n",
              "      <th>2</th>\n",
              "      <td>AGO</td>\n",
              "      <td>Angola</td>\n",
              "      <td>Africa</td>\n",
              "      <td>Central Africa</td>\n",
              "      <td>1246700.0</td>\n",
              "      <td>1975.0</td>\n",
              "      <td>12878000</td>\n",
              "      <td>38.3</td>\n",
              "      <td>6648.0</td>\n",
              "      <td>7984.0</td>\n",
              "      <td>Angola</td>\n",
              "      <td>Republic</td>\n",
              "      <td>José Eduardo dos Santos</td>\n",
              "      <td>56.0</td>\n",
              "      <td>AO</td>\n",
              "    </tr>\n",
              "    <tr>\n",
              "      <th>3</th>\n",
              "      <td>AIA</td>\n",
              "      <td>Anguilla</td>\n",
              "      <td>North America</td>\n",
              "      <td>Caribbean</td>\n",
              "      <td>96.0</td>\n",
              "      <td>NaN</td>\n",
              "      <td>8000</td>\n",
              "      <td>76.1</td>\n",
              "      <td>63.2</td>\n",
              "      <td>NaN</td>\n",
              "      <td>Anguilla</td>\n",
              "      <td>Dependent Territory of the UK</td>\n",
              "      <td>Elisabeth II</td>\n",
              "      <td>62.0</td>\n",
              "      <td>AI</td>\n",
              "    </tr>\n",
              "    <tr>\n",
              "      <th>4</th>\n",
              "      <td>ALB</td>\n",
              "      <td>Albania</td>\n",
              "      <td>Europe</td>\n",
              "      <td>Southern Europe</td>\n",
              "      <td>28748.0</td>\n",
              "      <td>1912.0</td>\n",
              "      <td>3401200</td>\n",
              "      <td>71.6</td>\n",
              "      <td>3205.0</td>\n",
              "      <td>2500.0</td>\n",
              "      <td>Shqipëria</td>\n",
              "      <td>Republic</td>\n",
              "      <td>Rexhep Mejdani</td>\n",
              "      <td>34.0</td>\n",
              "      <td>AL</td>\n",
              "    </tr>\n",
              "  </tbody>\n",
              "</table>\n",
              "</div>\n",
              "      <button class=\"colab-df-convert\" onclick=\"convertToInteractive('df-e93491ca-8d44-4afb-93d3-d10aa91f2e6c')\"\n",
              "              title=\"Convert this dataframe to an interactive table.\"\n",
              "              style=\"display:none;\">\n",
              "        \n",
              "  <svg xmlns=\"http://www.w3.org/2000/svg\" height=\"24px\"viewBox=\"0 0 24 24\"\n",
              "       width=\"24px\">\n",
              "    <path d=\"M0 0h24v24H0V0z\" fill=\"none\"/>\n",
              "    <path d=\"M18.56 5.44l.94 2.06.94-2.06 2.06-.94-2.06-.94-.94-2.06-.94 2.06-2.06.94zm-11 1L8.5 8.5l.94-2.06 2.06-.94-2.06-.94L8.5 2.5l-.94 2.06-2.06.94zm10 10l.94 2.06.94-2.06 2.06-.94-2.06-.94-.94-2.06-.94 2.06-2.06.94z\"/><path d=\"M17.41 7.96l-1.37-1.37c-.4-.4-.92-.59-1.43-.59-.52 0-1.04.2-1.43.59L10.3 9.45l-7.72 7.72c-.78.78-.78 2.05 0 2.83L4 21.41c.39.39.9.59 1.41.59.51 0 1.02-.2 1.41-.59l7.78-7.78 2.81-2.81c.8-.78.8-2.07 0-2.86zM5.41 20L4 18.59l7.72-7.72 1.47 1.35L5.41 20z\"/>\n",
              "  </svg>\n",
              "      </button>\n",
              "      \n",
              "  <style>\n",
              "    .colab-df-container {\n",
              "      display:flex;\n",
              "      flex-wrap:wrap;\n",
              "      gap: 12px;\n",
              "    }\n",
              "\n",
              "    .colab-df-convert {\n",
              "      background-color: #E8F0FE;\n",
              "      border: none;\n",
              "      border-radius: 50%;\n",
              "      cursor: pointer;\n",
              "      display: none;\n",
              "      fill: #1967D2;\n",
              "      height: 32px;\n",
              "      padding: 0 0 0 0;\n",
              "      width: 32px;\n",
              "    }\n",
              "\n",
              "    .colab-df-convert:hover {\n",
              "      background-color: #E2EBFA;\n",
              "      box-shadow: 0px 1px 2px rgba(60, 64, 67, 0.3), 0px 1px 3px 1px rgba(60, 64, 67, 0.15);\n",
              "      fill: #174EA6;\n",
              "    }\n",
              "\n",
              "    [theme=dark] .colab-df-convert {\n",
              "      background-color: #3B4455;\n",
              "      fill: #D2E3FC;\n",
              "    }\n",
              "\n",
              "    [theme=dark] .colab-df-convert:hover {\n",
              "      background-color: #434B5C;\n",
              "      box-shadow: 0px 1px 3px 1px rgba(0, 0, 0, 0.15);\n",
              "      filter: drop-shadow(0px 1px 2px rgba(0, 0, 0, 0.3));\n",
              "      fill: #FFFFFF;\n",
              "    }\n",
              "  </style>\n",
              "\n",
              "      <script>\n",
              "        const buttonEl =\n",
              "          document.querySelector('#df-e93491ca-8d44-4afb-93d3-d10aa91f2e6c button.colab-df-convert');\n",
              "        buttonEl.style.display =\n",
              "          google.colab.kernel.accessAllowed ? 'block' : 'none';\n",
              "\n",
              "        async function convertToInteractive(key) {\n",
              "          const element = document.querySelector('#df-e93491ca-8d44-4afb-93d3-d10aa91f2e6c');\n",
              "          const dataTable =\n",
              "            await google.colab.kernel.invokeFunction('convertToInteractive',\n",
              "                                                     [key], {});\n",
              "          if (!dataTable) return;\n",
              "\n",
              "          const docLinkHtml = 'Like what you see? Visit the ' +\n",
              "            '<a target=\"_blank\" href=https://colab.research.google.com/notebooks/data_table.ipynb>data table notebook</a>'\n",
              "            + ' to learn more about interactive tables.';\n",
              "          element.innerHTML = '';\n",
              "          dataTable['output_type'] = 'display_data';\n",
              "          await google.colab.output.renderOutput(dataTable, element);\n",
              "          const docLink = document.createElement('div');\n",
              "          docLink.innerHTML = docLinkHtml;\n",
              "          element.appendChild(docLink);\n",
              "        }\n",
              "      </script>\n",
              "    </div>\n",
              "  </div>\n",
              "  "
            ]
          },
          "metadata": {},
          "execution_count": 150
        }
      ]
    },
    {
      "cell_type": "markdown",
      "source": [
        "### pandas, numpy, seaborn 불러오기"
      ],
      "metadata": {
        "id": "wSZrnQhrq7v3"
      }
    },
    {
      "cell_type": "code",
      "source": [
        "import pandas as pd\n",
        "import numpy as np\n",
        "import matplotlib.pyplot as plt\n",
        "import seaborn as sns\n",
        "\n",
        "plt.rcParams[\"figure.figsize\"] =(8, 5)"
      ],
      "metadata": {
        "id": "IhMO-VDvrCXG"
      },
      "execution_count": null,
      "outputs": []
    },
    {
      "cell_type": "markdown",
      "source": [
        "### SQL world 테이블 불러오기"
      ],
      "metadata": {
        "id": "_59wV_UcrKtg"
      }
    },
    {
      "cell_type": "code",
      "source": [
        "# AWS 및 MySQL 접속 정보 불러오기\n",
        "HOST = \"####\"\n",
        "DE_USER = \"####\"\n",
        "DB_PASSWD = \"####\"\n",
        "DB_NAME = \"world\"\n",
        "connection = f\"mysql://{DE_USER}:{DB_PASSWD}@{HOST}/{DB_NAME}?charset=utf8\"\n",
        "print(connection)"
      ],
      "metadata": {
        "id": "DXxTunUjrOOf"
      },
      "execution_count": null,
      "outputs": []
    },
    {
      "cell_type": "code",
      "source": [
        "# 엔진 생성\n",
        "engine = create_engine(connection)\n",
        "engine"
      ],
      "metadata": {
        "id": "FWtPTbH6rwNG"
      },
      "execution_count": null,
      "outputs": []
    },
    {
      "cell_type": "markdown",
      "source": [
        "OldGNP, 국가 원수 이름, 해당 국민이 자국을 부르는 명칭, 면적 등은 조회하지 않기로 한다."
      ],
      "metadata": {
        "id": "HwCuZLOd5dCW"
      }
    },
    {
      "cell_type": "code",
      "source": [
        "# 테이블 객체 생성\n",
        "\n",
        "Base = declarative_base()\n",
        "\n",
        "class Country(Base):\n",
        "\n",
        "  __tablename__ = \"country\"\n",
        "\n",
        "  Code           = Column(String(3),primary_key = True)\n",
        "  Name           = Column(String(52))\n",
        "  Continent      = Column(String(100))\n",
        "  Region         = Column(String(100))\n",
        "  Population     = Column(Integer)\n",
        "  LifeExpectancy = Column(Integer)\n",
        "  GNP            = Column(Integer)\n",
        "  GovernmentForm = Column(String(100))\n",
        "\n",
        "  def __init__(self, Code, Name, Continent, Region, Population, LifeExpectancy, GNP, GovernmentForm):\n",
        "    self.Code           = Code\n",
        "    self.Name           = Name\n",
        "    self.Continent      = Continent\n",
        "    self.Region         = Region\n",
        "    self.Population     = Population\n",
        "    self.LifeExpectancy = LifeExpectancy\n",
        "    self.GNP            = GNP\n",
        "    self.GovernmentForm = GovernmentForm\n",
        "\n",
        "  def __repr__(self):\n",
        "    return \"<Country {}, {}, {}, {}, {}, {}, {}, {}>\".format(self.Code, self.Name, self.Continent, self.Region, self.Population, self.LifeExpectancy, self.GNP, self.GovernmentForm)"
      ],
      "metadata": {
        "id": "-6a2D7g71CAO"
      },
      "execution_count": null,
      "outputs": []
    },
    {
      "cell_type": "code",
      "source": [
        "# engine에 연결된 데이터베이스(world db)에 테이블 생성\n",
        "Base.metadata.create_all(engine)"
      ],
      "metadata": {
        "id": "p8axrMYixZD5"
      },
      "execution_count": null,
      "outputs": []
    },
    {
      "cell_type": "code",
      "source": [
        "# 데이터베이스 세션 연결\n",
        "Session = sessionmaker(engine)\n",
        "ses = Session()\n",
        "ses"
      ],
      "metadata": {
        "colab": {
          "base_uri": "https://localhost:8080/"
        },
        "id": "HoVQZplKxhNW",
        "outputId": "603ea219-136e-40c9-d15e-31eee2fd468c"
      },
      "execution_count": null,
      "outputs": [
        {
          "output_type": "execute_result",
          "data": {
            "text/plain": [
              "<sqlalchemy.orm.session.Session at 0x7f4b55ef0d90>"
            ]
          },
          "metadata": {},
          "execution_count": 52
        }
      ]
    },
    {
      "cell_type": "code",
      "source": [
        "Session = sessionmaker(engine)\n",
        "ses = Session()\n",
        "result = ses.query(Country).all()\n",
        "print(len(list(result)))\n",
        "\n",
        "# 원본의 239열과 결과물의 크기가 같은 것을 통해, 원본 테이블이 잘 로드되었음을 확인할 수 있다."
      ],
      "metadata": {
        "colab": {
          "base_uri": "https://localhost:8080/"
        },
        "id": "UDO8M9r_zgkt",
        "outputId": "a01fc1a7-9a05-4617-e1aa-6ee3133a76a5"
      },
      "execution_count": null,
      "outputs": [
        {
          "output_type": "stream",
          "name": "stdout",
          "text": [
            "239\n"
          ]
        }
      ]
    },
    {
      "cell_type": "markdown",
      "source": [
        "## world 테이블의 데이터 분석"
      ],
      "metadata": {
        "id": "iAIhnV3ExlXP"
      }
    },
    {
      "cell_type": "markdown",
      "source": [
        "### GNP 하위 20개국 목록 파악"
      ],
      "metadata": {
        "id": "5oLOqo6PByrs"
      }
    },
    {
      "cell_type": "markdown",
      "source": [
        "우선, GNP 하위 20개 국가들의 목록을 파악하고자 하였다.\n",
        "\n",
        "목록은 `국가코드, 국가명, 대륙, 지역, 인구, 기대수명, GNP, 정부형태` 순이다."
      ],
      "metadata": {
        "id": "5zbb5nVL3Cph"
      }
    },
    {
      "cell_type": "code",
      "source": [
        "result = ses.query(Country).order_by(Country.GNP).limit(20)\n",
        "list(result)"
      ],
      "metadata": {
        "colab": {
          "base_uri": "https://localhost:8080/"
        },
        "id": "7nAcyz8J0nWx",
        "outputId": "4e9b7cb5-2af4-42e2-cd6a-bf444654d11f"
      },
      "execution_count": null,
      "outputs": [
        {
          "output_type": "execute_result",
          "data": {
            "text/plain": [
              "[<Country TKL, Tokelau, Oceania, Polynesia, 2000, None, 0.00, Nonmetropolitan Territory of New Zealand>,\n",
              " <Country GRL, Greenland, North America, North America, 56000, 68.1, 0.00, Part of Denmark>,\n",
              " <Country CXR, Christmas Island, Oceania, Australia and New Zealand, 2500, None, 0.00, Territory of Australia>,\n",
              " <Country IOT, British Indian Ocean Territory, Africa, Eastern Africa, 0, None, 0.00, Dependent Territory of the UK>,\n",
              " <Country MYT, Mayotte, Africa, Eastern Africa, 149000, 59.5, 0.00, Territorial Collectivity of France>,\n",
              " <Country NIU, Niue, Oceania, Polynesia, 2000, None, 0.00, Nonmetropolitan Territory of New Zealand>,\n",
              " <Country CCK, Cocos (Keeling) Islands, Oceania, Australia and New Zealand, 600, None, 0.00, Territory of Australia>,\n",
              " <Country SGS, South Georgia and the South Sandwich Islands, Antarctica, Antarctica, 0, None, 0.00, Dependent Territory of the UK>,\n",
              " <Country PCN, Pitcairn, Oceania, Polynesia, 50, None, 0.00, Dependent Territory of the UK>,\n",
              " <Country ATF, French Southern territories, Antarctica, Antarctica, 0, None, 0.00, Nonmetropolitan Territory of France>,\n",
              " <Country ATA, Antarctica, Antarctica, Antarctica, 0, None, 0.00, Co-administrated>,\n",
              " <Country SJM, Svalbard and Jan Mayen, Europe, Nordic Countries, 3200, None, 0.00, Dependent Territory of Norway>,\n",
              " <Country FRO, Faroe Islands, Europe, Nordic Countries, 43000, 78.4, 0.00, Part of Denmark>,\n",
              " <Country SHN, Saint Helena, Africa, Western Africa, 6000, 76.8, 0.00, Dependent Territory of the UK>,\n",
              " <Country MNP, Northern Mariana Islands, Oceania, Micronesia, 78000, 75.5, 0.00, Commonwealth of the US>,\n",
              " <Country FLK, Falkland Islands, South America, South America, 2000, None, 0.00, Dependent Territory of the UK>,\n",
              " <Country NFK, Norfolk Island, Oceania, Australia and New Zealand, 2000, None, 0.00, Territory of Australia>,\n",
              " <Country SPM, Saint Pierre and Miquelon, North America, North America, 7000, 77.6, 0.00, Territorial Collectivity of France>,\n",
              " <Country HMD, Heard Island and McDonald Islands, Antarctica, Antarctica, 0, None, 0.00, Territory of Australia>,\n",
              " <Country BVT, Bouvet Island, Antarctica, Antarctica, 0, None, 0.00, Dependent Territory of Norway>]"
            ]
          },
          "metadata": {},
          "execution_count": 54
        }
      ]
    },
    {
      "cell_type": "markdown",
      "source": [
        "하지만 위 결과에는 문제가 있었다.\n",
        "\n",
        "1. 정부 형태가 온전한 독립국이 아닌 속령이거나,\n",
        "2. 인구가 없거나,\n",
        "3. 기대수명 데이터가 없다."
      ],
      "metadata": {
        "id": "542nDE1T2yvK"
      }
    },
    {
      "cell_type": "markdown",
      "source": [
        "### GNP 하위 20개국 재확인"
      ],
      "metadata": {
        "id": "nkI6vHX1B6NH"
      }
    },
    {
      "cell_type": "markdown",
      "source": [
        "인구수가 100만명 이상의 경우, 대부분 정부 형태가 독립국이며 기대수명 데이터 또한 수집 되어 있는 것으로 확인되어, 인구수 한가지 조건에 대하여 제약을 걸고 다시 GNP 하위 20개국 목록을 확인하였다."
      ],
      "metadata": {
        "id": "uJLNk5ObCAup"
      }
    },
    {
      "cell_type": "code",
      "source": [
        "result = ses.query(Country).filter(Country.Population>=1000000).order_by(Country.GNP).limit(20)\n",
        "list(result)"
      ],
      "metadata": {
        "colab": {
          "base_uri": "https://localhost:8080/"
        },
        "id": "AIt9XL_C4Gnv",
        "outputId": "45ac41bc-102e-417a-db0d-e066c48e8d9e"
      },
      "execution_count": null,
      "outputs": [
        {
          "output_type": "execute_result",
          "data": {
            "text/plain": [
              "[<Country GNB, Guinea-Bissau, Africa, Western Africa, 1213000, 49.0, 293.00, Republic>,\n",
              " <Country GMB, Gambia, Africa, Western Africa, 1305000, 53.2, 320.00, Republic>,\n",
              " <Country BTN, Bhutan, Asia, Southern and Central Asia, 2124000, 52.4, 372.00, Monarchy>,\n",
              " <Country ERI, Eritrea, Africa, Eastern Africa, 3850000, 55.8, 650.00, Republic>,\n",
              " <Country SLE, Sierra Leone, Africa, Western Africa, 4854000, 45.3, 746.00, Republic>,\n",
              " <Country BDI, Burundi, Africa, Eastern Africa, 6695000, 46.2, 903.00, Republic>,\n",
              " <Country SOM, Somalia, Africa, Eastern Africa, 10097000, 46.2, 935.00, Republic>,\n",
              " <Country MRT, Mauritania, Africa, Western Africa, 2670000, 50.8, 998.00, Republic>,\n",
              " <Country MNG, Mongolia, Asia, Eastern Asia, 2662000, 67.3, 1043.00, Republic>,\n",
              " <Country CAF, Central African Republic, Africa, Central Africa, 3615000, 44.0, 1054.00, Republic>,\n",
              " <Country LSO, Lesotho, Africa, Southern Africa, 2153000, 50.8, 1061.00, Constitutional Monarchy>,\n",
              " <Country SWZ, Swaziland, Africa, Southern Africa, 1008000, 40.4, 1206.00, Monarchy>,\n",
              " <Country TCD, Chad, Africa, Central Africa, 7651000, 50.5, 1208.00, Republic>,\n",
              " <Country LAO, Laos, Asia, Southeast Asia, 5433000, 53.1, 1292.00, Republic>,\n",
              " <Country TGO, Togo, Africa, Western Africa, 4629000, 54.7, 1449.00, Republic>,\n",
              " <Country MDA, Moldova, Europe, Eastern Europe, 4380000, 64.5, 1579.00, Republic>,\n",
              " <Country KGZ, Kyrgyzstan, Asia, Southern and Central Asia, 4699000, 63.4, 1626.00, Republic>,\n",
              " <Country MWI, Malawi, Africa, Eastern Africa, 10925000, 37.6, 1687.00, Republic>,\n",
              " <Country MKD, Macedonia, Europe, Southern Europe, 2024000, 73.8, 1694.00, Republic>,\n",
              " <Country NER, Niger, Africa, Western Africa, 10730000, 41.3, 1706.00, Republic>]"
            ]
          },
          "metadata": {},
          "execution_count": 55
        }
      ]
    },
    {
      "cell_type": "markdown",
      "source": [
        "### 전체 국가의 기대 수명 확인"
      ],
      "metadata": {
        "id": "VuCw0Ni5CB21"
      }
    },
    {
      "cell_type": "markdown",
      "source": [
        "이에 해당 국가들의 평균 수명이 전체 국가의 평균수명과 얼마나 차이가 있는 지 조회하였다."
      ],
      "metadata": {
        "id": "XCUJkaMh4qxb"
      }
    },
    {
      "cell_type": "code",
      "source": [
        "# 인구수가 100만 이상인 전체 국가들의 평균 수명\n",
        "result = ses.query(func.avg(Country.LifeExpectancy)).filter(Country.Population >= 1000000).one()\n",
        "print(int(result[0]))"
      ],
      "metadata": {
        "colab": {
          "base_uri": "https://localhost:8080/"
        },
        "id": "aNvdpZ2j6aqq",
        "outputId": "830bef51-518b-45af-9c74-987702b39045"
      },
      "execution_count": null,
      "outputs": [
        {
          "output_type": "stream",
          "name": "stdout",
          "text": [
            "64\n"
          ]
        }
      ]
    },
    {
      "cell_type": "markdown",
      "source": [
        "### GNP 하위 20개 국가의 기대 수명 확인"
      ],
      "metadata": {
        "id": "FvFlrPUQCF2H"
      }
    },
    {
      "cell_type": "markdown",
      "source": [
        "더불어 인구수 100만 이상인 국가 중 GNP 하위 20개 국들의 평균 수명을 계산하였다."
      ],
      "metadata": {
        "id": "oXWeFTteAO5V"
      }
    },
    {
      "cell_type": "code",
      "source": [
        "result = ses.query(Country.LifeExpectancy).filter(Country.Population>=1000000).order_by(Country.GNP).limit(20)\n",
        "res = list(result)\n",
        "print(res)"
      ],
      "metadata": {
        "id": "_D7zXLHn7DNj",
        "colab": {
          "base_uri": "https://localhost:8080/"
        },
        "outputId": "ac5128e9-2000-4f25-d15a-60dee9152e1a"
      },
      "execution_count": null,
      "outputs": [
        {
          "output_type": "stream",
          "name": "stdout",
          "text": [
            "[(Decimal('49.0'),), (Decimal('53.2'),), (Decimal('52.4'),), (Decimal('55.8'),), (Decimal('45.3'),), (Decimal('46.2'),), (Decimal('46.2'),), (Decimal('50.8'),), (Decimal('67.3'),), (Decimal('44.0'),), (Decimal('50.8'),), (Decimal('40.4'),), (Decimal('50.5'),), (Decimal('53.1'),), (Decimal('54.7'),), (Decimal('64.5'),), (Decimal('63.4'),), (Decimal('37.6'),), (Decimal('73.8'),), (Decimal('41.3'),)]\n"
          ]
        }
      ]
    },
    {
      "cell_type": "code",
      "source": [
        "life_sum = 0\n",
        "for i in range(0,19):\n",
        "  life_sum += int(res[i][0])\n",
        "print(life_sum/20)"
      ],
      "metadata": {
        "colab": {
          "base_uri": "https://localhost:8080/"
        },
        "id": "CPxo-eRY-N9b",
        "outputId": "410cf94d-9ecc-4237-e413-32ba380bd964"
      },
      "execution_count": null,
      "outputs": [
        {
          "output_type": "stream",
          "name": "stdout",
          "text": [
            "49.55\n"
          ]
        }
      ]
    },
    {
      "cell_type": "markdown",
      "source": [
        "### GNP 상위 20개 국가의 기대 수명 확인"
      ],
      "metadata": {
        "id": "exvjROsKCKeL"
      }
    },
    {
      "cell_type": "markdown",
      "source": [
        "보다 명확한 비교를 위해, 인구수 100만 이상인 국가 중 GNP 상위 20개 국들의 평균 수명을 계산하였다."
      ],
      "metadata": {
        "id": "kn2b05lxAqJy"
      }
    },
    {
      "cell_type": "code",
      "source": [
        "result = ses.query(Country.LifeExpectancy).filter(Country.Population>=1000000).order_by(Country.GNP.desc()).limit(20)\n",
        "res = list(result)\n",
        "print(res)"
      ],
      "metadata": {
        "colab": {
          "base_uri": "https://localhost:8080/"
        },
        "id": "RzB2jrNg_qTU",
        "outputId": "33112e8d-3a8e-43ec-b9c6-d0f05ed99393"
      },
      "execution_count": null,
      "outputs": [
        {
          "output_type": "stream",
          "name": "stdout",
          "text": [
            "[(Decimal('77.1'),), (Decimal('80.7'),), (Decimal('77.4'),), (Decimal('78.8'),), (Decimal('77.7'),), (Decimal('79.0'),), (Decimal('71.4'),), (Decimal('62.9'),), (Decimal('79.4'),), (Decimal('78.8'),), (Decimal('62.5'),), (Decimal('71.5'),), (Decimal('78.3'),), (Decimal('79.8'),), (Decimal('75.1'),), (Decimal('74.4'),), (Decimal('67.2'),), (Decimal('79.6'),), (Decimal('76.4'),), (Decimal('77.8'),)]\n"
          ]
        }
      ]
    },
    {
      "cell_type": "code",
      "source": [
        "life_sum = 0\n",
        "for i in range(0,19):\n",
        "  life_sum += int(res[i][0])\n",
        "print(life_sum/20)"
      ],
      "metadata": {
        "colab": {
          "base_uri": "https://localhost:8080/"
        },
        "id": "KcRPYDD9AfJs",
        "outputId": "68a94284-97cf-4e32-ab28-177e583b0810"
      },
      "execution_count": null,
      "outputs": [
        {
          "output_type": "stream",
          "name": "stdout",
          "text": [
            "70.95\n"
          ]
        }
      ]
    },
    {
      "cell_type": "markdown",
      "source": [
        "### 분석 결과"
      ],
      "metadata": {
        "id": "wAlLUWZLCN7_"
      }
    },
    {
      "cell_type": "markdown",
      "source": [
        "- 인구수 100만 명 이상인 전체 국가의 기대 수명은 **64세**,\n",
        "- GNP 하위 20개 국의 기대 수명은 **49.55세**,\n",
        "- GNP 상위 20개 국의 기대 수명은 **70.85세**인 것으로 나타났다.\n",
        "\n",
        "해당 결과를 통해서, GNP와 기대 수명 사이에는 상관관계가 있음을 짐작해볼 수 있었다."
      ],
      "metadata": {
        "id": "XCbjqn5kA2gk"
      }
    },
    {
      "cell_type": "markdown",
      "source": [
        "## 시각적 자료를 통한 분석 "
      ],
      "metadata": {
        "id": "Q-l6Dv61EMGs"
      }
    },
    {
      "cell_type": "markdown",
      "source": [
        "### seaborn 이용"
      ],
      "metadata": {
        "id": "2cBEKGellA5y"
      }
    },
    {
      "cell_type": "markdown",
      "source": [
        "하지만, 인구수 100만 이상의 국가에 대한 시각적인 데이터를 한 눈에 파악하면 다른 결과가 있으리라 생각했다."
      ],
      "metadata": {
        "id": "dE1muCUJIgzW"
      }
    },
    {
      "cell_type": "code",
      "source": [
        "# sqldb를 로드하며 생성한 데이터프레임을 확인한다.\n",
        "df_country.head()"
      ],
      "metadata": {
        "colab": {
          "base_uri": "https://localhost:8080/",
          "height": 371
        },
        "id": "dLblJYG7ET_P",
        "outputId": "03192686-b778-4077-e736-3a7c47072522"
      },
      "execution_count": null,
      "outputs": [
        {
          "output_type": "execute_result",
          "data": {
            "text/plain": [
              "  Code         Name      Continent                     Region  SurfaceArea  \\\n",
              "0  ABW        Aruba  North America                  Caribbean        193.0   \n",
              "1  AFG  Afghanistan           Asia  Southern and Central Asia     652090.0   \n",
              "2  AGO       Angola         Africa             Central Africa    1246700.0   \n",
              "3  AIA     Anguilla  North America                  Caribbean         96.0   \n",
              "4  ALB      Albania         Europe            Southern Europe      28748.0   \n",
              "\n",
              "   IndepYear  Population  LifeExpectancy     GNP  GNPOld  \\\n",
              "0        NaN      103000            78.4   828.0   793.0   \n",
              "1     1919.0    22720000            45.9  5976.0     NaN   \n",
              "2     1975.0    12878000            38.3  6648.0  7984.0   \n",
              "3        NaN        8000            76.1    63.2     NaN   \n",
              "4     1912.0     3401200            71.6  3205.0  2500.0   \n",
              "\n",
              "               LocalName                                GovernmentForm  \\\n",
              "0                  Aruba  Nonmetropolitan Territory of The Netherlands   \n",
              "1  Afganistan/Afqanestan                               Islamic Emirate   \n",
              "2                 Angola                                      Republic   \n",
              "3               Anguilla                 Dependent Territory of the UK   \n",
              "4              Shqipëria                                      Republic   \n",
              "\n",
              "               HeadOfState  Capital Code2  \n",
              "0                  Beatrix    129.0    AW  \n",
              "1            Mohammad Omar      1.0    AF  \n",
              "2  José Eduardo dos Santos     56.0    AO  \n",
              "3             Elisabeth II     62.0    AI  \n",
              "4           Rexhep Mejdani     34.0    AL  "
            ],
            "text/html": [
              "\n",
              "  <div id=\"df-2dbe9760-2312-4441-9866-9bf8e7c5e4da\">\n",
              "    <div class=\"colab-df-container\">\n",
              "      <div>\n",
              "<style scoped>\n",
              "    .dataframe tbody tr th:only-of-type {\n",
              "        vertical-align: middle;\n",
              "    }\n",
              "\n",
              "    .dataframe tbody tr th {\n",
              "        vertical-align: top;\n",
              "    }\n",
              "\n",
              "    .dataframe thead th {\n",
              "        text-align: right;\n",
              "    }\n",
              "</style>\n",
              "<table border=\"1\" class=\"dataframe\">\n",
              "  <thead>\n",
              "    <tr style=\"text-align: right;\">\n",
              "      <th></th>\n",
              "      <th>Code</th>\n",
              "      <th>Name</th>\n",
              "      <th>Continent</th>\n",
              "      <th>Region</th>\n",
              "      <th>SurfaceArea</th>\n",
              "      <th>IndepYear</th>\n",
              "      <th>Population</th>\n",
              "      <th>LifeExpectancy</th>\n",
              "      <th>GNP</th>\n",
              "      <th>GNPOld</th>\n",
              "      <th>LocalName</th>\n",
              "      <th>GovernmentForm</th>\n",
              "      <th>HeadOfState</th>\n",
              "      <th>Capital</th>\n",
              "      <th>Code2</th>\n",
              "    </tr>\n",
              "  </thead>\n",
              "  <tbody>\n",
              "    <tr>\n",
              "      <th>0</th>\n",
              "      <td>ABW</td>\n",
              "      <td>Aruba</td>\n",
              "      <td>North America</td>\n",
              "      <td>Caribbean</td>\n",
              "      <td>193.0</td>\n",
              "      <td>NaN</td>\n",
              "      <td>103000</td>\n",
              "      <td>78.4</td>\n",
              "      <td>828.0</td>\n",
              "      <td>793.0</td>\n",
              "      <td>Aruba</td>\n",
              "      <td>Nonmetropolitan Territory of The Netherlands</td>\n",
              "      <td>Beatrix</td>\n",
              "      <td>129.0</td>\n",
              "      <td>AW</td>\n",
              "    </tr>\n",
              "    <tr>\n",
              "      <th>1</th>\n",
              "      <td>AFG</td>\n",
              "      <td>Afghanistan</td>\n",
              "      <td>Asia</td>\n",
              "      <td>Southern and Central Asia</td>\n",
              "      <td>652090.0</td>\n",
              "      <td>1919.0</td>\n",
              "      <td>22720000</td>\n",
              "      <td>45.9</td>\n",
              "      <td>5976.0</td>\n",
              "      <td>NaN</td>\n",
              "      <td>Afganistan/Afqanestan</td>\n",
              "      <td>Islamic Emirate</td>\n",
              "      <td>Mohammad Omar</td>\n",
              "      <td>1.0</td>\n",
              "      <td>AF</td>\n",
              "    </tr>\n",
              "    <tr>\n",
              "      <th>2</th>\n",
              "      <td>AGO</td>\n",
              "      <td>Angola</td>\n",
              "      <td>Africa</td>\n",
              "      <td>Central Africa</td>\n",
              "      <td>1246700.0</td>\n",
              "      <td>1975.0</td>\n",
              "      <td>12878000</td>\n",
              "      <td>38.3</td>\n",
              "      <td>6648.0</td>\n",
              "      <td>7984.0</td>\n",
              "      <td>Angola</td>\n",
              "      <td>Republic</td>\n",
              "      <td>José Eduardo dos Santos</td>\n",
              "      <td>56.0</td>\n",
              "      <td>AO</td>\n",
              "    </tr>\n",
              "    <tr>\n",
              "      <th>3</th>\n",
              "      <td>AIA</td>\n",
              "      <td>Anguilla</td>\n",
              "      <td>North America</td>\n",
              "      <td>Caribbean</td>\n",
              "      <td>96.0</td>\n",
              "      <td>NaN</td>\n",
              "      <td>8000</td>\n",
              "      <td>76.1</td>\n",
              "      <td>63.2</td>\n",
              "      <td>NaN</td>\n",
              "      <td>Anguilla</td>\n",
              "      <td>Dependent Territory of the UK</td>\n",
              "      <td>Elisabeth II</td>\n",
              "      <td>62.0</td>\n",
              "      <td>AI</td>\n",
              "    </tr>\n",
              "    <tr>\n",
              "      <th>4</th>\n",
              "      <td>ALB</td>\n",
              "      <td>Albania</td>\n",
              "      <td>Europe</td>\n",
              "      <td>Southern Europe</td>\n",
              "      <td>28748.0</td>\n",
              "      <td>1912.0</td>\n",
              "      <td>3401200</td>\n",
              "      <td>71.6</td>\n",
              "      <td>3205.0</td>\n",
              "      <td>2500.0</td>\n",
              "      <td>Shqipëria</td>\n",
              "      <td>Republic</td>\n",
              "      <td>Rexhep Mejdani</td>\n",
              "      <td>34.0</td>\n",
              "      <td>AL</td>\n",
              "    </tr>\n",
              "  </tbody>\n",
              "</table>\n",
              "</div>\n",
              "      <button class=\"colab-df-convert\" onclick=\"convertToInteractive('df-2dbe9760-2312-4441-9866-9bf8e7c5e4da')\"\n",
              "              title=\"Convert this dataframe to an interactive table.\"\n",
              "              style=\"display:none;\">\n",
              "        \n",
              "  <svg xmlns=\"http://www.w3.org/2000/svg\" height=\"24px\"viewBox=\"0 0 24 24\"\n",
              "       width=\"24px\">\n",
              "    <path d=\"M0 0h24v24H0V0z\" fill=\"none\"/>\n",
              "    <path d=\"M18.56 5.44l.94 2.06.94-2.06 2.06-.94-2.06-.94-.94-2.06-.94 2.06-2.06.94zm-11 1L8.5 8.5l.94-2.06 2.06-.94-2.06-.94L8.5 2.5l-.94 2.06-2.06.94zm10 10l.94 2.06.94-2.06 2.06-.94-2.06-.94-.94-2.06-.94 2.06-2.06.94z\"/><path d=\"M17.41 7.96l-1.37-1.37c-.4-.4-.92-.59-1.43-.59-.52 0-1.04.2-1.43.59L10.3 9.45l-7.72 7.72c-.78.78-.78 2.05 0 2.83L4 21.41c.39.39.9.59 1.41.59.51 0 1.02-.2 1.41-.59l7.78-7.78 2.81-2.81c.8-.78.8-2.07 0-2.86zM5.41 20L4 18.59l7.72-7.72 1.47 1.35L5.41 20z\"/>\n",
              "  </svg>\n",
              "      </button>\n",
              "      \n",
              "  <style>\n",
              "    .colab-df-container {\n",
              "      display:flex;\n",
              "      flex-wrap:wrap;\n",
              "      gap: 12px;\n",
              "    }\n",
              "\n",
              "    .colab-df-convert {\n",
              "      background-color: #E8F0FE;\n",
              "      border: none;\n",
              "      border-radius: 50%;\n",
              "      cursor: pointer;\n",
              "      display: none;\n",
              "      fill: #1967D2;\n",
              "      height: 32px;\n",
              "      padding: 0 0 0 0;\n",
              "      width: 32px;\n",
              "    }\n",
              "\n",
              "    .colab-df-convert:hover {\n",
              "      background-color: #E2EBFA;\n",
              "      box-shadow: 0px 1px 2px rgba(60, 64, 67, 0.3), 0px 1px 3px 1px rgba(60, 64, 67, 0.15);\n",
              "      fill: #174EA6;\n",
              "    }\n",
              "\n",
              "    [theme=dark] .colab-df-convert {\n",
              "      background-color: #3B4455;\n",
              "      fill: #D2E3FC;\n",
              "    }\n",
              "\n",
              "    [theme=dark] .colab-df-convert:hover {\n",
              "      background-color: #434B5C;\n",
              "      box-shadow: 0px 1px 3px 1px rgba(0, 0, 0, 0.15);\n",
              "      filter: drop-shadow(0px 1px 2px rgba(0, 0, 0, 0.3));\n",
              "      fill: #FFFFFF;\n",
              "    }\n",
              "  </style>\n",
              "\n",
              "      <script>\n",
              "        const buttonEl =\n",
              "          document.querySelector('#df-2dbe9760-2312-4441-9866-9bf8e7c5e4da button.colab-df-convert');\n",
              "        buttonEl.style.display =\n",
              "          google.colab.kernel.accessAllowed ? 'block' : 'none';\n",
              "\n",
              "        async function convertToInteractive(key) {\n",
              "          const element = document.querySelector('#df-2dbe9760-2312-4441-9866-9bf8e7c5e4da');\n",
              "          const dataTable =\n",
              "            await google.colab.kernel.invokeFunction('convertToInteractive',\n",
              "                                                     [key], {});\n",
              "          if (!dataTable) return;\n",
              "\n",
              "          const docLinkHtml = 'Like what you see? Visit the ' +\n",
              "            '<a target=\"_blank\" href=https://colab.research.google.com/notebooks/data_table.ipynb>data table notebook</a>'\n",
              "            + ' to learn more about interactive tables.';\n",
              "          element.innerHTML = '';\n",
              "          dataTable['output_type'] = 'display_data';\n",
              "          await google.colab.output.renderOutput(dataTable, element);\n",
              "          const docLink = document.createElement('div');\n",
              "          docLink.innerHTML = docLinkHtml;\n",
              "          element.appendChild(docLink);\n",
              "        }\n",
              "      </script>\n",
              "    </div>\n",
              "  </div>\n",
              "  "
            ]
          },
          "metadata": {},
          "execution_count": 128
        }
      ]
    },
    {
      "cell_type": "code",
      "source": [
        "df_country.drop(['Code','SurfaceArea','IndepYear','GNPOld','LocalName','HeadOfState','Capital','Code2'], axis = 1, inplace =True)"
      ],
      "metadata": {
        "id": "1m2z_GflEkHj"
      },
      "execution_count": null,
      "outputs": []
    },
    {
      "cell_type": "code",
      "source": [
        "df_country.head()"
      ],
      "metadata": {
        "colab": {
          "base_uri": "https://localhost:8080/",
          "height": 206
        },
        "id": "DPXYN6qAEpF2",
        "outputId": "93bcf41a-1868-401d-c676-089d88da71b3"
      },
      "execution_count": null,
      "outputs": [
        {
          "output_type": "execute_result",
          "data": {
            "text/plain": [
              "          Name      Continent                     Region  Population  \\\n",
              "0        Aruba  North America                  Caribbean      103000   \n",
              "1  Afghanistan           Asia  Southern and Central Asia    22720000   \n",
              "2       Angola         Africa             Central Africa    12878000   \n",
              "3     Anguilla  North America                  Caribbean        8000   \n",
              "4      Albania         Europe            Southern Europe     3401200   \n",
              "\n",
              "   LifeExpectancy     GNP                                GovernmentForm  \n",
              "0            78.4   828.0  Nonmetropolitan Territory of The Netherlands  \n",
              "1            45.9  5976.0                               Islamic Emirate  \n",
              "2            38.3  6648.0                                      Republic  \n",
              "3            76.1    63.2                 Dependent Territory of the UK  \n",
              "4            71.6  3205.0                                      Republic  "
            ],
            "text/html": [
              "\n",
              "  <div id=\"df-964f4b0e-c1a0-49cf-8cc4-7b8334eeb142\">\n",
              "    <div class=\"colab-df-container\">\n",
              "      <div>\n",
              "<style scoped>\n",
              "    .dataframe tbody tr th:only-of-type {\n",
              "        vertical-align: middle;\n",
              "    }\n",
              "\n",
              "    .dataframe tbody tr th {\n",
              "        vertical-align: top;\n",
              "    }\n",
              "\n",
              "    .dataframe thead th {\n",
              "        text-align: right;\n",
              "    }\n",
              "</style>\n",
              "<table border=\"1\" class=\"dataframe\">\n",
              "  <thead>\n",
              "    <tr style=\"text-align: right;\">\n",
              "      <th></th>\n",
              "      <th>Name</th>\n",
              "      <th>Continent</th>\n",
              "      <th>Region</th>\n",
              "      <th>Population</th>\n",
              "      <th>LifeExpectancy</th>\n",
              "      <th>GNP</th>\n",
              "      <th>GovernmentForm</th>\n",
              "    </tr>\n",
              "  </thead>\n",
              "  <tbody>\n",
              "    <tr>\n",
              "      <th>0</th>\n",
              "      <td>Aruba</td>\n",
              "      <td>North America</td>\n",
              "      <td>Caribbean</td>\n",
              "      <td>103000</td>\n",
              "      <td>78.4</td>\n",
              "      <td>828.0</td>\n",
              "      <td>Nonmetropolitan Territory of The Netherlands</td>\n",
              "    </tr>\n",
              "    <tr>\n",
              "      <th>1</th>\n",
              "      <td>Afghanistan</td>\n",
              "      <td>Asia</td>\n",
              "      <td>Southern and Central Asia</td>\n",
              "      <td>22720000</td>\n",
              "      <td>45.9</td>\n",
              "      <td>5976.0</td>\n",
              "      <td>Islamic Emirate</td>\n",
              "    </tr>\n",
              "    <tr>\n",
              "      <th>2</th>\n",
              "      <td>Angola</td>\n",
              "      <td>Africa</td>\n",
              "      <td>Central Africa</td>\n",
              "      <td>12878000</td>\n",
              "      <td>38.3</td>\n",
              "      <td>6648.0</td>\n",
              "      <td>Republic</td>\n",
              "    </tr>\n",
              "    <tr>\n",
              "      <th>3</th>\n",
              "      <td>Anguilla</td>\n",
              "      <td>North America</td>\n",
              "      <td>Caribbean</td>\n",
              "      <td>8000</td>\n",
              "      <td>76.1</td>\n",
              "      <td>63.2</td>\n",
              "      <td>Dependent Territory of the UK</td>\n",
              "    </tr>\n",
              "    <tr>\n",
              "      <th>4</th>\n",
              "      <td>Albania</td>\n",
              "      <td>Europe</td>\n",
              "      <td>Southern Europe</td>\n",
              "      <td>3401200</td>\n",
              "      <td>71.6</td>\n",
              "      <td>3205.0</td>\n",
              "      <td>Republic</td>\n",
              "    </tr>\n",
              "  </tbody>\n",
              "</table>\n",
              "</div>\n",
              "      <button class=\"colab-df-convert\" onclick=\"convertToInteractive('df-964f4b0e-c1a0-49cf-8cc4-7b8334eeb142')\"\n",
              "              title=\"Convert this dataframe to an interactive table.\"\n",
              "              style=\"display:none;\">\n",
              "        \n",
              "  <svg xmlns=\"http://www.w3.org/2000/svg\" height=\"24px\"viewBox=\"0 0 24 24\"\n",
              "       width=\"24px\">\n",
              "    <path d=\"M0 0h24v24H0V0z\" fill=\"none\"/>\n",
              "    <path d=\"M18.56 5.44l.94 2.06.94-2.06 2.06-.94-2.06-.94-.94-2.06-.94 2.06-2.06.94zm-11 1L8.5 8.5l.94-2.06 2.06-.94-2.06-.94L8.5 2.5l-.94 2.06-2.06.94zm10 10l.94 2.06.94-2.06 2.06-.94-2.06-.94-.94-2.06-.94 2.06-2.06.94z\"/><path d=\"M17.41 7.96l-1.37-1.37c-.4-.4-.92-.59-1.43-.59-.52 0-1.04.2-1.43.59L10.3 9.45l-7.72 7.72c-.78.78-.78 2.05 0 2.83L4 21.41c.39.39.9.59 1.41.59.51 0 1.02-.2 1.41-.59l7.78-7.78 2.81-2.81c.8-.78.8-2.07 0-2.86zM5.41 20L4 18.59l7.72-7.72 1.47 1.35L5.41 20z\"/>\n",
              "  </svg>\n",
              "      </button>\n",
              "      \n",
              "  <style>\n",
              "    .colab-df-container {\n",
              "      display:flex;\n",
              "      flex-wrap:wrap;\n",
              "      gap: 12px;\n",
              "    }\n",
              "\n",
              "    .colab-df-convert {\n",
              "      background-color: #E8F0FE;\n",
              "      border: none;\n",
              "      border-radius: 50%;\n",
              "      cursor: pointer;\n",
              "      display: none;\n",
              "      fill: #1967D2;\n",
              "      height: 32px;\n",
              "      padding: 0 0 0 0;\n",
              "      width: 32px;\n",
              "    }\n",
              "\n",
              "    .colab-df-convert:hover {\n",
              "      background-color: #E2EBFA;\n",
              "      box-shadow: 0px 1px 2px rgba(60, 64, 67, 0.3), 0px 1px 3px 1px rgba(60, 64, 67, 0.15);\n",
              "      fill: #174EA6;\n",
              "    }\n",
              "\n",
              "    [theme=dark] .colab-df-convert {\n",
              "      background-color: #3B4455;\n",
              "      fill: #D2E3FC;\n",
              "    }\n",
              "\n",
              "    [theme=dark] .colab-df-convert:hover {\n",
              "      background-color: #434B5C;\n",
              "      box-shadow: 0px 1px 3px 1px rgba(0, 0, 0, 0.15);\n",
              "      filter: drop-shadow(0px 1px 2px rgba(0, 0, 0, 0.3));\n",
              "      fill: #FFFFFF;\n",
              "    }\n",
              "  </style>\n",
              "\n",
              "      <script>\n",
              "        const buttonEl =\n",
              "          document.querySelector('#df-964f4b0e-c1a0-49cf-8cc4-7b8334eeb142 button.colab-df-convert');\n",
              "        buttonEl.style.display =\n",
              "          google.colab.kernel.accessAllowed ? 'block' : 'none';\n",
              "\n",
              "        async function convertToInteractive(key) {\n",
              "          const element = document.querySelector('#df-964f4b0e-c1a0-49cf-8cc4-7b8334eeb142');\n",
              "          const dataTable =\n",
              "            await google.colab.kernel.invokeFunction('convertToInteractive',\n",
              "                                                     [key], {});\n",
              "          if (!dataTable) return;\n",
              "\n",
              "          const docLinkHtml = 'Like what you see? Visit the ' +\n",
              "            '<a target=\"_blank\" href=https://colab.research.google.com/notebooks/data_table.ipynb>data table notebook</a>'\n",
              "            + ' to learn more about interactive tables.';\n",
              "          element.innerHTML = '';\n",
              "          dataTable['output_type'] = 'display_data';\n",
              "          await google.colab.output.renderOutput(dataTable, element);\n",
              "          const docLink = document.createElement('div');\n",
              "          docLink.innerHTML = docLinkHtml;\n",
              "          element.appendChild(docLink);\n",
              "        }\n",
              "      </script>\n",
              "    </div>\n",
              "  </div>\n",
              "  "
            ]
          },
          "metadata": {},
          "execution_count": 152
        }
      ]
    },
    {
      "cell_type": "code",
      "source": [
        "sns.boxplot(y='GNP', data = df_country)\n",
        "plt.title(\"GNP\")\n",
        "plt.show()"
      ],
      "metadata": {
        "colab": {
          "base_uri": "https://localhost:8080/",
          "height": 322
        },
        "id": "TuvheE9DI61d",
        "outputId": "bafd76cf-27e8-4f2c-93d4-7b4dbe56ce72"
      },
      "execution_count": null,
      "outputs": [
        {
          "output_type": "display_data",
          "data": {
            "text/plain": [
              "<Figure size 576x360 with 1 Axes>"
            ],
            "image/png": "[encoded data removed]"
          },
          "metadata": {
            "needs_background": "light"
          }
        }
      ]
    },
    {
      "cell_type": "code",
      "source": [
        "pop_mask = df_country[df_country[\"Population\"] >= 1000000].index\n",
        "df = df_country.drop(pop_mask, axis = 0)"
      ],
      "metadata": {
        "id": "hoPAfmCPEvfH"
      },
      "execution_count": null,
      "outputs": []
    },
    {
      "cell_type": "code",
      "source": [
        "gnp_mask = df[df[\"GNP\"] >= 4000].index\n",
        "df_drop = df.drop(gnp_mask, axis = 0)"
      ],
      "metadata": {
        "id": "NJ4kSoUdHDhp"
      },
      "execution_count": null,
      "outputs": []
    },
    {
      "cell_type": "code",
      "source": [
        "sns.lmplot(x='LifeExpectancy', y='GNP', data = df)"
      ],
      "metadata": {
        "colab": {
          "base_uri": "https://localhost:8080/",
          "height": 387
        },
        "id": "dkKXjHGfFUFP",
        "outputId": "752b8ad7-d6a9-40b0-a167-dab16c8b0225"
      },
      "execution_count": null,
      "outputs": [
        {
          "output_type": "execute_result",
          "data": {
            "text/plain": [
              "<seaborn.axisgrid.FacetGrid at 0x7f4b57f584d0>"
            ]
          },
          "metadata": {},
          "execution_count": 178
        },
        {
          "output_type": "display_data",
          "data": {
            "text/plain": [
              "<Figure size 360x360 with 1 Axes>"
            ],
            "image/png": "[encoded data removed]"
          },
          "metadata": {
            "needs_background": "light"
          }
        }
      ]
    },
    {
      "cell_type": "code",
      "source": [
        "sns.lmplot(x='LifeExpectancy', y='GNP', data = df_drop)"
      ],
      "metadata": {
        "colab": {
          "base_uri": "https://localhost:8080/",
          "height": 387
        },
        "id": "xL18L_W4Gn-e",
        "outputId": "411eb573-56e1-41c5-f3d6-a43fa3dd0289"
      },
      "execution_count": null,
      "outputs": [
        {
          "output_type": "execute_result",
          "data": {
            "text/plain": [
              "<seaborn.axisgrid.FacetGrid at 0x7f4b52531250>"
            ]
          },
          "metadata": {},
          "execution_count": 184
        },
        {
          "output_type": "display_data",
          "data": {
            "text/plain": [
              "<Figure size 360x360 with 1 Axes>"
            ],
            "image/png": "[encoded data removed]"
          },
          "metadata": {
            "needs_background": "light"
          }
        }
      ]
    },
    {
      "cell_type": "markdown",
      "source": [
        "- GNP가 아웃라이어로 나타나는 국가들의 기대수명 자료를 제거하여도, 그래프상으로는 강한 상관관계를 찾기 어려웠다."
      ],
      "metadata": {
        "id": "hai5chhSIa_o"
      }
    }
  ]
}